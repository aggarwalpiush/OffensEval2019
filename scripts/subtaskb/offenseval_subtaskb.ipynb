{
 "cells": [
  {
   "cell_type": "markdown",
   "metadata": {
    "_cell_guid": "2bb697bf-4e6e-4910-8492-210982fd3f6f",
    "_uuid": "c712bd0507f2024a05041440117bfc59d9ebe6fb"
   },
   "source": [
    "# Text Classification Using Word Embeddings"
   ]
  },
  {
   "cell_type": "markdown",
   "metadata": {
    "_cell_guid": "8dab20b0-8175-48f5-b165-f9e0d417fe42",
    "_uuid": "6eb5fc082d73dc2a095f5e5526b3887bd844f62a"
   },
   "source": [
    "## Introduction\n",
    "We are going to use the Donors Choose dataset to classify text, determining if a teacher's proposal was accepted or rejected. Therefore we will be using binary classification techniques. Transforming the essays into numerical data by using pre-trained word embeddings. You need a pre-trained word embedding dataset, I used the Glove.50d dataset. Word embeddings capture the implicit relations between words by determining how often a word appears to other words in the training documents. In this case the embeddings are trained using articles from wikipedia."
   ]
  },
  {
   "cell_type": "code",
   "execution_count": 94,
   "metadata": {
    "_cell_guid": "c2bd46b7-9631-4dbb-8378-978f110b20f3",
    "_uuid": "3c9d1806ccb8422d85821be63f4efa04f8e2005b"
   },
   "outputs": [],
   "source": [
    "%matplotlib inline  \n",
    "import pandas as pd\n",
    "import numpy as np\n",
    "import matplotlib.pyplot as plt\n",
    "from nltk.tokenize import word_tokenize\n",
    "from imblearn.under_sampling import RandomUnderSampler\n",
    "from imblearn.over_sampling import RandomOverSampler\n",
    "from sklearn.model_selection import GridSearchCV\n",
    "from sklearn.preprocessing import scale\n",
    "from sklearn.preprocessing import MinMaxScaler\n",
    "from sklearn.metrics import f1_score\n",
    "from sklearn.metrics import confusion_matrix\n",
    "from sklearn.metrics import recall_score\n",
    "from sklearn.metrics import precision_score\n",
    "from sklearn.metrics import roc_curve\n",
    "from sklearn.base import TransformerMixin\n",
    "from sklearn.neural_network import MLPClassifier\n",
    "from sklearn.linear_model import LogisticRegression\n",
    "from sklearn.linear_model import LogisticRegressionCV\n",
    "from sklearn.pipeline import Pipeline\n",
    "from sklearn.neighbors import KNeighborsClassifier\n",
    "from sklearn.tree import DecisionTreeClassifier\n",
    "from sklearn.metrics import roc_auc_score\n",
    "from sklearn.preprocessing import LabelEncoder\n",
    "from sklearn.model_selection import train_test_split\n",
    "from sklearn.feature_extraction.text import CountVectorizer\n",
    "from sklearn.feature_extraction.text import TfidfTransformer\n",
    "from sklearn.ensemble import RandomForestClassifier\n",
    "from sklearn.metrics import confusion_matrix\n",
    "from sklearn.naive_bayes import MultinomialNB\n",
    "from imblearn.over_sampling import RandomOverSampler\n",
    "from sklearn.svm import SVC\n",
    "from sklearn.svm import LinearSVC\n",
    "from preprocessor_arc import Arc_preprocessor\n",
    "from sklearn.metrics import accuracy_score\n",
    "import nltk\n",
    "from nltk.corpus import webtext\n",
    "from nltk.collocations import BigramCollocationFinder\n",
    "from nltk.collocations import TrigramCollocationFinder\n",
    "from nltk.metrics import BigramAssocMeasures\n",
    "from sklearn.preprocessing import OneHotEncoder\n",
    "import string\n",
    "from sklearn.preprocessing import scale\n",
    "from sklearn.preprocessing import StandardScaler"
   ]
  },
  {
   "cell_type": "markdown",
   "metadata": {
    "_cell_guid": "1e25cdef-470e-4143-a81c-b1fd35f1ba3e",
    "_uuid": "5ece816e35d11b41b7563953904f60c14ab49dd4"
   },
   "source": [
    "Now some setup, defining the transformer that transforms the essay data into word embeddings. This will be done word by word, and then the word vectors will be averaged to find the document mean vector."
   ]
  },
  {
   "cell_type": "code",
   "execution_count": 95,
   "metadata": {
    "_cell_guid": "108b17d1-bfb2-4973-839f-bd3228470b2c",
    "_uuid": "8586d91d9dc0932537d7d8de6e94ffae93e02e11"
   },
   "outputs": [],
   "source": [
    "class MeanEmbeddingTransformer(TransformerMixin):\n",
    "    \n",
    "    def __init__(self):\n",
    "        self._vocab, self._E = self._load_words()\n",
    "        \n",
    "    \n",
    "    def _load_words(self):\n",
    "        E = {}\n",
    "        vocab = []\n",
    "\n",
    "        with open('/Users/aggarwalpiush/embeddings/offeneval_subtask_a.vec', 'r', encoding=\"utf8\") as file:\n",
    "            for i, line in enumerate(file):\n",
    "                l = line.split(' ')\n",
    "                if l[0].isalpha():\n",
    "                    v = [float(i) for i in l[1:]]\n",
    "                    E[l[0]] = np.array(v)\n",
    "                    vocab.append(l[0])\n",
    "        return np.array(vocab), E            \n",
    "\n",
    "    \n",
    "    def _get_word(self, v):\n",
    "        for i, emb in enumerate(self._E):\n",
    "            if np.array_equal(emb, v):\n",
    "                return self._vocab[i]\n",
    "        return None\n",
    "    \n",
    "    def _doc_mean(self, doc):\n",
    "        word_array = []\n",
    "        for w in doc:\n",
    "            if  w.lower().strip() in self._E:\n",
    "                word_array.append(self._E[w.lower().strip()])\n",
    "            else:\n",
    "                word_array.append(np.zeros([len(v) for v in self._E.values()][0]))\n",
    "\n",
    "        return np.mean(np.array(word_array), axis=0)\n",
    "                \n",
    "        #return np.mean(np.array([self._E[w.lower().strip()] for w in doc if w.lower().strip() in self._E else np.zeros([len(v) for v in self._E.values()][0])]), axis=0)\n",
    "    \n",
    "    def fit(self, X, y=None):\n",
    "        return self\n",
    "    \n",
    "    def transform(self, X):\n",
    "        return np.array([self._doc_mean(doc) for doc in X])\n",
    "    \n",
    "    def fit_transform(self, X, y=None):\n",
    "        return self.fit(X).transform(X)"
   ]
  },
  {
   "cell_type": "code",
   "execution_count": 133,
   "metadata": {
    "_cell_guid": "04ef6a9b-b4cd-4715-a737-f994639763a4",
    "_uuid": "387c55b880bb8905228728f3f1a5c363c48a5355"
   },
   "outputs": [],
   "source": [
    "def plot_roc(clf, X_test, y_test):\n",
    "    y_pred = clf.predict(X_test)\n",
    "    fpr, tpr, _ = roc_curve(y_test, y_pred)\n",
    "    plt.plot(fpr, tpr)\n",
    "    plt.xlabel('FPR')\n",
    "    plt.ylabel('TPR')\n",
    "    \n",
    "def print_scores(clf, X_train, y_train, X_test, y_test, tweet_text):\n",
    "    clf.fit(X_train, y_train)\n",
    "    y_pred = clf.predict(X_test)\n",
    "    print(y_pred[:10])\n",
    "    print(y_test[:10])\n",
    "    print(\"prediction   gold  tweet\")\n",
    "    for i in range(len(y_pred)):\n",
    "        if y_pred[i] != y_test[i]:\n",
    "            for key, value in tweet_text.items():    # for name, age in dictionary.iteritems():  (for Python 2.x)\n",
    "                if np.array_equal(value, X_test[i]):\n",
    "                    print(\"%s\\t%s\\t%s\" %(y_pred[i],y_test[i],key))\n",
    "                    break\n",
    "    print('Precision score: {:3f}'.format(precision_score(y_test, y_pred, average='macro') ))\n",
    "    print('Recall score: {:3f}'.format(recall_score(y_test, y_pred, average='macro') ))\n",
    "    print('F1 score: {:3f}'.format(f1_score(y_test, y_pred, average='macro')))\n",
    "    print('AUC score: {:3f}'.format(roc_auc_score(y_test, y_pred)))\n",
    "    print('Confusion Metric : %s' %(confusion_matrix(y_test, y_pred)))\n",
    "    print('Prediction Accuracy: {:3f}'.format(accuracy_score(y_test, y_pred)))"
   ]
  },
  {
   "cell_type": "markdown",
   "metadata": {
    "_cell_guid": "13cf4983-2b2c-49a5-ad09-6bf2379dc90a",
    "_uuid": "c27e9c7bd705db767afaa18249482622b6f99be9"
   },
   "source": [
    "Loading the dataset using pandas"
   ]
  },
  {
   "cell_type": "code",
   "execution_count": 97,
   "metadata": {
    "_cell_guid": "eba54d41-cbfb-4607-8577-934bdeffb727",
    "_uuid": "6de0d4b0fee106f1ae951466b918bf89d9d13f99"
   },
   "outputs": [
    {
     "data": {
      "text/plain": [
       "Index(['id', 'tweet', 'subtask_b'], dtype='object')"
      ]
     },
     "execution_count": 97,
     "metadata": {},
     "output_type": "execute_result"
    }
   ],
   "source": [
    "train_data = pd.read_csv('/Users/aggarwalpiush/github_repos/offensivetextevaluation/data/train_data_taskb/sub_taskb_train_data.tsv', sep='\\t',\n",
    "                        dtype={'tweet': object,  'id': np.int32,\n",
    "                              'subtask_b': 'category'})\n",
    "train_data.columns"
   ]
  },
  {
   "cell_type": "code",
   "execution_count": 98,
   "metadata": {
    "_cell_guid": "cb58d5bb-4bd9-4326-91af-05b32854c773",
    "_uuid": "3b505fb7d58a239490d296bb56d99ce351c4d7ad"
   },
   "outputs": [
    {
     "data": {
      "text/html": [
       "<div>\n",
       "<style scoped>\n",
       "    .dataframe tbody tr th:only-of-type {\n",
       "        vertical-align: middle;\n",
       "    }\n",
       "\n",
       "    .dataframe tbody tr th {\n",
       "        vertical-align: top;\n",
       "    }\n",
       "\n",
       "    .dataframe thead th {\n",
       "        text-align: right;\n",
       "    }\n",
       "</style>\n",
       "<table border=\"1\" class=\"dataframe\">\n",
       "  <thead>\n",
       "    <tr style=\"text-align: right;\">\n",
       "      <th></th>\n",
       "      <th>id</th>\n",
       "      <th>tweet</th>\n",
       "      <th>subtask_b</th>\n",
       "    </tr>\n",
       "  </thead>\n",
       "  <tbody>\n",
       "    <tr>\n",
       "      <th>0</th>\n",
       "      <td>86426</td>\n",
       "      <td>@USER She should ask a few native Americans wh...</td>\n",
       "      <td>UNT</td>\n",
       "    </tr>\n",
       "    <tr>\n",
       "      <th>1</th>\n",
       "      <td>90194</td>\n",
       "      <td>@USER @USER Go home you’re drunk!!! @USER #MAG...</td>\n",
       "      <td>TIN</td>\n",
       "    </tr>\n",
       "    <tr>\n",
       "      <th>2</th>\n",
       "      <td>62688</td>\n",
       "      <td>@USER Someone should'veTaken\" this piece of sh...</td>\n",
       "      <td>UNT</td>\n",
       "    </tr>\n",
       "  </tbody>\n",
       "</table>\n",
       "</div>"
      ],
      "text/plain": [
       "      id                                              tweet subtask_b\n",
       "0  86426  @USER She should ask a few native Americans wh...       UNT\n",
       "1  90194  @USER @USER Go home you’re drunk!!! @USER #MAG...       TIN\n",
       "2  62688  @USER Someone should'veTaken\" this piece of sh...       UNT"
      ]
     },
     "execution_count": 98,
     "metadata": {},
     "output_type": "execute_result"
    }
   ],
   "source": [
    "train_data.head(3)\n"
   ]
  },
  {
   "cell_type": "markdown",
   "metadata": {
    "_cell_guid": "7c0aa651-e467-4e6f-b1dd-57a9ec4c2395",
    "_uuid": "0ce0abb69f76cbf029d24bd4cd74ef5f14e50f5e"
   },
   "source": [
    "We can see how much memory the dataset uses, it looks like it uses a bit, but small enough, so we'll save the transformed data to a file so it can be loaded faster."
   ]
  },
  {
   "cell_type": "code",
   "execution_count": 6,
   "metadata": {
    "_cell_guid": "85fba399-d3e6-4fe5-a864-1b6f394bc85c",
    "_uuid": "48761c381554e4573a6f7b4a6da73be2377b4c9d"
   },
   "outputs": [
    {
     "data": {
      "text/plain": [
       "1132970"
      ]
     },
     "execution_count": 6,
     "metadata": {},
     "output_type": "execute_result"
    }
   ],
   "source": [
    "train_data.memory_usage(deep=True).sum()"
   ]
  },
  {
   "cell_type": "markdown",
   "metadata": {
    "_cell_guid": "84197c5e-3508-4f78-832c-3277fdea90f7",
    "_uuid": "b0389ea0fd6006b4e3b5589f78a3ee7254689b14"
   },
   "source": [
    "To determine if the dataset is unbalanced we can count the positive and negative cases. The number of positive cases is over five times the number of negative cases, which is very unbalanced, the AUC for the ROC curve or the F1 score would work fine for this dataset, but not regular accuracy."
   ]
  },
  {
   "cell_type": "code",
   "execution_count": 5,
   "metadata": {
    "_cell_guid": "379b87bc-ca96-4d6d-9245-0049487ef70b",
    "_uuid": "95c87410cb66ceb35e5d6f1d560c317ca3339215"
   },
   "outputs": [
    {
     "data": {
      "text/plain": [
       "TIN    3876\n",
       "UNT     524\n",
       "Name: subtask_b, dtype: int64"
      ]
     },
     "execution_count": 5,
     "metadata": {},
     "output_type": "execute_result"
    }
   ],
   "source": [
    "train_data['subtask_b'].value_counts()"
   ]
  },
  {
   "cell_type": "code",
   "execution_count": 99,
   "metadata": {
    "_cell_guid": "6992aa51-4af1-4b3c-b4ce-9f7d0a68341e",
    "_uuid": "bf9c620eea846a84f8f54349c526be55f72f9e8e"
   },
   "outputs": [
    {
     "name": "stdout",
     "output_type": "stream",
     "text": [
      "(4400, 1)\n",
      "(3876, 1)\n",
      "(524, 1)\n"
     ]
    }
   ],
   "source": [
    "X = train_data[['tweet']].values\n",
    "y = train_data['subtask_b'].values\n",
    "z = train_data[(train_data['subtask_b'] == 'TIN')][['tweet']].values\n",
    "z_bar = train_data[(train_data['subtask_b'] != 'TIN')][['tweet']].values\n",
    "print(X.shape)\n",
    "print(z.shape)\n",
    "print(z_bar.shape)"
   ]
  },
  {
   "cell_type": "code",
   "execution_count": 100,
   "metadata": {},
   "outputs": [],
   "source": [
    "y = train_data['subtask_b'].values"
   ]
  },
  {
   "cell_type": "code",
   "execution_count": 101,
   "metadata": {},
   "outputs": [
    {
     "name": "stdout",
     "output_type": "stream",
     "text": [
      "Counter({'TIN': 3876, 'UNT': 524})\n"
     ]
    }
   ],
   "source": [
    "from collections import Counter\n",
    "cnt = Counter(y)\n",
    "print(cnt)"
   ]
  },
  {
   "cell_type": "code",
   "execution_count": 102,
   "metadata": {},
   "outputs": [],
   "source": [
    "def preprocessing_input(input_text):\n",
    "    tweets = input_text\n",
    "    arc_obj = Arc_preprocessor()\n",
    "    tok_tweet = [arc_obj.tokenizeRawTweetText(doc) for doc in tweets]\n",
    "    return tok_tweet\n"
   ]
  },
  {
   "cell_type": "code",
   "execution_count": 9,
   "metadata": {},
   "outputs": [],
   "source": [
    "def one_hot_encoding(input_text, biased_text, assoc_measure, gram, threshold_value):\n",
    "    table = str.maketrans('', '', string.punctuation)\n",
    "    tok_tweet = preprocessing_input(biased_text)\n",
    "    textWords = ' '.join([w.translate(table).lower() for w in [' '.join(doc) for doc in tok_tweet]]).split()\n",
    "    textWords = [x  for x in textWords if not x.isdigit()]\n",
    "    textWords = [x  for x in textWords if not x=='user']\n",
    "    bigram_measures = nltk.collocations.BigramAssocMeasures()\n",
    "    trigram_measures = nltk.collocations.TrigramAssocMeasures()\n",
    "    if gram == 2:\n",
    "        finder = BigramCollocationFinder.from_words(textWords)\n",
    "        if assoc_measure == 'dice':\n",
    "            scored = finder.score_ngrams(bigram_measures.dice)\n",
    "        else:\n",
    "            scored = finder.score_ngrams(bigram_measures.likelihood_ratio)\n",
    "    else:\n",
    "        finder = TrigramCollocationFinder.from_words(textWords)\n",
    "        if assoc_measure == 'dice':\n",
    "            scored = finder.score_ngrams(trigram_measures.dice)\n",
    "        else:\n",
    "            scored = finder.score_ngrams(trigram_measures.likelihood_ratio)\n",
    "    n_gram_list = sorted([x for x,score in scored if score >= threshold_value])\n",
    "    print(max([score for x,score in scored]))\n",
    "    print(min([score for x,score in scored]))\n",
    "    print([' '.join(x) for x in n_gram_list[:10]])\n",
    "    print(len(n_gram_list))\n",
    "    \n",
    "    tok_train_text = preprocessing_input(input_text)\n",
    "    embedding_size = len(n_gram_list)\n",
    "    doc_length = len(tok_train_text)\n",
    "    trainX = np.zeros((doc_length,embedding_size), dtype=int)\n",
    "    for i,each_tw in enumerate(tok_train_text):\n",
    "        textWord = ' '.join([w.translate(table).lower() for w in each_tw]).split()\n",
    "        textWord = [x  for x in textWord if not x.isdigit()]\n",
    "        textWord = [x  for x in textWord if not x=='user']\n",
    "        bigrm = nltk.bigrams(textWord)\n",
    "        for each_bigrm in bigrm:\n",
    "            if each_bigrm in set(n_gram_list):\n",
    "                trainX[i][n_gram_list.index(each_bigrm)] = 1\n",
    "    return trainX\n",
    "        \n",
    "        \n",
    "    \n",
    "    \n",
    "            \n",
    "    "
   ]
  },
  {
   "cell_type": "code",
   "execution_count": 103,
   "metadata": {},
   "outputs": [],
   "source": [
    "def dice_distribution( biased_text, assoc_measure, gram):\n",
    "    table = str.maketrans('', '', string.punctuation)\n",
    "    tok_tweet = preprocessing_input(biased_text)\n",
    "    textWords = ' '.join([w.translate(table).lower() for w in [' '.join(doc) for doc in tok_tweet]]).split()\n",
    "    textWords = [x  for x in textWords if not x.isdigit()]\n",
    "    textWords = [x  for x in textWords if not x=='user']\n",
    "    bigram_measures = nltk.collocations.BigramAssocMeasures()\n",
    "    trigram_measures = nltk.collocations.TrigramAssocMeasures()\n",
    "    if gram == 2:\n",
    "        finder = BigramCollocationFinder.from_words(textWords)\n",
    "        if assoc_measure == 'dice':\n",
    "            scored = finder.score_ngrams(bigram_measures.dice)\n",
    "        else:\n",
    "            scored = finder.score_ngrams(bigram_measures.likelihood_ratio)\n",
    "    else:\n",
    "        finder = TrigramCollocationFinder.from_words(textWords)\n",
    "        if assoc_measure == 'dice':\n",
    "            scored = finder.score_ngrams(trigram_measures.dice)\n",
    "        else:\n",
    "            scored = finder.score_ngrams(trigram_measures.likelihood_ratio)\n",
    "    dice_dict = {}\n",
    "    j = 0\n",
    "    print(scored[:10])\n",
    "    for x,score in scored:\n",
    "        if score in dice_dict.keys():\n",
    "            dice_dict[float(score)] += 1\n",
    "        else:\n",
    "            dice_dict[float(score)] = 1\n",
    "    '''for i in arange(0,1,0.05):       \n",
    "        n_gram_list = [x for x,score in scored if score >= j and score < i]\n",
    "        j = i\n",
    "        dice_dict[i] = len(n_gram_list)'''\n",
    "    return dice_dict"
   ]
  },
  {
   "cell_type": "code",
   "execution_count": 126,
   "metadata": {},
   "outputs": [
    {
     "name": "stdout",
     "output_type": "stream",
     "text": [
      "[(('10mile', 'radius'), 1.0), (('20gauge', 'winchester'), 1.0), (('2adefenders', 'trumptime'), 1.0), (('abbott’s', 'meetings'), 1.0), (('accurate', 'metaphor'), 1.0), (('accurately', 'predict'), 1.0), (('achichincle', 'lamebotas'), 1.0), (('adds', 'speshul'), 1.0), (('adversaries', 'aggression'), 1.0), (('advertisement', 'colon'), 1.0)]\n",
      "[(('2sec', 'google'), 1.0), (('50n', 'cam'), 1.0), (('abiding', 'citizens'), 1.0), (('abusive', 'method'), 1.0), (('accidental', 'injuried'), 1.0), (('active', 'cards'), 1.0), (('activistsantifaofa', 'incompatibles'), 1.0), (('actress', 'li'), 1.0), (('ads', 'equals'), 1.0), (('advantage', 'uf'), 1.0)]\n"
     ]
    },
    {
     "data": {
      "image/png": "[encoded data removed]",
      "text/plain": [
       "<Figure size 432x288 with 1 Axes>"
      ]
     },
     "metadata": {
      "needs_background": "light"
     },
     "output_type": "display_data"
    }
   ],
   "source": [
    "from scipy import arange\n",
    "counts = dice_distribution(z[:,0], 'dice', 2)\n",
    "counts2 = dice_distribution(z_bar[:,0], 'dice', 2)\n",
    "\n",
    "\n",
    "\n",
    "plt.plot(list(counts.keys()), list(counts.values()),  '--c', color='g',)\n",
    "plt.plot(list(counts2.keys()), list(counts2.values()),  ':c', color='r')\n",
    "plt.legend(('TIN', 'UNT'),\n",
    "           loc='upper left')\n",
    "plt.axvspan(0.9, 1, color='red', alpha=0.5)\n",
    "#plt.plot(year, pop_india, color='orange')\n",
    "plt.xlabel('Dice Coefficient')\n",
    "plt.ylabel('Bigram frequency')\n",
    "plt.savefig('dice_dist.png')\n",
    "plt.show()\n",
    "\n"
   ]
  },
  {
   "cell_type": "code",
   "execution_count": 45,
   "metadata": {},
   "outputs": [
    {
     "name": "stdout",
     "output_type": "stream",
     "text": [
      "1.0\n",
      "0.00038887808671981335\n",
      "['10mile radius', '20gauge winchester', '2adefenders trumptime', 'abbott’s meetings', 'accurate metaphor', 'accurately predict', 'achichincle lamebotas', 'adds speshul', 'adversaries aggression', 'advertisement colon']\n",
      "649\n"
     ]
    }
   ],
   "source": [
    "trainX = one_hot_encoding(X[:,0], z[:,0], 'dice', 2,0.9)"
   ]
  },
  {
   "cell_type": "code",
   "execution_count": 113,
   "metadata": {},
   "outputs": [],
   "source": [
    "def tokenize_and_transform(X, sample_size):\n",
    "    tweet_text = {}\n",
    "    tweets = X[:,0]\n",
    "    arc_obj = Arc_preprocessor()\n",
    "    tok_tweet = [arc_obj.tokenizeRawTweetText(doc) for doc in tweets[:sample_size]]\n",
    "    #tok_tweet = [word_tokenize(doc) for doc in tweets[:sample_size]]\n",
    "    met = MeanEmbeddingTransformer()\n",
    "    X_transform = met.fit_transform(tok_tweet)\n",
    "    for i,j in enumerate(X_transform):\n",
    "        tweet_text[' '.join(tok_tweet[i])] = j\n",
    "    return X_transform, tweet_text"
   ]
  },
  {
   "cell_type": "code",
   "execution_count": 114,
   "metadata": {},
   "outputs": [],
   "source": [
    "trainX, tweet_text = tokenize_and_transform(X, 160000)"
   ]
  },
  {
   "cell_type": "code",
   "execution_count": 115,
   "metadata": {},
   "outputs": [
    {
     "name": "stdout",
     "output_type": "stream",
     "text": [
      "@USER She should ask a few native Americans what their take on this is . [-1.98266667e-02 -8.30933333e-02 -2.94600000e-02 -6.50800000e-02\n",
      " -3.42266667e-02  1.66533333e-02 -6.03000000e-02 -6.33333333e-04\n",
      "  7.57133333e-02 -6.05200000e-02  1.32466667e-02  1.32386667e-01\n",
      "  4.71600000e-02 -2.11533333e-02  1.01200000e-02  5.73333333e-03\n",
      " -7.88600000e-02  6.24000000e-02  4.00000000e-05  8.28000000e-03\n",
      " -4.21266667e-02  3.67400000e-02 -2.44800000e-02 -3.62600000e-02\n",
      " -3.61133333e-02 -7.00333333e-02 -3.22933333e-02 -4.84200000e-02\n",
      "  9.74000000e-03  4.11066667e-02 -6.16533333e-02 -4.84066667e-02\n",
      "  5.24000000e-03 -1.27253333e-01 -3.65600000e-02 -7.20933333e-02\n",
      "  4.30000000e-03 -8.35600000e-02  2.47800000e-02  5.98533333e-02\n",
      " -7.80000000e-03  8.88800000e-02 -2.77800000e-02  4.41200000e-02\n",
      " -2.48000000e-03 -7.82733333e-02  1.05120000e-01 -2.55000000e-02\n",
      "  3.03600000e-02  9.24200000e-02 -2.92000000e-03 -8.39933333e-02\n",
      "  2.95600000e-01  3.67066667e-02  1.38533333e-02 -3.21200000e-02\n",
      " -2.69666667e-02 -1.48680000e-01 -6.22466667e-02  1.34000000e-02\n",
      " -9.24000000e-03  7.22666667e-03  2.00533333e-02 -8.04400000e-02\n",
      " -2.32533333e-02  7.75600000e-02  2.27333333e-03 -1.92866667e-02\n",
      " -2.03133333e-02 -2.99000000e-02 -3.10000000e-02  4.83733333e-02\n",
      " -1.38066667e-02  1.32806667e-01  1.16800000e-02 -1.71933333e-02\n",
      " -3.62200000e-01 -3.76666667e-02  1.58073333e-01  2.11133333e-02\n",
      "  3.75786667e-01 -9.26666667e-03 -3.63866667e-02 -4.65600000e-02\n",
      " -6.81333333e-02  2.16666667e-03  1.83133333e-02  4.48533333e-02\n",
      " -6.35066667e-02  5.48200000e-02 -4.25066667e-02  1.87100000e-01\n",
      " -1.97533333e-02  3.33333333e-03  3.84266667e-02 -2.50600000e-02\n",
      " -5.84333333e-02 -1.95333333e-02  6.84866667e-02 -5.20666667e-02\n",
      "  2.78000000e-03 -4.13133333e-02  7.90266667e-02 -2.60400000e-02\n",
      "  3.64933333e-02 -4.01400000e-02 -1.58266667e-02  6.40000000e-03\n",
      " -1.53333333e-02 -4.19266667e-02  8.35666667e-02  4.16000000e-03\n",
      " -1.32000000e-02  3.96800000e-02 -4.27860000e-01 -3.07666667e-02\n",
      "  7.94133333e-02 -1.12400000e-02  3.18066667e-02 -4.76333333e-02\n",
      "  1.13600000e-02  5.53600000e-02 -1.01533333e-02  5.18533333e-02\n",
      " -3.68866667e-02 -5.01066667e-02  3.15466667e-02  4.54666667e-02\n",
      "  1.64213333e-01 -1.14100000e-01  1.27666667e-02 -6.17666667e-02\n",
      " -4.44466667e-02  2.10600000e-02  6.25200000e-02 -7.67733333e-02\n",
      " -1.20966667e-01 -2.54800000e-02  5.49533333e-02 -2.14200000e-01\n",
      "  5.15333333e-03  4.71333333e-02 -2.11000000e-02  1.32320000e-01\n",
      " -1.26600000e-02 -5.65533333e-02 -8.82133333e-02 -1.98133333e-02\n",
      " -2.30066667e-02 -8.17866667e-02  3.87333333e-03  2.00533333e-02\n",
      "  3.13400000e-02 -4.80000000e-04  5.83333333e-03 -5.28666667e-03\n",
      " -4.77733333e-02  2.00800000e-02 -2.59333333e-03  5.82000000e-03\n",
      "  3.85113333e-01  3.32666667e-03 -1.52000000e-03  1.27666667e-02\n",
      " -1.79000000e-02 -7.41333333e-03  4.46666667e-02 -8.34666667e-03\n",
      "  2.68933333e-02 -3.92933333e-02  4.89266667e-02  1.36600000e-02\n",
      " -6.41000000e-02  2.18933333e-02 -4.23733333e-02  3.82066667e-02\n",
      " -8.62000000e-03 -1.90000000e-02  6.34866667e-02 -2.80800000e-02\n",
      "  1.06186667e-01 -6.40666667e-02  3.78400000e-02  7.33933333e-02\n",
      " -3.68666667e-03 -8.71333333e-03  1.26800000e-02 -3.18733333e-02\n",
      " -1.09926667e-01  1.43000000e-02  1.55200000e-02  5.20600000e-02\n",
      " -4.20800000e-02  7.14933333e-02 -2.83266667e-02 -4.46666667e-03\n",
      "  4.12066667e-02 -4.51066667e-02 -4.25333333e-02  7.70866667e-02\n",
      "  1.54600000e-02 -4.82000000e-02  2.37200000e-02 -4.79800000e-02\n",
      " -4.05400000e-02  4.13333333e-02 -1.89333333e-03  6.12000000e-03\n",
      "  4.41000000e-02 -2.18866667e-02  1.63000000e-02  5.42026667e-01\n",
      "  3.43133333e-02 -6.88066667e-02  6.22333333e-02 -7.26333333e-02\n",
      "  3.32400000e-02  3.51866667e-02 -3.81666667e-02  4.03133333e-02\n",
      " -4.53266667e-02  1.79446667e-01  1.48133333e-02  9.17333333e-03\n",
      "  4.44266667e-02  6.02266667e-02  2.04666667e-02  2.37200000e-02\n",
      " -2.21866667e-02  2.00266667e-02 -5.80933333e-02 -1.69333333e-03\n",
      "  6.50800000e-02  9.73333333e-04 -1.75733333e-02 -2.96133333e-02\n",
      "  3.07333333e-02 -8.26733333e-02 -1.31866667e-02 -5.69200000e-02\n",
      " -5.12666667e-03 -6.03666667e-02 -1.18466667e-01  2.00066667e-02\n",
      " -1.05633333e-01  1.04733333e-02  1.79826667e-01  2.33200000e-02\n",
      "  2.34333333e-02  4.51333333e-03  9.98666667e-03  1.31800000e-02\n",
      "  8.35333333e-03  2.17400000e-02  9.59600000e-02 -1.42133333e-02\n",
      "  5.74000000e-02 -6.82066667e-02  7.25600000e-02  3.15800000e-02\n",
      " -3.58800000e-02  4.01000000e-02 -4.38666667e-03 -4.67866667e-02\n",
      " -8.65466667e-02  2.38666667e-02  3.67000000e-02  6.75933333e-02\n",
      "  2.56600000e-02 -3.05333333e-03  8.08666667e-03  1.68866667e-02\n",
      " -1.93133333e-02 -4.78800000e-02  3.14466667e-02  2.27266667e-02\n",
      "  1.64406667e-01  8.49133333e-02 -2.25933333e-02 -2.35600000e-02\n",
      " -2.82733333e-02  4.08600000e-02  7.73600000e-02 -2.71133333e-02\n",
      " -6.90600000e-02  4.33333333e-02  3.20200000e-02  2.65133333e-02\n",
      " -2.79600000e-02  9.19200000e-02  2.92400000e-02  2.84600000e-02\n",
      "  3.92266667e-02 -1.61466667e-02 -1.44800000e-02 -1.27860000e-01\n",
      "  1.54733333e-02 -5.64733333e-02  1.04933333e-02 -6.17600000e-02]\n",
      "@USER @USER Go home you’re drunk !!! @USER #MAGA #Trump2020 👊🇺🇸👊 URL [-3.27500000e-03 -7.19250000e-02  1.01166667e-02 -3.39750000e-02\n",
      "  3.93416667e-02  8.16666667e-04  2.01000000e-02 -1.39333333e-02\n",
      "  9.46166667e-02 -4.96000000e-02 -6.46666667e-03  4.90083333e-02\n",
      "  2.12583333e-02 -2.37833333e-02  1.16666667e-03 -1.58416667e-02\n",
      " -1.52500000e-03 -2.25583333e-02  2.26666667e-03  1.21666667e-02\n",
      "  8.26666667e-03  2.32000000e-02 -2.83333333e-03 -4.65416667e-02\n",
      " -2.35750000e-02  7.56666667e-03 -1.53416667e-02 -2.63333333e-02\n",
      " -2.00833333e-02  5.37583333e-02 -1.46083333e-02 -4.75250000e-02\n",
      "  3.90000000e-03  4.23333333e-03  9.31666667e-03 -3.43083333e-02\n",
      "  3.97583333e-02  1.29166667e-03 -1.54416667e-02  1.39583333e-02\n",
      " -1.73666667e-02 -1.19500000e-02  1.95000000e-02 -3.98166667e-02\n",
      "  5.71416667e-02 -1.37000000e-02 -4.67500000e-03 -2.71500000e-02\n",
      "  1.25500000e-02  5.00833333e-03 -2.28333333e-03 -2.44583333e-02\n",
      "  2.78916667e-02  1.52500000e-02  2.01333333e-02 -2.53083333e-02\n",
      "  3.91666667e-04 -7.44416667e-02  6.95333333e-02 -2.13583333e-02\n",
      " -1.57416667e-02 -4.22583333e-02 -3.61166667e-02 -3.00833333e-02\n",
      " -5.60833333e-03 -2.00416667e-02  3.53166667e-02  6.81666667e-03\n",
      " -1.86833333e-02 -3.62083333e-02 -3.91666667e-04 -1.59916667e-02\n",
      "  1.99833333e-02  5.31333333e-02  4.04583333e-02 -4.05333333e-02\n",
      " -9.93250000e-02 -3.56583333e-02  6.65833333e-03  1.65000000e-03\n",
      "  2.22416667e-02 -6.90000000e-03 -3.06000000e-02  3.75833333e-02\n",
      " -5.80833333e-03  6.31833333e-02  1.30500000e-02  5.71416667e-02\n",
      "  1.75500000e-02  2.98000000e-02  4.08333333e-02 -1.60583333e-02\n",
      " -4.48333333e-03  9.21666667e-03  1.60166667e-02 -4.23250000e-02\n",
      " -9.33333333e-03 -9.08416667e-02  4.79000000e-02 -9.52500000e-03\n",
      "  9.76666667e-03 -3.03333333e-03 -9.09166667e-03 -3.97500000e-03\n",
      "  9.68333333e-03 -4.55833333e-03 -2.22500000e-03  3.76000000e-02\n",
      "  1.31583333e-02  8.92500000e-03  3.24416667e-02 -1.39000000e-02\n",
      "  3.16916667e-02  3.93166667e-02 -1.06416667e-01 -1.49750000e-02\n",
      "  6.24500000e-02  8.36666667e-03 -4.32083333e-02  1.48916667e-02\n",
      "  6.59166667e-02  4.22500000e-03  5.60416667e-02  1.36500000e-02\n",
      "  2.04333333e-02  1.62000000e-02  1.34166667e-03  6.64166667e-03\n",
      "  7.91583333e-02 -1.87333333e-02  5.84083333e-02 -6.21083333e-02\n",
      "  1.12083333e-02  3.55416667e-02  1.97250000e-02  3.80833333e-03\n",
      " -2.45583333e-02 -5.30000000e-03  1.28583333e-02 -9.80000000e-02\n",
      "  1.70250000e-02  3.40000000e-02  3.66750000e-02  4.39916667e-02\n",
      " -2.84000000e-02  3.66250000e-02  1.69166667e-03  7.06666667e-03\n",
      "  5.13750000e-02  6.15833333e-03  3.76083333e-02  7.91666667e-04\n",
      "  4.69500000e-02 -3.58583333e-02 -1.72500000e-02  1.12916667e-02\n",
      " -3.59416667e-02 -1.76250000e-02 -7.25000000e-04  6.15000000e-03\n",
      "  1.45833333e-01 -1.96000000e-02 -2.03250000e-02 -1.47333333e-02\n",
      " -4.06916667e-02 -1.98416667e-02  4.21750000e-02 -2.85833333e-03\n",
      "  1.78333333e-03  6.86666667e-03 -4.57500000e-02  2.84500000e-02\n",
      " -1.78583333e-02  4.07500000e-03 -1.77500000e-02  4.39166667e-03\n",
      " -2.67750000e-02  7.82500000e-03  2.28333333e-03 -1.90250000e-02\n",
      " -3.86666667e-02 -3.20833333e-03  2.38833333e-02 -2.28083333e-02\n",
      "  4.20666667e-02  5.66166667e-02  2.00000000e-03 -1.02416667e-02\n",
      " -6.70666667e-02  8.15833333e-03  5.17416667e-02  3.54750000e-02\n",
      "  3.35000000e-02  1.43583333e-02 -6.39166667e-03  1.51333333e-02\n",
      "  1.46166667e-02 -3.61083333e-02 -1.48666667e-02  2.50250000e-02\n",
      " -6.41833333e-02  2.66416667e-02 -9.16666667e-04 -2.45250000e-02\n",
      " -3.22500000e-03 -2.99416667e-02  1.20666667e-02 -3.18166667e-02\n",
      "  8.84166667e-03 -1.45333333e-02 -1.06916667e-02  1.41808333e-01\n",
      "  1.25166667e-02 -6.33333333e-04  7.32500000e-03 -4.72250000e-02\n",
      "  1.87166667e-02  4.53083333e-02 -2.51250000e-02 -1.09250000e-02\n",
      "  2.48333333e-03  6.50333333e-02  3.21166667e-02  1.42000000e-02\n",
      "  8.78250000e-02 -7.06666667e-03  6.07500000e-03 -1.13333333e-03\n",
      "  4.64166667e-03 -3.38666667e-02  1.02666667e-02 -1.43000000e-02\n",
      "  4.19166667e-03  3.04500000e-02  2.47833333e-02 -9.62666667e-02\n",
      " -1.62166667e-02 -4.14250000e-02 -4.08750000e-02  2.16666667e-02\n",
      " -1.51333333e-02  3.96833333e-02  3.11166667e-02  2.66666667e-03\n",
      " -6.72333333e-02  1.84000000e-02  7.23166667e-02 -5.60000000e-03\n",
      "  3.48666667e-02  2.43833333e-02 -7.00000000e-03 -4.10833333e-03\n",
      "  5.28416667e-02  1.08333333e-04 -3.38583333e-02  7.92500000e-03\n",
      " -4.97500000e-03  4.28416667e-02  3.24666667e-02 -2.47250000e-02\n",
      "  1.83750000e-02 -2.95166667e-02  1.03500000e-02 -1.41250000e-02\n",
      "  7.64166667e-03  2.63833333e-02 -6.05000000e-03 -3.73666667e-02\n",
      "  1.76500000e-02 -8.04166667e-03  9.20833333e-03  3.50000000e-04\n",
      "  7.11666667e-03  2.73333333e-02 -9.62500000e-03  3.87666667e-02\n",
      " -1.91333333e-02  2.74666667e-02 -1.62250000e-02 -4.06500000e-02\n",
      "  4.06416667e-02  2.91666667e-04  2.29166667e-03  4.03250000e-02\n",
      " -3.04916667e-02  1.48583333e-02  2.58083333e-02  4.56666667e-03\n",
      "  7.00833333e-03 -3.99750000e-02  1.64416667e-02  8.91666667e-03\n",
      "  3.22083333e-02  4.36666667e-02 -4.25500000e-02  8.26666667e-03\n",
      "  3.13333333e-02 -3.43000000e-02  6.21666667e-03  3.52500000e-03]\n"
     ]
    }
   ],
   "source": [
    "count = 0\n",
    "for k,v in tweet_text.items():\n",
    "    print(k,v)\n",
    "    count += 1\n",
    "    if count == 2:\n",
    "        break\n"
   ]
  },
  {
   "cell_type": "code",
   "execution_count": 83,
   "metadata": {},
   "outputs": [],
   "source": [
    "scaler = StandardScaler()\n",
    "trainX = scaler.fit_transform(trainX)"
   ]
  },
  {
   "cell_type": "code",
   "execution_count": null,
   "metadata": {},
   "outputs": [],
   "source": [
    "import string\n",
    "table = str.maketrans('', '', string.punctuation)\n",
    "tweets = z_bar[:,0]\n",
    "print(len(tweets))\n",
    "arc_obj = Arc_preprocessor()\n",
    "tok_tweet = [arc_obj.tokenizeRawTweetText(doc) for doc in tweets]\n",
    "#print(tok_tweet[:10])\n",
    "textWords = ' '.join([w.translate(table).lower() for w in [' '.join(doc) for doc in tok_tweet]]).split()\n",
    "bigram_measures = nltk.collocations.BigramAssocMeasures()\n",
    "trigram_measures = nltk.collocations.TrigramAssocMeasures()\n",
    "textWords = [x  for x in textWords if not x.isdigit()]\n",
    "textWords = [x  for x in textWords if not x=='user']\n",
    "#textWords = [x  for x in textWords if len(x) > 2]\n",
    "finder = BigramCollocationFinder.from_words(textWords)\n",
    "finder2 = TrigramCollocationFinder.from_words(textWords)\n",
    "scored = finder2.score_ngrams(trigram_measures.likelihood_ratio)\n",
    "def takeSecond(elem):\n",
    "    return elem[1]\n",
    "#sorted_score = sorted([score for bigram, score in scored], reverse=True)\n",
    "sorted_score = sorted( scored, reverse=True, key=takeSecond)\n",
    "count = 0\n",
    "for sc in [score for bigram, score in scored]:\n",
    "    if sc == 1.0:\n",
    "        count += 1\n",
    "print(count)\n",
    "print(sorted_score[:20])\n",
    "print(len(sorted_score))\n",
    "#print(finder.nbest(BigramAssocMeasures.pmi, 20))\n",
    "tweets = z[:,0]\n",
    "print(len(tweets))\n",
    "arc_obj = Arc_preprocessor()\n",
    "tok_tweet = [arc_obj.tokenizeRawTweetText(doc) for doc in tweets]\n",
    "#print(tok_tweet[:10])\n",
    "textWords = ' '.join([w.translate(table).lower() for w in [' '.join(doc) for doc in tok_tweet]]).split()\n",
    "bigram_measures = nltk.collocations.BigramAssocMeasures()\n",
    "trigram_measures = nltk.collocations.TrigramAssocMeasures()\n",
    "textWords = [x  for x in textWords if not x.isdigit()]\n",
    "textWords = [x  for x in textWords if not x=='user']\n",
    "#textWords = [x  for x in textWords if len(x) > 2]\n",
    "finder = BigramCollocationFinder.from_words(textWords)\n",
    "finder2 = TrigramCollocationFinder.from_words(textWords)\n",
    "scored = finder2.score_ngrams(trigram_measures.likelihood_ratio)\n",
    "def takeSecond(elem):\n",
    "    return elem[1]\n",
    "#sorted_score = sorted([score for bigram, score in scored], reverse=True)\n",
    "sorted_score = sorted( scored, reverse=True, key=takeSecond)\n",
    "count = 0\n",
    "for sc in [score for bigram, score in scored]:\n",
    "    if sc == 1.0:\n",
    "        count += 1\n",
    "print(count)\n",
    "print(sorted_score[:20])\n",
    "print(len(sorted_score))\n",
    "#print(finder.nbest(BigramAssocMeasures.pmi, 20))"
   ]
  },
  {
   "cell_type": "code",
   "execution_count": 116,
   "metadata": {},
   "outputs": [
    {
     "name": "stdout",
     "output_type": "stream",
     "text": [
      "Counter({'TIN': 3876, 'UNT': 524})\n"
     ]
    }
   ],
   "source": [
    "from collections import Counter\n",
    "cnt = Counter(y)\n",
    "print(cnt)"
   ]
  },
  {
   "cell_type": "markdown",
   "metadata": {
    "_uuid": "2d71254ece1b3be8244f173fc763c1b102124c8d"
   },
   "source": [
    "Time to save the vector representation of the essays."
   ]
  },
  {
   "cell_type": "code",
   "execution_count": 117,
   "metadata": {
    "_cell_guid": "cd2885c0-b116-4516-9dc7-35a6c23214ac",
    "_uuid": "358d41e2fdc1807511dc8fa29cfb09a2ac856cfe"
   },
   "outputs": [
    {
     "name": "stdout",
     "output_type": "stream",
     "text": [
      "[UNT, TIN, UNT, TIN, UNT, TIN, TIN, TIN, TIN, TIN]\n",
      "Categories (2, object): [TIN, UNT]\n",
      "[1 0 1 0 1 0 0 0 0 0]\n",
      "[1 0 1 0 1 0 0 0 0 0]\n"
     ]
    }
   ],
   "source": [
    "\n",
    "le = LabelEncoder()\n",
    "print(y[:10])\n",
    "y = le.fit_transform(y)\n",
    "print(y[:10])\n",
    "#y = np.array([1 if x==0 else 0 for x in y ])\n",
    "print(y[:10])"
   ]
  },
  {
   "cell_type": "code",
   "execution_count": 25,
   "metadata": {},
   "outputs": [
    {
     "name": "stdout",
     "output_type": "stream",
     "text": [
      "[0 0 0 0 0 0 0 0 0 0 0 0 0 0 0 0 0 0 0 0 0 0 0 0 0 0 0 0 0 0 0 0 0 0 0 0 0\n",
      " 0 0 0 0 0 0 0 0 0 0 0 0 0 0 0 0 0 0 0 0 0 0 0 0 0 0 0 0 0 0 0 0 0 0 0 0 0\n",
      " 0 0 0 0 0 0 0 0 0 0 0 0 0 0 0 0 0 0 0 0 0 0 0 0 0 0 0 0 0 0 0 0 0 0 0 0 0\n",
      " 0 0 0 0 0 0 0 0 0 0 0 0 0 0 0 0 0 0 0 0 0 0 0 0 0 0 0 0 0 0 0 0 0 0 0 0 0\n",
      " 0 0 0 0 0 0 0 0 0 0 0 0 0 0 0 0 0 0 0 0 0 0 0 0 0 0 0 0 0 0 0 0 0 0 0 0 0\n",
      " 0 0 0 0 0 0 0 0 0 0 0 0 0 0 0 0 0 0 0 0 0 0 0 0 0 0 0 0 0 0 0 0 0 0 0 0 0\n",
      " 0 0 0 0 0 0 0 0 0 0 0 0 0 0 0 0 0 0 0 0 0 0 0 0 0 0 0 0 0 0 0 0 0 0 0 0 0\n",
      " 0 0 0 0 0 0 0 0 0 0 0 0 0 0 0 0 0 0 0 0 0 0 0 0 0 0 0 0 0 0 0 0 0 0 0 0 0\n",
      " 0 0 0 0 0 0 0 0 0 0 0 0 0 0 0 0 0 0 0 0 0 0 0 0 0 0 0 0 0 0 0 0 0 0 0 0 0\n",
      " 0 0 0 0 0 0 0 0 0 0 0 0 0 0 0 0 0 0 0 0 0 0 0 0 0 0 0 0 0 0 0 0 0 0 0 0 0\n",
      " 0 0 0 0 0 0 0 0 0 0 0 0 0 0 0 0 0 0 0 0 0 0 0 0 0 0 0 0 0 0 0 0 0 0 0 0 0\n",
      " 0 0 0 0 0 0 0 0 0 0 0 0 0 0 0 0 0 0 0 0 0 0 0 0 0 0 0 0 0 0 0 0 0 0 0 0 0\n",
      " 0 0 0 0 0 0 0 0 0 0 0 0 0 0 0 0 0 0 0 0 0 0 0 0 0 0 0 0 0 0 0 0 0 0 0 0 0\n",
      " 0 0 0 0 0 0 0 0 0 0 0 0 0 0 0 0 0 0 0 0 0 0 0 0 0 0 0 0 0 0 0 0 0 0 0 0 0\n",
      " 0 0 0 0 0 0 0 0 0 0 0 0 0 0 0 0 0 0 0 0 0 0 0 0 0 0 0 0 0 0 0 0 0 0 0 0 0\n",
      " 0 0 0 0 0 0 0 0 0 0 0 0 0 0 0 0 0 0 0 0 0 0 0 0 0 0 0 0 0 0 0 0 0 0 0 0 0\n",
      " 0 0 0 0 0 0 0 0 0 0 0 0 0 0 0 0 0 0 0 0 0 0 0 0 0 0 0 0 0 0 0 0 0 0 0 0 0\n",
      " 0 0 0 0 0 0 0 0 0 0 0 0 0 0 0 0 0 0 0 0]\n",
      "[0. 0. 0. 0. 0. 0. 0. 0. 0. 0. 0. 0. 0. 0. 0. 0. 0. 0. 0. 0. 0. 0. 0. 0.\n",
      " 0. 0. 0. 0. 0. 0. 0. 0. 0. 0. 0. 0. 0. 0. 0. 0. 0. 0. 0. 0. 0. 0. 0. 0.\n",
      " 0. 0. 0. 0. 0. 0. 0. 0. 0. 0. 0. 0. 0. 0. 0. 0. 0. 0. 0. 0. 0. 0. 0. 0.\n",
      " 0. 0. 0. 0. 0. 0. 0. 0. 0. 0. 0. 0. 0. 0. 0. 0. 0. 0. 0. 0. 0. 0. 0. 0.\n",
      " 0. 0. 0. 0. 0. 0. 0. 0. 0. 0. 0. 0. 0. 0. 0. 0. 0. 0. 0. 0. 0. 0. 0. 0.\n",
      " 0. 0. 0. 0. 0. 0. 0. 0. 0. 0. 0. 0. 0. 0. 0. 0. 0. 0. 0. 0. 0. 0. 0. 0.\n",
      " 0. 0. 0. 0. 0. 0. 0. 0. 0. 0. 0. 0. 0. 0. 0. 0. 0. 0. 0. 0. 0. 0. 0. 0.\n",
      " 0. 0. 0. 0. 0. 0. 0. 0. 0. 0. 0. 0. 0. 0. 0. 0. 0. 0. 0. 0. 0. 0. 0. 0.\n",
      " 0. 0. 0. 0. 0. 0. 0. 0. 0. 0. 0. 0. 0. 0. 0. 0. 0. 0. 0. 0. 0. 0. 0. 0.\n",
      " 0. 0. 0. 0. 0. 0. 0. 0. 0. 0. 0. 0. 0. 0. 0. 0. 0. 0. 0. 0. 0. 0. 0. 0.\n",
      " 0. 0. 0. 0. 0. 0. 0. 0. 0. 0. 0. 0. 0. 0. 0. 0. 0. 0. 0. 0. 0. 0. 0. 0.\n",
      " 0. 0. 0. 0. 0. 0. 0. 0. 0. 0. 0. 0. 0. 0. 0. 0. 0. 0. 0. 0. 0. 0. 0. 0.\n",
      " 0. 0. 0. 0. 0. 0. 0. 0. 0. 0. 0. 0. 0. 0. 0. 0. 0. 0. 0. 0. 0. 0. 0. 0.\n",
      " 0. 0. 0. 0. 0. 0. 0. 0. 0. 0. 0. 0. 0. 0. 0. 0. 0. 0. 0. 0. 0. 0. 0. 0.\n",
      " 0. 0. 0. 0. 0. 0. 0. 0. 0. 0. 0. 0. 0. 0. 0. 0. 0. 0. 0. 0. 0. 0. 0. 0.\n",
      " 0. 0. 0. 0. 0. 0. 0. 0. 0. 0. 0. 0. 0. 0. 0. 0. 0. 0. 0. 0. 0. 0. 0. 0.\n",
      " 0. 0. 0. 0. 0. 0. 0. 0. 0. 0. 0. 0. 0. 0. 0. 0. 0. 0. 0. 0. 0. 0. 0. 0.\n",
      " 0. 0. 0. 0. 0. 0. 0. 0. 0. 0. 0. 0. 0. 0. 0. 0. 0. 0. 0. 0. 0. 0. 0. 0.\n",
      " 0. 0. 0. 0. 0. 0. 0. 0. 0. 0. 0. 0. 0. 0. 0. 0. 0. 0. 0. 0. 0. 0. 0. 0.\n",
      " 0. 0. 0. 0. 0. 0. 0. 0. 0. 0. 0. 0. 0. 0. 0. 0. 0. 0. 0. 0. 0. 0. 0. 0.\n",
      " 0. 0. 0. 0. 0. 0. 0. 0. 0. 0. 0. 0. 0. 0. 0. 0. 0. 0. 0. 0. 0. 0. 0. 0.\n",
      " 0. 0. 0. 0. 0. 0. 0. 0. 0. 0. 0. 0. 0. 0. 0. 0. 0. 0. 0. 0. 0. 0. 0. 0.\n",
      " 0. 0. 0. 0. 0. 0. 0. 0. 0. 0. 0. 0. 0. 0. 0. 0. 0. 0. 0. 0. 0. 0. 0. 0.\n",
      " 0. 0. 0. 0. 0. 0. 0. 0. 0. 0. 0. 0. 0. 0. 0. 0. 0. 0. 0. 0. 0. 0. 0. 0.\n",
      " 0. 0. 0. 0. 0. 0. 0. 0. 0. 0. 0. 0. 0. 0. 0. 0. 0. 0. 0. 0. 0. 0. 0. 0.\n",
      " 0. 0. 0. 0. 0. 0. 0. 0. 0. 0. 0. 0. 0. 0. 0. 0. 0. 0. 0. 0. 0. 0. 0. 0.\n",
      " 0. 0. 0. 0. 0. 0. 0. 0. 0. 0. 0. 0. 0. 0. 0. 0. 0. 0. 0. 0. 0. 0. 0. 0.\n",
      " 0.]\n"
     ]
    },
    {
     "name": "stderr",
     "output_type": "stream",
     "text": [
      "/usr/local/anaconda3/envs/mlib_demo/lib/python3.7/site-packages/sklearn/utils/validation.py:595: DataConversionWarning: Data with input dtype int64 was converted to float64 by MinMaxScaler.\n",
      "  warnings.warn(msg, DataConversionWarning)\n"
     ]
    }
   ],
   "source": [
    "print(trainX[0])\n",
    "trainX_1 = MinMaxScaler().fit_transform(trainX)\n",
    "print(trainX_1[0])\n"
   ]
  },
  {
   "cell_type": "code",
   "execution_count": 62,
   "metadata": {},
   "outputs": [
    {
     "name": "stdout",
     "output_type": "stream",
     "text": [
      "[-0.04435824 -0.0357242  -0.03207026 -0.00044345 -0.00073972 -0.00733312\n",
      " -0.00029799 -0.00022854 -0.06846507 -0.00456065  0.00524239 -0.00532835\n",
      " -0.00123084 -0.00510667  0.00404233  0.01205773 -0.01242155 -0.00466891\n",
      " -0.01443527  0.00225641 -0.03115529 -0.01229341 -0.05106859 -0.04018965\n",
      " -0.04189966]\n"
     ]
    }
   ],
   "source": [
    "from sklearn.decomposition import PCA\n",
    "X_trans_pca = PCA(n_components=25).fit_transform(trainX, y[:150000])\n",
    "print(X_trans_pca[0])"
   ]
  },
  {
   "cell_type": "code",
   "execution_count": 118,
   "metadata": {},
   "outputs": [],
   "source": [
    "X_train, X_test, y_train, y_test = train_test_split(trainX, y, stratify=y, random_state=0, test_size=0.20)"
   ]
  },
  {
   "cell_type": "markdown",
   "metadata": {
    "_cell_guid": "8369ccde-a981-4f0f-ab87-62af2e7ce8ee",
    "_uuid": "11a0be29b527277f7f4e92f409a029454d3c3532"
   },
   "source": [
    "To prevent the positive class from dominating the negative, undersampling will be used to equalize the two classes."
   ]
  },
  {
   "cell_type": "code",
   "execution_count": 119,
   "metadata": {
    "_cell_guid": "83932499-f908-4c0d-81a3-a45cb2a67236",
    "_uuid": "3d969d0818a64b32cea87158395ee876da4a8d46"
   },
   "outputs": [],
   "source": [
    "rus = RandomOverSampler(random_state=0)\n",
    "X_train, y_train = rus.fit_sample(X_train, y_train)\n"
   ]
  },
  {
   "cell_type": "code",
   "execution_count": 120,
   "metadata": {},
   "outputs": [
    {
     "name": "stdout",
     "output_type": "stream",
     "text": [
      "6202 880\n"
     ]
    }
   ],
   "source": [
    "print(len(y_train), len(y_test))"
   ]
  },
  {
   "cell_type": "code",
   "execution_count": 76,
   "metadata": {},
   "outputs": [],
   "source": [
    "y_test = np.array([1 if x==0 else 0 for x in y_test ])"
   ]
  },
  {
   "cell_type": "code",
   "execution_count": 22,
   "metadata": {},
   "outputs": [
    {
     "name": "stdout",
     "output_type": "stream",
     "text": [
      "Counter({0: 419, 1: 419})\n"
     ]
    }
   ],
   "source": [
    "from collections import Counter\n",
    "cnt = Counter(y_train)\n",
    "print(cnt)"
   ]
  },
  {
   "cell_type": "code",
   "execution_count": 23,
   "metadata": {},
   "outputs": [
    {
     "name": "stdout",
     "output_type": "stream",
     "text": [
      "Counter({0: 775, 1: 105})\n"
     ]
    }
   ],
   "source": [
    "from collections import Counter\n",
    "cnt = Counter(y_test)\n",
    "print(cnt)"
   ]
  },
  {
   "cell_type": "code",
   "execution_count": 24,
   "metadata": {},
   "outputs": [
    {
     "name": "stdout",
     "output_type": "stream",
     "text": [
      "Majority class Accuracy: 0.880682\n"
     ]
    }
   ],
   "source": [
    "majority_class_y_pred = [0] * len(y_test)\n",
    "print('Majority class Accuracy: {:3f}'.format(accuracy_score(y_test, majority_class_y_pred)))"
   ]
  },
  {
   "cell_type": "code",
   "execution_count": 65,
   "metadata": {},
   "outputs": [],
   "source": [
    "from sklearn.utils import shuffle\n",
    "X_train, y_train = shuffle(X_train, y_train, random_state=0)\n"
   ]
  },
  {
   "cell_type": "code",
   "execution_count": 80,
   "metadata": {},
   "outputs": [
    {
     "name": "stdout",
     "output_type": "stream",
     "text": [
      "Counter({1: 472, 0: 472})\n"
     ]
    }
   ],
   "source": [
    "from collections import Counter\n",
    "cnt = Counter(y_train)\n",
    "print(cnt)"
   ]
  },
  {
   "cell_type": "markdown",
   "metadata": {
    "_cell_guid": "8c4eb34b-36d8-4f2f-a13b-16002026b732",
    "_uuid": "e6a897da39abfe62952374953f7a13132374c777"
   },
   "source": [
    "Let's test the dataset using default parameters and no preprocessing."
   ]
  },
  {
   "cell_type": "code",
   "execution_count": 88,
   "metadata": {
    "_cell_guid": "29fbd3ab-99b5-4c88-8313-947d8e215a75",
    "_uuid": "c549104dd471f7c65644a29a296709549d4f2c7b"
   },
   "outputs": [
    {
     "name": "stderr",
     "output_type": "stream",
     "text": [
      "/usr/local/anaconda3/envs/mlib_demo/lib/python3.7/site-packages/sklearn/linear_model/logistic.py:433: FutureWarning: Default solver will be changed to 'lbfgs' in 0.22. Specify a solver to silence this warning.\n",
      "  FutureWarning)\n"
     ]
    },
    {
     "name": "stdout",
     "output_type": "stream",
     "text": [
      "[0 0 0 0 0 0 0 0 0 0]\n",
      "[0 0 0 0 0 0 0 0 1 0]\n",
      "Precision score: 0.563654\n",
      "Recall score: 0.625530\n",
      "F1 score: 0.557493\n",
      "AUC score: 0.625530\n",
      "Confusion Metric : [[571 204]\n",
      " [ 51  54]]\n",
      "Prediction Accuracy: 0.710227\n"
     ]
    },
    {
     "data": {
      "image/png": "[encoded data removed]",
      "text/plain": [
       "<Figure size 432x288 with 1 Axes>"
      ]
     },
     "metadata": {
      "needs_background": "light"
     },
     "output_type": "display_data"
    }
   ],
   "source": [
    "lr = LogisticRegression()\n",
    "print_scores(lr, X_train, y_train, X_test, y_test)\n",
    "plot_roc(lr, X_test, y_test)"
   ]
  },
  {
   "cell_type": "code",
   "execution_count": 89,
   "metadata": {
    "_cell_guid": "d18570b4-b3bf-4cc7-a9d9-a0218447d9e8",
    "_uuid": "adad12241f6b3af8936caee06541194f2f9dd428"
   },
   "outputs": [
    {
     "name": "stdout",
     "output_type": "stream",
     "text": [
      "[0 0 0 0 0 0 0 1 0 0]\n",
      "[0 0 0 0 0 0 0 0 1 0]\n",
      "Precision score: 0.548961\n",
      "Recall score: 0.595668\n",
      "F1 score: 0.539843\n",
      "AUC score: 0.595668\n",
      "Confusion Metric : [[569 206]\n",
      " [ 57  48]]\n",
      "Prediction Accuracy: 0.701136\n"
     ]
    },
    {
     "data": {
      "image/png": "[encoded data removed]",
      "text/plain": [
       "<Figure size 432x288 with 1 Axes>"
      ]
     },
     "metadata": {
      "needs_background": "light"
     },
     "output_type": "display_data"
    }
   ],
   "source": [
    "knn = KNeighborsClassifier()\n",
    "print_scores(knn, X_train, y_train, X_test, y_test)\n",
    "plot_roc(knn, X_test, y_test)"
   ]
  },
  {
   "cell_type": "code",
   "execution_count": 90,
   "metadata": {
    "_cell_guid": "44de2926-d8b1-47d0-9cea-3d3c0d35815c",
    "_uuid": "a8479c85c0516593114ea758303289f413edddf9"
   },
   "outputs": [
    {
     "name": "stderr",
     "output_type": "stream",
     "text": [
      "/usr/local/anaconda3/envs/mlib_demo/lib/python3.7/site-packages/sklearn/ensemble/forest.py:246: FutureWarning: The default value of n_estimators will change from 10 in version 0.20 to 100 in 0.22.\n",
      "  \"10 in version 0.20 to 100 in 0.22.\", FutureWarning)\n"
     ]
    },
    {
     "name": "stdout",
     "output_type": "stream",
     "text": [
      "[0 0 0 0 0 0 0 0 0 0]\n",
      "[0 0 0 0 0 0 0 0 1 0]\n",
      "Precision score: 0.654196\n",
      "Recall score: 0.530998\n",
      "F1 score: 0.531509\n",
      "AUC score: 0.530998\n",
      "Confusion Metric : [[764  11]\n",
      " [ 97   8]]\n",
      "Prediction Accuracy: 0.877273\n"
     ]
    },
    {
     "data": {
      "image/png": "[encoded data removed]",
      "text/plain": [
       "<Figure size 432x288 with 1 Axes>"
      ]
     },
     "metadata": {
      "needs_background": "light"
     },
     "output_type": "display_data"
    }
   ],
   "source": [
    "rf = RandomForestClassifier().fit(X_train, y_train)\n",
    "y_pred = rf.predict(X_test)\n",
    "print_scores(rf, X_train, y_train, X_test, y_test)\n",
    "plot_roc(rf, X_test, y_test)"
   ]
  },
  {
   "cell_type": "code",
   "execution_count": 134,
   "metadata": {
    "_cell_guid": "0a673517-d615-41f8-ad05-6e5dd88eca2f",
    "_uuid": "a030636cd37502bb698d602d2a5341b766fec1c4"
   },
   "outputs": [
    {
     "name": "stderr",
     "output_type": "stream",
     "text": [
      "/usr/local/anaconda3/envs/mlib_demo/lib/python3.7/site-packages/sklearn/svm/base.py:196: FutureWarning: The default value of gamma will change from 'auto' to 'scale' in version 0.22 to account better for unscaled features. Set gamma explicitly to 'auto' or 'scale' to avoid this warning.\n",
      "  \"avoid this warning.\", FutureWarning)\n",
      "/usr/local/anaconda3/envs/mlib_demo/lib/python3.7/site-packages/sklearn/svm/base.py:196: FutureWarning: The default value of gamma will change from 'auto' to 'scale' in version 0.22 to account better for unscaled features. Set gamma explicitly to 'auto' or 'scale' to avoid this warning.\n",
      "  \"avoid this warning.\", FutureWarning)\n"
     ]
    },
    {
     "name": "stdout",
     "output_type": "stream",
     "text": [
      "[0 0 0 0 0 0 0 0 0 0]\n",
      "[0 0 0 0 0 0 0 0 1 0]\n",
      "prediction   gold  tweet\n",
      "0\t1\t@USER Hatred of the man makes people like this fool say things like this . Not reality .\n",
      "0\t1\t@USER Calling it something different still a PAC . You are for NO BORDERS = NO COUNTRY HIGHER TAXES Gun control SOCIALIST REMOVING ICE YOU WORK FOR ILLEGALS FOR BRAC NO FAMILY TEXAS VALUES WE ARENT CALIFORNIA LIKE JONES U PPL DONT EVEN LIVE HERE . Stay in DC\n",
      "1\t0\t@USER Fuck Alan I’m sorry\n",
      "1\t0\t@USER omg fuck our lives sis\n",
      "1\t0\t@USER @USER @USER @USER @USER @USER @USER @USER @USER @USER @USER @USER @USER @USER @USER @USER @USER @USER @USER @USER Jaws V : When Jaws Jaws Back - Starring Kurt Chiselchest and Lorna Buxom Whud I win ? It better not be one of them laser swords ... Jess will b jealous .\n",
      "0\t1\t@USER @USER @USER @USER Lord Of The Pies should kept his c*ck holster shut . Nobody gives a toss what you Hollyweirdo's have to say . #MAGA\n",
      "0\t1\t@USER A dying sport\n",
      "1\t0\t@USER Who talks shit on buff chicken dip dude it’s buff chicken dip\n",
      "0\t1\t@USER Seriously ??.... Guess comedy is easier to get viral .... Have you tried drawing shit ? XD\n",
      "0\t1\tYou #Fanatical #Sycophant #Religious #extremists are so #fucking close to getting another #WhiteSupremacist #evangelical on the #SupremeCourt to overturn #RoevWade Wouldn't it just suck to have the rug pulled out from underneath your feet #MAGA ? #Fuckoff #Gilead #Kavanaugh URL\n",
      "1\t0\t@USER i BREATGE in kpop stan u nigger\n",
      "0\t1\t@USER @USER @USER @USER @USER @USER @USER 😂😂😂😂😂😂 yeah . Peaceful because the right .. Well .. know they're right . No counter protests . Unlike fascist Antifa . As for 7k .. who counted ? Dianne Abbott ???\n",
      "0\t1\t@USER We are playing Clue based on a high school party in the 80s when a federal judge was in his teens . Does anyone really take this seriously ?\n",
      "0\t1\t@USER Sounds like you're a Fascist .\n",
      "0\t1\t@USER Bad behavior like that is never acceptable .\n",
      "0\t1\t@USER Gun control now ! Enough is enough !\n",
      "1\t0\t@USER Lmfaooooo foh w that free thought shit Lmaoooo\n",
      "1\t0\t@USER 7 $ million buyout . Losers .\n",
      "0\t1\t@USER I mean , the logic \" behind their claim means that in the 90's the Liberals felt it was OK for a man to abuse women ... that's essentially what they are saying ... and that the Conservatives were in the right ... right ? \"\n",
      "1\t0\t@USER UR SO FUCKIDNG PRETTY PERHAPS I SHED TEARS URL\n",
      "1\t0\t@USER @USER NO REAL AMERICAN WOULD WATCH THIS CRAP\n",
      "0\t1\t@USER @USER @USER GOV Brown needs a class on #MAGA 101 . Also need a swift kick in the pants for insulating @USER .\n",
      "1\t0\t@USER He is like “ Holy jesus fucken Christ ”\n",
      "1\t0\t@USER @USER ikr ? Riding trainer ? Have fun running to Lower Rear BackWoodsistan Fucker !\n",
      "1\t0\t@USER Open a Case \" 4-this : John Kerry : \" Obama & I * KNOWINGLY * FUNDED * TERROR \" 55 BILLION $$$ With a \" B \" !! God bless Trump #MAGA #KAG #DeepState .. ( FULL LINK : URL .. URL\n",
      "1\t0\t@USER Sucks\n",
      "0\t1\t@USER Breitbart has become neocon Establishment and is Fake News the worst of the lot is Alex Marlow a total loser . Watch or listen to Fault Lines with Stranahahn and Nixon instead probably the best show of its kind . Stranahahn fired by Breitbart for being too good .\n",
      "1\t0\t@USER @USER @USER @USER And you’re just another Twitter asshole . #Muted\n",
      "1\t0\t@USER @USER @USER @USER @USER @USER @USER @USER @USER @USER @USER @USER @USER @USER @USER @USER @USER @USER @USER @USER @USER @USER @USER @USER @USER @USER I never talked about gun control in any form .\n",
      "0\t1\t@USER Disgusting ! That tells you more than anything that we need law n order and that's conservatives n Kavanaugh !\n",
      "0\t1\t@USER @USER ( 1 ) Ok lets play this game . Which side \" is openly advocating for the persecution of a race & promoting segregation ? Which is supporting a militant group very similar to Hitlers brown shirts ( Antifa) ? Which is calling for gun control ( even wanted armbands) ? \"\n",
      "1\t0\t@USER Oakland line sucks\n",
      "0\t1\t@USER @USER @USER She ? To whom are you referring to ? Hillary ? You know what is tiresome ? Bernie supporters bashing Hillary Clinton . She is an actual Democrat who raises money for the Democratic Party and doesn’t bash them . She has a positive message . So who is dividing the left ?\n",
      "0\t1\t@USER @USER I SHITTED/SHAT YTD AND LOST 0.6 KG CAN U BELIEVE IT\n",
      "0\t1\t@USER Bill you should be silent on gun control and immigrantion . You had 8 years and did nothing . Don't be a Monday morning quarterback now . To little to late .\n",
      "0\t1\t@USER @USER Liberals wouldn’t know the first thing about “ doing the right thing ” 🤣🤣🤣🖕🏼🖕🏼🖕🏼🖕🏼🖕🏼\n",
      "0\t1\t@USER to quit sex ?\n",
      "0\t1\t@USER @USER @USER I have been thinking about it and it's not inconceivable that someone was trying to meddle with people's minds regarding gun control . I am double-minded about the use of arms because I am a peacemaker . Shoot once and you could start a big war . >2\n",
      "0\t1\t@USER sex games will make you feel like you're actully having sex or , as ign would describe it it really makes you feel like you're fucking some whore in an alleyway \"\"\n",
      "1\t0\t@USER WHAT I SAY ABOUT BEING A LITTLE PUSSY AND SAYING SHIT BEHIND PEOPLE'S BACK\n",
      "1\t0\t@USER Never nigga 💀💀\n",
      "0\t1\t@USER I think other countries are following MAGA 😀 People are sick of being overrun & then have to pay for it all !\n",
      "0\t1\t@USER @USER I'm all for gun control use both hand's\n",
      "1\t0\t@USER * as fuck . Not ass fuck . Although conservatives are fucking us all up the ass right now .\n",
      "1\t0\t@USER REST IN PUSSY\n",
      "1\t0\t@USER Screw you and that keep up \" shit honestly 😂 \"\n",
      "0\t1\t@USER @USER Right ?! I wanna know why she on the phone calling the police anyway ? what did he do \" ? Fuckin \" Run Me Over Rhonda \" lol \"\n",
      "1\t0\t@USER Gorgeous ! And those tits are KILLER ! ❤ ️\n",
      "0\t1\t@USER I still can't read an analog clock like I can but it takes me like a fucking minute to process it and I can't just glance at one like a digital click\n",
      "1\t0\t@USER Stfu bitch lol why u Salty I’m tryna get twitter famous ya know\n",
      "1\t0\t@USER IM GOING HARDCORE BITCH\n",
      "0\t1\t@USER Bill and Brooke deserve each other . They are like hot and cold . They’re in love with this person this week and in love it that on the next . Brooke I can understand . She is the SFTV but Bill ?! They’ve ruined him .\n",
      "0\t1\t@USER MEANWHILE ... Greatest economy ever . More jobs for blacks and hispanics in history . 401K is kicking ass . MS13 and ILLEGALS are being DEPORTED daily . NK is back to the table for denuclearizing . Trump is draining the corruption of DOJ and FBI . #OUTFRICKINGSTANDING ! #MAGA2020 URL\n",
      "1\t0\t@USER @USER YES BITCH\n",
      "1\t0\t@USER a bat my nigga\n",
      "0\t1\t@USER there is no way she is 26 wow drugs maybe who knows\n",
      "1\t0\tAin’t got shit done today\n",
      "1\t0\t@USER Ouch !\n",
      "0\t1\t@USER @USER True but the constant talk from the left about common sense gun control every time and yet not one valid proposal\n",
      "1\t0\t@USER @USER I understand I sound cold-but I love Nintendo . This money grubbing bastards 😹\n",
      "1\t0\t@USER Ur head bout big as shit\n",
      "1\t0\t@USER @USER Picked the fuck up\n",
      "0\t1\t@USER @USER @USER That's why what she did was an ANTIFA style attack . Abusive method meant to bully opposition into silence for control\n",
      "1\t0\t@USER Patrick ass ??\n",
      "1\t0\t@USER Nigga keep tryna play both sides lol\n",
      "1\t0\t@USER “ the sex symbol of rap ” LMAOOO BITCH YOUre FAT aS FUCK ANYWAYS you tryna fight ?\n",
      "1\t0\t6 . She's a fucking icon . a legend . a genius . THAT BITCH . SHE IS QUEEN . 👑👑👑👑 @USER #NickiDaGOAT URL\n",
      "1\t0\t@USER @USER @USER @USER @USER Me thinks you're full of shit .\n",
      "1\t0\t@USER hey bitch daily reminder that i love you\n",
      "0\t1\t@USER @USER Technically speaking he is hamstrung by drug & alcohol addiction\n",
      "0\t1\t@USER @USER You are delusional if you think he is the reason either game was lost in the past two seasons lmao\n",
      "1\t0\t@USER It’s in my fuckbucket\n",
      "1\t0\t@USER @USER Hunnid Stax my shit\n",
      "1\t0\t@USER holy fuck\n",
      "1\t0\t@USER josh as slave leia\n",
      "0\t1\t@USER Why are you bothering me\n",
      "0\t1\tBusiness is business . I love this story . URL\n",
      "0\t1\t@USER The perpetrator is responsible for his own actions but you are ignoring that Maxine Waters & others are inciting violence . Do consider she said that they should not be able to eat , shop or do anything in peace \" ... how would one survive without being able to trade ? \"\n",
      "1\t0\t@USER For the hol tl to see😭 . That’s tht Big Dick energy 💯\n",
      "1\t0\t@USER BITCH I FUCKING FELT THAT SHIT🤧💀\n",
      "1\t0\t@USER @USER It's Bull Shit . We all know .\n",
      "0\t1\t@USER Go crash another plane .\n",
      "0\t1\t@USER Behind bars with a orange jumpsuit for all her crimes dating back to Arkansas ~ along with Billy ~ Globalist deplorable ~ she is ~ Karma is a bitc- and it needs to call on Killary this year for sure !! Time to pay your dues Hillary Rodham Clinton ~ Lucerferian ~\n",
      "1\t0\t@USER @USER Grab em by the pussy !!! What's the problem ?\n",
      "0\t1\t@USER And republicans fall right in line and say these are serious accusations we must postpone the vote until we hear from her \" . Many republicans are not interested in being conservatives . \"\n",
      "1\t0\t@USER @USER LMAO .... YOU SUCK NFL\n",
      "1\t0\t@USER @USER @USER What a piece of shit\n",
      "0\t1\t@USER Joe Scarborough still hasn't answered for the young woman that was found dead on his office . He is s lying chickenshit .\n",
      "1\t0\tSnowflake @USER - whine whine whine #MAGA baby URL\n",
      "1\t0\t@USER He's beyond moron .\n",
      "0\t1\t@USER This is Gun Control !\n",
      "1\t0\t@USER @USER @USER Over 7 years .... it’s pathetic .\n",
      "0\t1\tHow does this #MAGA ...?!? Is this our tax dollars at work ...?!? URL\n",
      "0\t1\t@USER Damn he fell victim to a little thing called TOS much like the ones on his own site URL URL\n",
      "0\t1\t@USER 2018 charts she is . Overall fuck no . Cardi got ways to go to catch niki\n",
      "1\t0\t@USER Dumb kid\n",
      "1\t0\t@USER @USER Go home you’re drunk !!! @USER #MAGA #Trump2020 👊🇺🇸👊 URL\n",
      "0\t1\t@USER @USER lmao @ the WORLD league viewership compared to league of legends or overwatch or cs : go . Main issues are that the format is shit and the game is on console . So you need to fix one of them . Console could be turned into an advantage uf u capture the attention of Joe Shmo\n",
      "0\t1\t@USER @USER @USER “ Like hell he is hurt . Do your job ” -Randy Orton . Do you have ears ?\n",
      "0\t1\tBut but #Beeto has the Drunk Drivers Who Leave The Scene Of An Accident vote all sewed up ! #MAGA @USER #TxSen URL\n",
      "0\t1\t@USER @USER Shove it The View you are the most despicable show on tv and like everyone always says “ who watches these bimbos ” !\n",
      "0\t1\t@USER Doesn’t “ myth ” mean something that isn’t true ? 🤔 ... hmmmm .. hollyweird liberals should stick to make believe world .. #dummies 👇 URL\n",
      "0\t1\t@USER She is dillusional !\n",
      "1\t0\t@USER Ouch !\n",
      "1\t0\t#Police ? #Banter Training ? Oh my God ! Fools and Tools . #MAGA #MEGA #MBGA #MCGA #Conservatives #Patriots URL\n",
      "0\t1\t@USER Stamp we did this shit all the time\n",
      "0\t1\t@USER It’s going to suck with any rating . Venom without the Spiderman origin isn’t really Venom . This is just a Sony cash grab .\n"
     ]
    },
    {
     "name": "stdout",
     "output_type": "stream",
     "text": [
      "0\t1\t@USER You are a hero !! URL\n",
      "0\t1\t@USER Truly . He had that sly , self-deprecating humor and swagger . Like you said , very American \" . \"\n",
      "0\t1\t@USER @USER majority of DACA from 3rd world countries are communists ~ activists-Antifa-Ofa & 1 INCOMPATIBLES w/USculture&2Felons by criminal violence&participation in cult includes kill potus45 \" & \" destroySovereignUSA-USConstnDem'y+ replace w/marxist 4thReichNWO tyranny = TREASON \"\n",
      "0\t1\t@USER @USER @USER U don’t think bad stuff happens to men in cars ? Shit happens to everyone it’s just your mindset on how you deal with possible issues like that . You can’t spend your whole life worrying about something that most likely won’t happen to you . But it’s your life do ur thing haha .\n",
      "0\t1\t@USER @USER @USER @USER Police reform yes . We should try that . Gun control ? We’ve tried that over and over again . It doesn’t work . But maybe it’s like socialism or communism . We just haven’t done it right yet . /Sarcasm\n",
      "0\t1\t@USER I am a survivor of sexual abuse . This woman is obviously lying . Believe me you remember every detail . It's so obvious these woman only come forward to hurt conservatives . But who they truly are hurting is innocent men and women who really have been abused . She should be ashamed !\n",
      "0\t1\t@USER The ratings are low because of people like you & the other guy making fun of conservatives .. This is one reason why Trump won .. You people just don't get it & pitiful & shameful ...\n",
      "0\t1\t@USER White liberals really hate themselves . #TDS\n",
      "0\t1\tAmerica ..!! #WalkAway Get out and VOTE or live in POVERTY and SERVITUDE ...!! \" #MAGA #WWG1WGA URL\n",
      "0\t1\t@USER This is not possible . California has implemented strict gun control . Only law enforcement and those fortunate enough to get a permit can carry in public . “ Assault weapons ” are banned .\n",
      "1\t0\t@USER Bird ass URL\n",
      "0\t1\t@USER @USER @USER @USER So if Paul Golding turned up for a job at the BBC you'd let him work for them ?\n",
      "0\t1\t@USER Morals ? You mean like aborting an infant ? Falsely accusing people ? Antifa violence ? Censoring free speech on campuses ? Looting ? Lying as you fill the Deep State ? Those morals ?\n",
      "1\t0\t@USER I don’t trust Kanye right now . I might not like that shit .\n",
      "0\t1\t@USER Dont believe the hype .\n",
      "1\t0\t#ThursdayThoughts - FUCK liberals . Forever .\n",
      "1\t0\t@USER My . Arms . Wasn't . That . Big ! N . Neither . Was . My . Boobs ! They . Are . Now ! From . Them . Injecting . Fat ! Into . My . Body !\n",
      "0\t1\t@USER Can someone tell this dumb we are a republic\n",
      "1\t0\t@USER Cause you sweet lil nigga\n",
      "1\t0\t@USER they’re abso shite quality tho\n",
      "1\t0\t@USER This is the realest ( and tealest ) shit ever . Eric da gawd\n",
      "1\t0\t@USER Ouch !\n",
      "1\t0\t@USER @USER Ikkk he is a fucking prince 6al3 mn al stories bta3in Disney kida ahhooo😹😭😹😭😹💜💜💜\n",
      "1\t0\t@USER Never had . Let's fuck it up .\n",
      "1\t0\t@USER @USER Steroid girl in steroid rage\n",
      "0\t1\t@USER You hear something he is not saying but they did drink supposedly at that school in the 80s which was 18 in 79 . This tales is 1982 when limits moved to 21 but there is a girl 15 accusing a boy 17 of everything but sex . If you think it is rape prosecute it . Do not imply boy lies\n",
      "1\t0\t@USER Omg he is !!!!! I fucking hate Dale !!!!!!\n",
      "1\t0\t@USER @USER @USER Ha ha yes fuck yes 😂😈 ❤ ️\n",
      "1\t0\t#ReleaseTheCures #DeclassifyFISA 🇺🇸 #ItsTime #LockThemAllUp #WWG1WGA 🇺🇸 #GreatAwakening @USER #Winning #QAnon #MAGA Why James Comey knows he's going to be indicted — 9/14/18 - YouTube URL\n",
      "1\t0\t@USER real shit URL\n",
      "1\t0\t@USER Let me borrow yo shit first 🤣\n",
      "0\t1\t@USER ... her background is being kept under wraps ... chance she is a rabid MAGA ... as most cops are ! Law enforcement entities are attempting to keep quite those who are in trouble and who are MAGA's ...\n",
      "1\t0\t@USER I’m jealous\n",
      "1\t0\t@USER @USER @USER @USER @USER I’m gunna fucking die oh my god\n",
      "0\t1\t@USER Does one bring the other ? #Sex #War See Penthouse magazine in the 1980's . Sex followed by guns .\n",
      "1\t0\t@USER @USER I'm sorry but damn she is hot af\n",
      "1\t0\t@USER Right ..? Total OCD right there lol Yeah ... totally gonna floss that sucker off .\n",
      "Precision score: 0.615155\n",
      "Recall score: 0.618925\n",
      "F1 score: 0.616980\n",
      "AUC score: 0.618925\n",
      "Confusion Metric : [[701  74]\n",
      " [ 70  35]]\n",
      "Prediction Accuracy: 0.836364\n"
     ]
    },
    {
     "data": {
      "image/png": "[encoded data removed]",
      "text/plain": [
       "<Figure size 432x288 with 1 Axes>"
      ]
     },
     "metadata": {
      "needs_background": "light"
     },
     "output_type": "display_data"
    }
   ],
   "source": [
    "svc = SVC().fit(X_train, y_train)\n",
    "print_scores(svc, X_train, y_train, X_test, y_test, tweet_text)\n",
    "\n",
    "plot_roc(svc, X_test, y_test)"
   ]
  },
  {
   "cell_type": "code",
   "execution_count": 17,
   "metadata": {
    "_cell_guid": "f5b8b4a0-7f84-43a7-b5e8-13a832680cfe",
    "_uuid": "7ff1f59ceedf45a375f322043d0c3ebdf909a496"
   },
   "outputs": [
    {
     "name": "stdout",
     "output_type": "stream",
     "text": [
      "[0 0 0 0 0 0 0 0 0 0]\n",
      "[0 0 0 0 0 0 0 0 1 0]\n",
      "Precision score: 0.440341\n",
      "Recall score: 0.500000\n",
      "F1 score: 0.468278\n",
      "AUC score: 0.500000\n",
      "Confusion Metric : [[775   0]\n",
      " [105   0]]\n",
      "Prediction Accuracy: 0.880682\n"
     ]
    },
    {
     "name": "stderr",
     "output_type": "stream",
     "text": [
      "/usr/local/anaconda3/envs/mlib_demo/lib/python3.7/site-packages/sklearn/metrics/classification.py:1143: UndefinedMetricWarning: Precision is ill-defined and being set to 0.0 in labels with no predicted samples.\n",
      "  'precision', 'predicted', average, warn_for)\n",
      "/usr/local/anaconda3/envs/mlib_demo/lib/python3.7/site-packages/sklearn/metrics/classification.py:1143: UndefinedMetricWarning: F-score is ill-defined and being set to 0.0 in labels with no predicted samples.\n",
      "  'precision', 'predicted', average, warn_for)\n"
     ]
    },
    {
     "data": {
      "image/png": "[encoded data removed]",
      "text/plain": [
       "<Figure size 432x288 with 1 Axes>"
      ]
     },
     "metadata": {
      "needs_background": "light"
     },
     "output_type": "display_data"
    }
   ],
   "source": [
    "svc = LinearSVC().fit(X_train, y_train)\n",
    "print_scores(svc, X_train, y_train, X_test, y_test)\n",
    "plot_roc(svc, X_test, y_test)"
   ]
  },
  {
   "cell_type": "code",
   "execution_count": 92,
   "metadata": {
    "_cell_guid": "8c339a6d-4892-4db4-b9b8-175b2757bf18",
    "_uuid": "f286bdaa2b1729a569c730713f7e31e208b806fe"
   },
   "outputs": [
    {
     "name": "stdout",
     "output_type": "stream",
     "text": [
      "[0 0 0 0 0 0 1 0 0 0]\n",
      "[0 0 0 0 0 0 0 0 1 0]\n",
      "Precision score: 0.559524\n",
      "Recall score: 0.562919\n",
      "F1 score: 0.561092\n",
      "AUC score: 0.562919\n",
      "Confusion Metric : [[688  87]\n",
      " [ 80  25]]\n",
      "Prediction Accuracy: 0.810227\n"
     ]
    },
    {
     "data": {
      "image/png": "[encoded data removed]",
      "text/plain": [
       "<Figure size 432x288 with 1 Axes>"
      ]
     },
     "metadata": {
      "needs_background": "light"
     },
     "output_type": "display_data"
    }
   ],
   "source": [
    "dtc = DecisionTreeClassifier().fit(X_train, y_train)\n",
    "y_pred = dtc.predict(X_test)\n",
    "print_scores(dtc, X_train, y_train, X_test, y_test)\n",
    "plot_roc(dtc, X_test, y_test)"
   ]
  },
  {
   "cell_type": "code",
   "execution_count": 93,
   "metadata": {
    "_cell_guid": "601752ee-1922-4d34-af02-dbb8c44a1eca",
    "_uuid": "987f140dfb6c5ae35c2072dce4a00bfc75550b9c"
   },
   "outputs": [
    {
     "name": "stdout",
     "output_type": "stream",
     "text": [
      "[0 0 0 0 0 0 0 0 0 0]\n",
      "[0 0 0 0 0 0 0 0 1 0]\n",
      "Precision score: 0.595741\n",
      "Recall score: 0.561444\n",
      "F1 score: 0.571257\n",
      "AUC score: 0.561444\n",
      "Confusion Metric : [[730  45]\n",
      " [ 86  19]]\n",
      "Prediction Accuracy: 0.851136\n"
     ]
    },
    {
     "data": {
      "image/png": "[encoded data removed]",
      "text/plain": [
       "<Figure size 432x288 with 1 Axes>"
      ]
     },
     "metadata": {
      "needs_background": "light"
     },
     "output_type": "display_data"
    }
   ],
   "source": [
    "mlp = MLPClassifier().fit(X_train, y_train)\n",
    "print_scores(mlp, X_train, y_train, X_test, y_test)\n",
    "plot_roc(mlp, X_test, y_test)"
   ]
  },
  {
   "cell_type": "markdown",
   "metadata": {
    "_cell_guid": "3a8bca6a-050e-4481-91b8-4d07840a262c",
    "_uuid": "7672935cffa1630cd784f26b8eab85db32d51de5"
   },
   "source": [
    "Let's now use grid search and 4-fold cross validation to find the best parameters on the efficient models."
   ]
  },
  {
   "cell_type": "code",
   "execution_count": 61,
   "metadata": {
    "_cell_guid": "46875d53-1d4c-4524-ae19-b203bf7d65e0",
    "_uuid": "b0da9ff39c1a1abd48f4154bb2fed93a3212eb72"
   },
   "outputs": [
    {
     "ename": "NameError",
     "evalue": "name 'X_resample' is not defined",
     "output_type": "error",
     "traceback": [
      "\u001b[0;31m---------------------------------------------------------------------------\u001b[0m",
      "\u001b[0;31mNameError\u001b[0m                                 Traceback (most recent call last)",
      "\u001b[0;32m<ipython-input-61-3671411aab6f>\u001b[0m in \u001b[0;36m<module>\u001b[0;34m\u001b[0m\n\u001b[1;32m      1\u001b[0m gs = GridSearchCV(LogisticRegression(), \n\u001b[1;32m      2\u001b[0m              param_grid={'C': [0.0001, 0.001, 0.01, 0.1, 1]}, scoring='accuracy', cv=4)\n\u001b[0;32m----> 3\u001b[0;31m \u001b[0mgs\u001b[0m \u001b[0;34m=\u001b[0m \u001b[0mgs\u001b[0m\u001b[0;34m.\u001b[0m\u001b[0mfit\u001b[0m\u001b[0;34m(\u001b[0m\u001b[0mX_resample\u001b[0m\u001b[0;34m,\u001b[0m \u001b[0my_resample\u001b[0m\u001b[0;34m)\u001b[0m\u001b[0;34m\u001b[0m\u001b[0m\n\u001b[0m\u001b[1;32m      4\u001b[0m \u001b[0mprint\u001b[0m\u001b[0;34m(\u001b[0m\u001b[0mgs\u001b[0m\u001b[0;34m.\u001b[0m\u001b[0mbest_params_\u001b[0m\u001b[0;34m)\u001b[0m\u001b[0;34m\u001b[0m\u001b[0m\n\u001b[1;32m      5\u001b[0m \u001b[0mprint\u001b[0m\u001b[0;34m(\u001b[0m\u001b[0;34m'best score: {:3f}'\u001b[0m\u001b[0;34m.\u001b[0m\u001b[0mformat\u001b[0m\u001b[0;34m(\u001b[0m\u001b[0mgs\u001b[0m\u001b[0;34m.\u001b[0m\u001b[0mbest_score_\u001b[0m\u001b[0;34m)\u001b[0m\u001b[0;34m)\u001b[0m\u001b[0;34m\u001b[0m\u001b[0m\n",
      "\u001b[0;31mNameError\u001b[0m: name 'X_resample' is not defined"
     ]
    }
   ],
   "source": [
    "gs = GridSearchCV(LogisticRegression(), \n",
    "             param_grid={'C': [0.0001, 0.001, 0.01, 0.1, 1]}, scoring='accuracy', cv=4)\n",
    "gs = gs.fit(X_resample, y_resample)\n",
    "print(gs.best_params_)\n",
    "print('best score: {:3f}'.format(gs.best_score_))\n",
    "plot_roc(gs, X_resample, y_resample)"
   ]
  },
  {
   "cell_type": "code",
   "execution_count": 157,
   "metadata": {},
   "outputs": [
    {
     "name": "stderr",
     "output_type": "stream",
     "text": [
      "/usr/local/anaconda3/envs/mlib_demo/lib/python3.7/site-packages/sklearn/linear_model/logistic.py:433: FutureWarning: Default solver will be changed to 'lbfgs' in 0.22. Specify a solver to silence this warning.\n",
      "  FutureWarning)\n"
     ]
    },
    {
     "name": "stdout",
     "output_type": "stream",
     "text": [
      "[1 0 1 0 1 0 0 0 0 0]\n",
      "[0 0 1 0 1 0 0 0 0 0]\n",
      "Precision score: 0.567834\n",
      "Recall score: 0.651837\n",
      "F1 score: 0.541183\n",
      "AUC score: 0.651837\n",
      "Confusion Metric : [[768 395]\n",
      " [ 56 101]]\n",
      "Prediction Accuracy: 0.658333\n"
     ]
    },
    {
     "data": {
      "image/png": "[encoded data removed]",
      "text/plain": [
       "<Figure size 432x288 with 1 Axes>"
      ]
     },
     "metadata": {
      "needs_background": "light"
     },
     "output_type": "display_data"
    }
   ],
   "source": [
    "lrc = LogisticRegression(C=0.001)\n",
    "print_scores(lrc, X_train, y_train, X_test, y_test)\n",
    "plot_roc(lrc, X_test, y_test)"
   ]
  },
  {
   "cell_type": "markdown",
   "metadata": {
    "_cell_guid": "10df0403-5986-46c9-ad74-eb2f5645c003",
    "_uuid": "c202083426db4d3f791663d4447b34ba85b5653a"
   },
   "source": [
    "Comparing the RBF kernel SVC to the linear SVC there's not much of a performance difference."
   ]
  },
  {
   "cell_type": "code",
   "execution_count": 158,
   "metadata": {
    "_cell_guid": "028ca96c-6af8-48fe-94df-8199b530ab7e",
    "_uuid": "8a9a42858c4b6b8b236d4f0c7d2e85a7932176e7"
   },
   "outputs": [
    {
     "name": "stderr",
     "output_type": "stream",
     "text": [
      "/usr/local/anaconda3/envs/mlib_demo/lib/python3.7/site-packages/sklearn/svm/base.py:922: ConvergenceWarning: Liblinear failed to converge, increase the number of iterations.\n",
      "  \"the number of iterations.\", ConvergenceWarning)\n",
      "/usr/local/anaconda3/envs/mlib_demo/lib/python3.7/site-packages/sklearn/svm/base.py:922: ConvergenceWarning: Liblinear failed to converge, increase the number of iterations.\n",
      "  \"the number of iterations.\", ConvergenceWarning)\n",
      "/usr/local/anaconda3/envs/mlib_demo/lib/python3.7/site-packages/sklearn/svm/base.py:922: ConvergenceWarning: Liblinear failed to converge, increase the number of iterations.\n",
      "  \"the number of iterations.\", ConvergenceWarning)\n",
      "/usr/local/anaconda3/envs/mlib_demo/lib/python3.7/site-packages/sklearn/svm/base.py:922: ConvergenceWarning: Liblinear failed to converge, increase the number of iterations.\n",
      "  \"the number of iterations.\", ConvergenceWarning)\n",
      "/usr/local/anaconda3/envs/mlib_demo/lib/python3.7/site-packages/sklearn/svm/base.py:922: ConvergenceWarning: Liblinear failed to converge, increase the number of iterations.\n",
      "  \"the number of iterations.\", ConvergenceWarning)\n",
      "/usr/local/anaconda3/envs/mlib_demo/lib/python3.7/site-packages/sklearn/svm/base.py:922: ConvergenceWarning: Liblinear failed to converge, increase the number of iterations.\n",
      "  \"the number of iterations.\", ConvergenceWarning)\n",
      "/usr/local/anaconda3/envs/mlib_demo/lib/python3.7/site-packages/sklearn/svm/base.py:922: ConvergenceWarning: Liblinear failed to converge, increase the number of iterations.\n",
      "  \"the number of iterations.\", ConvergenceWarning)\n",
      "/usr/local/anaconda3/envs/mlib_demo/lib/python3.7/site-packages/sklearn/svm/base.py:922: ConvergenceWarning: Liblinear failed to converge, increase the number of iterations.\n",
      "  \"the number of iterations.\", ConvergenceWarning)\n",
      "/usr/local/anaconda3/envs/mlib_demo/lib/python3.7/site-packages/sklearn/svm/base.py:922: ConvergenceWarning: Liblinear failed to converge, increase the number of iterations.\n",
      "  \"the number of iterations.\", ConvergenceWarning)\n",
      "/usr/local/anaconda3/envs/mlib_demo/lib/python3.7/site-packages/sklearn/svm/base.py:922: ConvergenceWarning: Liblinear failed to converge, increase the number of iterations.\n",
      "  \"the number of iterations.\", ConvergenceWarning)\n",
      "/usr/local/anaconda3/envs/mlib_demo/lib/python3.7/site-packages/sklearn/svm/base.py:922: ConvergenceWarning: Liblinear failed to converge, increase the number of iterations.\n",
      "  \"the number of iterations.\", ConvergenceWarning)\n",
      "/usr/local/anaconda3/envs/mlib_demo/lib/python3.7/site-packages/sklearn/svm/base.py:922: ConvergenceWarning: Liblinear failed to converge, increase the number of iterations.\n",
      "  \"the number of iterations.\", ConvergenceWarning)\n"
     ]
    },
    {
     "name": "stdout",
     "output_type": "stream",
     "text": [
      "{'C': 0.1}\n",
      "best score: 0.720975\n"
     ]
    },
    {
     "name": "stderr",
     "output_type": "stream",
     "text": [
      "/usr/local/anaconda3/envs/mlib_demo/lib/python3.7/site-packages/sklearn/svm/base.py:922: ConvergenceWarning: Liblinear failed to converge, increase the number of iterations.\n",
      "  \"the number of iterations.\", ConvergenceWarning)\n"
     ]
    },
    {
     "data": {
      "image/png": "[encoded data removed]",
      "text/plain": [
       "<Figure size 432x288 with 1 Axes>"
      ]
     },
     "metadata": {
      "needs_background": "light"
     },
     "output_type": "display_data"
    }
   ],
   "source": [
    "param_grid = {'C': [0.001, 0.01, 0.1, 1, 10]}\n",
    "gs = GridSearchCV(LinearSVC(), \n",
    "             param_grid=param_grid, scoring=\"accuracy\", cv=4)\n",
    "gs = gs.fit(X_resample, y_resample)\n",
    "print(gs.best_params_)\n",
    "print('best score: {:3f}'.format(gs.best_score_))\n",
    "plot_roc(gs, X_resample, y_resample)"
   ]
  },
  {
   "cell_type": "code",
   "execution_count": 28,
   "metadata": {},
   "outputs": [
    {
     "name": "stdout",
     "output_type": "stream",
     "text": [
      "[0 0 1 1 1 0 1 1 1 1]\n",
      "[1 1 1 1 0 1 0 0 1 1]\n",
      "Precision score: 0.641254\n",
      "Recall score: 0.641221\n",
      "F1 score: 0.641200\n",
      "AUC score: 0.641221\n",
      "Confusion Metric : [[83 48]\n",
      " [46 85]]\n"
     ]
    },
    {
     "data": {
      "image/png": "[encoded data removed]",
      "text/plain": [
       "<Figure size 432x288 with 1 Axes>"
      ]
     },
     "metadata": {
      "needs_background": "light"
     },
     "output_type": "display_data"
    }
   ],
   "source": [
    "svc = LinearSVC(C=0.001).fit(X_train, y_train)\n",
    "print_scores(svc, X_train, y_train, X_test, y_test)\n",
    "plot_roc(svc, X_test, y_test)"
   ]
  },
  {
   "cell_type": "code",
   "execution_count": 159,
   "metadata": {},
   "outputs": [
    {
     "name": "stderr",
     "output_type": "stream",
     "text": [
      "/usr/local/anaconda3/envs/mlib_demo/lib/python3.7/site-packages/sklearn/svm/base.py:196: FutureWarning: The default value of gamma will change from 'auto' to 'scale' in version 0.22 to account better for unscaled features. Set gamma explicitly to 'auto' or 'scale' to avoid this warning.\n",
      "  \"avoid this warning.\", FutureWarning)\n",
      "/usr/local/anaconda3/envs/mlib_demo/lib/python3.7/site-packages/sklearn/svm/base.py:196: FutureWarning: The default value of gamma will change from 'auto' to 'scale' in version 0.22 to account better for unscaled features. Set gamma explicitly to 'auto' or 'scale' to avoid this warning.\n",
      "  \"avoid this warning.\", FutureWarning)\n",
      "/usr/local/anaconda3/envs/mlib_demo/lib/python3.7/site-packages/sklearn/svm/base.py:196: FutureWarning: The default value of gamma will change from 'auto' to 'scale' in version 0.22 to account better for unscaled features. Set gamma explicitly to 'auto' or 'scale' to avoid this warning.\n",
      "  \"avoid this warning.\", FutureWarning)\n",
      "/usr/local/anaconda3/envs/mlib_demo/lib/python3.7/site-packages/sklearn/svm/base.py:196: FutureWarning: The default value of gamma will change from 'auto' to 'scale' in version 0.22 to account better for unscaled features. Set gamma explicitly to 'auto' or 'scale' to avoid this warning.\n",
      "  \"avoid this warning.\", FutureWarning)\n",
      "/usr/local/anaconda3/envs/mlib_demo/lib/python3.7/site-packages/sklearn/svm/base.py:196: FutureWarning: The default value of gamma will change from 'auto' to 'scale' in version 0.22 to account better for unscaled features. Set gamma explicitly to 'auto' or 'scale' to avoid this warning.\n",
      "  \"avoid this warning.\", FutureWarning)\n",
      "/usr/local/anaconda3/envs/mlib_demo/lib/python3.7/site-packages/sklearn/svm/base.py:196: FutureWarning: The default value of gamma will change from 'auto' to 'scale' in version 0.22 to account better for unscaled features. Set gamma explicitly to 'auto' or 'scale' to avoid this warning.\n",
      "  \"avoid this warning.\", FutureWarning)\n",
      "/usr/local/anaconda3/envs/mlib_demo/lib/python3.7/site-packages/sklearn/svm/base.py:196: FutureWarning: The default value of gamma will change from 'auto' to 'scale' in version 0.22 to account better for unscaled features. Set gamma explicitly to 'auto' or 'scale' to avoid this warning.\n",
      "  \"avoid this warning.\", FutureWarning)\n",
      "/usr/local/anaconda3/envs/mlib_demo/lib/python3.7/site-packages/sklearn/svm/base.py:196: FutureWarning: The default value of gamma will change from 'auto' to 'scale' in version 0.22 to account better for unscaled features. Set gamma explicitly to 'auto' or 'scale' to avoid this warning.\n",
      "  \"avoid this warning.\", FutureWarning)\n",
      "/usr/local/anaconda3/envs/mlib_demo/lib/python3.7/site-packages/sklearn/svm/base.py:196: FutureWarning: The default value of gamma will change from 'auto' to 'scale' in version 0.22 to account better for unscaled features. Set gamma explicitly to 'auto' or 'scale' to avoid this warning.\n",
      "  \"avoid this warning.\", FutureWarning)\n",
      "/usr/local/anaconda3/envs/mlib_demo/lib/python3.7/site-packages/sklearn/svm/base.py:196: FutureWarning: The default value of gamma will change from 'auto' to 'scale' in version 0.22 to account better for unscaled features. Set gamma explicitly to 'auto' or 'scale' to avoid this warning.\n",
      "  \"avoid this warning.\", FutureWarning)\n",
      "/usr/local/anaconda3/envs/mlib_demo/lib/python3.7/site-packages/sklearn/svm/base.py:196: FutureWarning: The default value of gamma will change from 'auto' to 'scale' in version 0.22 to account better for unscaled features. Set gamma explicitly to 'auto' or 'scale' to avoid this warning.\n",
      "  \"avoid this warning.\", FutureWarning)\n",
      "/usr/local/anaconda3/envs/mlib_demo/lib/python3.7/site-packages/sklearn/svm/base.py:196: FutureWarning: The default value of gamma will change from 'auto' to 'scale' in version 0.22 to account better for unscaled features. Set gamma explicitly to 'auto' or 'scale' to avoid this warning.\n",
      "  \"avoid this warning.\", FutureWarning)\n",
      "/usr/local/anaconda3/envs/mlib_demo/lib/python3.7/site-packages/sklearn/svm/base.py:196: FutureWarning: The default value of gamma will change from 'auto' to 'scale' in version 0.22 to account better for unscaled features. Set gamma explicitly to 'auto' or 'scale' to avoid this warning.\n",
      "  \"avoid this warning.\", FutureWarning)\n",
      "/usr/local/anaconda3/envs/mlib_demo/lib/python3.7/site-packages/sklearn/svm/base.py:196: FutureWarning: The default value of gamma will change from 'auto' to 'scale' in version 0.22 to account better for unscaled features. Set gamma explicitly to 'auto' or 'scale' to avoid this warning.\n",
      "  \"avoid this warning.\", FutureWarning)\n",
      "/usr/local/anaconda3/envs/mlib_demo/lib/python3.7/site-packages/sklearn/svm/base.py:196: FutureWarning: The default value of gamma will change from 'auto' to 'scale' in version 0.22 to account better for unscaled features. Set gamma explicitly to 'auto' or 'scale' to avoid this warning.\n",
      "  \"avoid this warning.\", FutureWarning)\n",
      "/usr/local/anaconda3/envs/mlib_demo/lib/python3.7/site-packages/sklearn/svm/base.py:196: FutureWarning: The default value of gamma will change from 'auto' to 'scale' in version 0.22 to account better for unscaled features. Set gamma explicitly to 'auto' or 'scale' to avoid this warning.\n",
      "  \"avoid this warning.\", FutureWarning)\n",
      "/usr/local/anaconda3/envs/mlib_demo/lib/python3.7/site-packages/sklearn/svm/base.py:196: FutureWarning: The default value of gamma will change from 'auto' to 'scale' in version 0.22 to account better for unscaled features. Set gamma explicitly to 'auto' or 'scale' to avoid this warning.\n",
      "  \"avoid this warning.\", FutureWarning)\n",
      "/usr/local/anaconda3/envs/mlib_demo/lib/python3.7/site-packages/sklearn/svm/base.py:196: FutureWarning: The default value of gamma will change from 'auto' to 'scale' in version 0.22 to account better for unscaled features. Set gamma explicitly to 'auto' or 'scale' to avoid this warning.\n",
      "  \"avoid this warning.\", FutureWarning)\n",
      "/usr/local/anaconda3/envs/mlib_demo/lib/python3.7/site-packages/sklearn/svm/base.py:196: FutureWarning: The default value of gamma will change from 'auto' to 'scale' in version 0.22 to account better for unscaled features. Set gamma explicitly to 'auto' or 'scale' to avoid this warning.\n",
      "  \"avoid this warning.\", FutureWarning)\n",
      "/usr/local/anaconda3/envs/mlib_demo/lib/python3.7/site-packages/sklearn/svm/base.py:196: FutureWarning: The default value of gamma will change from 'auto' to 'scale' in version 0.22 to account better for unscaled features. Set gamma explicitly to 'auto' or 'scale' to avoid this warning.\n",
      "  \"avoid this warning.\", FutureWarning)\n",
      "/usr/local/anaconda3/envs/mlib_demo/lib/python3.7/site-packages/sklearn/svm/base.py:196: FutureWarning: The default value of gamma will change from 'auto' to 'scale' in version 0.22 to account better for unscaled features. Set gamma explicitly to 'auto' or 'scale' to avoid this warning.\n",
      "  \"avoid this warning.\", FutureWarning)\n"
     ]
    },
    {
     "name": "stdout",
     "output_type": "stream",
     "text": [
      "{'C': 10}\n",
      "best score: 0.976393\n"
     ]
    },
    {
     "data": {
      "image/png": "[encoded data removed]",
      "text/plain": [
       "<Figure size 432x288 with 1 Axes>"
      ]
     },
     "metadata": {
      "needs_background": "light"
     },
     "output_type": "display_data"
    }
   ],
   "source": [
    "param_grid = {'C': [0.001, 0.01, 0.1, 1, 10]}\n",
    "gs = GridSearchCV(SVC(), \n",
    "             param_grid=param_grid, scoring=\"accuracy\", cv=4)\n",
    "gs = gs.fit(X_resample, y_resample)\n",
    "print(gs.best_params_)\n",
    "print('best score: {:3f}'.format(gs.best_score_))\n",
    "plot_roc(gs, X_resample, y_resample)"
   ]
  },
  {
   "cell_type": "code",
   "execution_count": 30,
   "metadata": {},
   "outputs": [
    {
     "name": "stderr",
     "output_type": "stream",
     "text": [
      "/usr/local/anaconda3/envs/mlib_demo/lib/python3.7/site-packages/sklearn/svm/base.py:196: FutureWarning: The default value of gamma will change from 'auto' to 'scale' in version 0.22 to account better for unscaled features. Set gamma explicitly to 'auto' or 'scale' to avoid this warning.\n",
      "  \"avoid this warning.\", FutureWarning)\n",
      "/usr/local/anaconda3/envs/mlib_demo/lib/python3.7/site-packages/sklearn/metrics/classification.py:1143: UndefinedMetricWarning: F-score is ill-defined and being set to 0.0 due to no predicted samples.\n",
      "  'precision', 'predicted', average, warn_for)\n",
      "/usr/local/anaconda3/envs/mlib_demo/lib/python3.7/site-packages/sklearn/svm/base.py:196: FutureWarning: The default value of gamma will change from 'auto' to 'scale' in version 0.22 to account better for unscaled features. Set gamma explicitly to 'auto' or 'scale' to avoid this warning.\n",
      "  \"avoid this warning.\", FutureWarning)\n",
      "/usr/local/anaconda3/envs/mlib_demo/lib/python3.7/site-packages/sklearn/metrics/classification.py:1143: UndefinedMetricWarning: F-score is ill-defined and being set to 0.0 due to no predicted samples.\n",
      "  'precision', 'predicted', average, warn_for)\n",
      "/usr/local/anaconda3/envs/mlib_demo/lib/python3.7/site-packages/sklearn/svm/base.py:196: FutureWarning: The default value of gamma will change from 'auto' to 'scale' in version 0.22 to account better for unscaled features. Set gamma explicitly to 'auto' or 'scale' to avoid this warning.\n",
      "  \"avoid this warning.\", FutureWarning)\n",
      "/usr/local/anaconda3/envs/mlib_demo/lib/python3.7/site-packages/sklearn/metrics/classification.py:1143: UndefinedMetricWarning: F-score is ill-defined and being set to 0.0 due to no predicted samples.\n",
      "  'precision', 'predicted', average, warn_for)\n",
      "/usr/local/anaconda3/envs/mlib_demo/lib/python3.7/site-packages/sklearn/svm/base.py:196: FutureWarning: The default value of gamma will change from 'auto' to 'scale' in version 0.22 to account better for unscaled features. Set gamma explicitly to 'auto' or 'scale' to avoid this warning.\n",
      "  \"avoid this warning.\", FutureWarning)\n",
      "/usr/local/anaconda3/envs/mlib_demo/lib/python3.7/site-packages/sklearn/metrics/classification.py:1143: UndefinedMetricWarning: F-score is ill-defined and being set to 0.0 due to no predicted samples.\n",
      "  'precision', 'predicted', average, warn_for)\n",
      "/usr/local/anaconda3/envs/mlib_demo/lib/python3.7/site-packages/sklearn/svm/base.py:196: FutureWarning: The default value of gamma will change from 'auto' to 'scale' in version 0.22 to account better for unscaled features. Set gamma explicitly to 'auto' or 'scale' to avoid this warning.\n",
      "  \"avoid this warning.\", FutureWarning)\n",
      "/usr/local/anaconda3/envs/mlib_demo/lib/python3.7/site-packages/sklearn/svm/base.py:196: FutureWarning: The default value of gamma will change from 'auto' to 'scale' in version 0.22 to account better for unscaled features. Set gamma explicitly to 'auto' or 'scale' to avoid this warning.\n",
      "  \"avoid this warning.\", FutureWarning)\n",
      "/usr/local/anaconda3/envs/mlib_demo/lib/python3.7/site-packages/sklearn/svm/base.py:196: FutureWarning: The default value of gamma will change from 'auto' to 'scale' in version 0.22 to account better for unscaled features. Set gamma explicitly to 'auto' or 'scale' to avoid this warning.\n",
      "  \"avoid this warning.\", FutureWarning)\n",
      "/usr/local/anaconda3/envs/mlib_demo/lib/python3.7/site-packages/sklearn/svm/base.py:196: FutureWarning: The default value of gamma will change from 'auto' to 'scale' in version 0.22 to account better for unscaled features. Set gamma explicitly to 'auto' or 'scale' to avoid this warning.\n",
      "  \"avoid this warning.\", FutureWarning)\n",
      "/usr/local/anaconda3/envs/mlib_demo/lib/python3.7/site-packages/sklearn/svm/base.py:196: FutureWarning: The default value of gamma will change from 'auto' to 'scale' in version 0.22 to account better for unscaled features. Set gamma explicitly to 'auto' or 'scale' to avoid this warning.\n",
      "  \"avoid this warning.\", FutureWarning)\n",
      "/usr/local/anaconda3/envs/mlib_demo/lib/python3.7/site-packages/sklearn/svm/base.py:196: FutureWarning: The default value of gamma will change from 'auto' to 'scale' in version 0.22 to account better for unscaled features. Set gamma explicitly to 'auto' or 'scale' to avoid this warning.\n",
      "  \"avoid this warning.\", FutureWarning)\n",
      "/usr/local/anaconda3/envs/mlib_demo/lib/python3.7/site-packages/sklearn/svm/base.py:196: FutureWarning: The default value of gamma will change from 'auto' to 'scale' in version 0.22 to account better for unscaled features. Set gamma explicitly to 'auto' or 'scale' to avoid this warning.\n",
      "  \"avoid this warning.\", FutureWarning)\n",
      "/usr/local/anaconda3/envs/mlib_demo/lib/python3.7/site-packages/sklearn/svm/base.py:196: FutureWarning: The default value of gamma will change from 'auto' to 'scale' in version 0.22 to account better for unscaled features. Set gamma explicitly to 'auto' or 'scale' to avoid this warning.\n",
      "  \"avoid this warning.\", FutureWarning)\n",
      "/usr/local/anaconda3/envs/mlib_demo/lib/python3.7/site-packages/sklearn/svm/base.py:196: FutureWarning: The default value of gamma will change from 'auto' to 'scale' in version 0.22 to account better for unscaled features. Set gamma explicitly to 'auto' or 'scale' to avoid this warning.\n",
      "  \"avoid this warning.\", FutureWarning)\n",
      "/usr/local/anaconda3/envs/mlib_demo/lib/python3.7/site-packages/sklearn/svm/base.py:196: FutureWarning: The default value of gamma will change from 'auto' to 'scale' in version 0.22 to account better for unscaled features. Set gamma explicitly to 'auto' or 'scale' to avoid this warning.\n",
      "  \"avoid this warning.\", FutureWarning)\n",
      "/usr/local/anaconda3/envs/mlib_demo/lib/python3.7/site-packages/sklearn/svm/base.py:196: FutureWarning: The default value of gamma will change from 'auto' to 'scale' in version 0.22 to account better for unscaled features. Set gamma explicitly to 'auto' or 'scale' to avoid this warning.\n",
      "  \"avoid this warning.\", FutureWarning)\n",
      "/usr/local/anaconda3/envs/mlib_demo/lib/python3.7/site-packages/sklearn/svm/base.py:196: FutureWarning: The default value of gamma will change from 'auto' to 'scale' in version 0.22 to account better for unscaled features. Set gamma explicitly to 'auto' or 'scale' to avoid this warning.\n",
      "  \"avoid this warning.\", FutureWarning)\n",
      "/usr/local/anaconda3/envs/mlib_demo/lib/python3.7/site-packages/sklearn/svm/base.py:196: FutureWarning: The default value of gamma will change from 'auto' to 'scale' in version 0.22 to account better for unscaled features. Set gamma explicitly to 'auto' or 'scale' to avoid this warning.\n",
      "  \"avoid this warning.\", FutureWarning)\n",
      "/usr/local/anaconda3/envs/mlib_demo/lib/python3.7/site-packages/sklearn/svm/base.py:196: FutureWarning: The default value of gamma will change from 'auto' to 'scale' in version 0.22 to account better for unscaled features. Set gamma explicitly to 'auto' or 'scale' to avoid this warning.\n",
      "  \"avoid this warning.\", FutureWarning)\n",
      "/usr/local/anaconda3/envs/mlib_demo/lib/python3.7/site-packages/sklearn/svm/base.py:196: FutureWarning: The default value of gamma will change from 'auto' to 'scale' in version 0.22 to account better for unscaled features. Set gamma explicitly to 'auto' or 'scale' to avoid this warning.\n",
      "  \"avoid this warning.\", FutureWarning)\n",
      "/usr/local/anaconda3/envs/mlib_demo/lib/python3.7/site-packages/sklearn/svm/base.py:196: FutureWarning: The default value of gamma will change from 'auto' to 'scale' in version 0.22 to account better for unscaled features. Set gamma explicitly to 'auto' or 'scale' to avoid this warning.\n",
      "  \"avoid this warning.\", FutureWarning)\n",
      "/usr/local/anaconda3/envs/mlib_demo/lib/python3.7/site-packages/sklearn/svm/base.py:196: FutureWarning: The default value of gamma will change from 'auto' to 'scale' in version 0.22 to account better for unscaled features. Set gamma explicitly to 'auto' or 'scale' to avoid this warning.\n",
      "  \"avoid this warning.\", FutureWarning)\n",
      "/usr/local/anaconda3/envs/mlib_demo/lib/python3.7/site-packages/sklearn/svm/base.py:196: FutureWarning: The default value of gamma will change from 'auto' to 'scale' in version 0.22 to account better for unscaled features. Set gamma explicitly to 'auto' or 'scale' to avoid this warning.\n",
      "  \"avoid this warning.\", FutureWarning)\n"
     ]
    },
    {
     "name": "stderr",
     "output_type": "stream",
     "text": [
      "/usr/local/anaconda3/envs/mlib_demo/lib/python3.7/site-packages/sklearn/svm/base.py:196: FutureWarning: The default value of gamma will change from 'auto' to 'scale' in version 0.22 to account better for unscaled features. Set gamma explicitly to 'auto' or 'scale' to avoid this warning.\n",
      "  \"avoid this warning.\", FutureWarning)\n",
      "/usr/local/anaconda3/envs/mlib_demo/lib/python3.7/site-packages/sklearn/svm/base.py:196: FutureWarning: The default value of gamma will change from 'auto' to 'scale' in version 0.22 to account better for unscaled features. Set gamma explicitly to 'auto' or 'scale' to avoid this warning.\n",
      "  \"avoid this warning.\", FutureWarning)\n",
      "/usr/local/anaconda3/envs/mlib_demo/lib/python3.7/site-packages/sklearn/svm/base.py:196: FutureWarning: The default value of gamma will change from 'auto' to 'scale' in version 0.22 to account better for unscaled features. Set gamma explicitly to 'auto' or 'scale' to avoid this warning.\n",
      "  \"avoid this warning.\", FutureWarning)\n",
      "/usr/local/anaconda3/envs/mlib_demo/lib/python3.7/site-packages/sklearn/svm/base.py:196: FutureWarning: The default value of gamma will change from 'auto' to 'scale' in version 0.22 to account better for unscaled features. Set gamma explicitly to 'auto' or 'scale' to avoid this warning.\n",
      "  \"avoid this warning.\", FutureWarning)\n",
      "/usr/local/anaconda3/envs/mlib_demo/lib/python3.7/site-packages/sklearn/svm/base.py:196: FutureWarning: The default value of gamma will change from 'auto' to 'scale' in version 0.22 to account better for unscaled features. Set gamma explicitly to 'auto' or 'scale' to avoid this warning.\n",
      "  \"avoid this warning.\", FutureWarning)\n",
      "/usr/local/anaconda3/envs/mlib_demo/lib/python3.7/site-packages/sklearn/svm/base.py:196: FutureWarning: The default value of gamma will change from 'auto' to 'scale' in version 0.22 to account better for unscaled features. Set gamma explicitly to 'auto' or 'scale' to avoid this warning.\n",
      "  \"avoid this warning.\", FutureWarning)\n",
      "/usr/local/anaconda3/envs/mlib_demo/lib/python3.7/site-packages/sklearn/svm/base.py:196: FutureWarning: The default value of gamma will change from 'auto' to 'scale' in version 0.22 to account better for unscaled features. Set gamma explicitly to 'auto' or 'scale' to avoid this warning.\n",
      "  \"avoid this warning.\", FutureWarning)\n",
      "/usr/local/anaconda3/envs/mlib_demo/lib/python3.7/site-packages/sklearn/svm/base.py:196: FutureWarning: The default value of gamma will change from 'auto' to 'scale' in version 0.22 to account better for unscaled features. Set gamma explicitly to 'auto' or 'scale' to avoid this warning.\n",
      "  \"avoid this warning.\", FutureWarning)\n",
      "/usr/local/anaconda3/envs/mlib_demo/lib/python3.7/site-packages/sklearn/svm/base.py:196: FutureWarning: The default value of gamma will change from 'auto' to 'scale' in version 0.22 to account better for unscaled features. Set gamma explicitly to 'auto' or 'scale' to avoid this warning.\n",
      "  \"avoid this warning.\", FutureWarning)\n",
      "/usr/local/anaconda3/envs/mlib_demo/lib/python3.7/site-packages/sklearn/svm/base.py:196: FutureWarning: The default value of gamma will change from 'auto' to 'scale' in version 0.22 to account better for unscaled features. Set gamma explicitly to 'auto' or 'scale' to avoid this warning.\n",
      "  \"avoid this warning.\", FutureWarning)\n",
      "/usr/local/anaconda3/envs/mlib_demo/lib/python3.7/site-packages/sklearn/svm/base.py:196: FutureWarning: The default value of gamma will change from 'auto' to 'scale' in version 0.22 to account better for unscaled features. Set gamma explicitly to 'auto' or 'scale' to avoid this warning.\n",
      "  \"avoid this warning.\", FutureWarning)\n",
      "/usr/local/anaconda3/envs/mlib_demo/lib/python3.7/site-packages/sklearn/svm/base.py:196: FutureWarning: The default value of gamma will change from 'auto' to 'scale' in version 0.22 to account better for unscaled features. Set gamma explicitly to 'auto' or 'scale' to avoid this warning.\n",
      "  \"avoid this warning.\", FutureWarning)\n",
      "/usr/local/anaconda3/envs/mlib_demo/lib/python3.7/site-packages/sklearn/svm/base.py:196: FutureWarning: The default value of gamma will change from 'auto' to 'scale' in version 0.22 to account better for unscaled features. Set gamma explicitly to 'auto' or 'scale' to avoid this warning.\n",
      "  \"avoid this warning.\", FutureWarning)\n",
      "/usr/local/anaconda3/envs/mlib_demo/lib/python3.7/site-packages/sklearn/svm/base.py:196: FutureWarning: The default value of gamma will change from 'auto' to 'scale' in version 0.22 to account better for unscaled features. Set gamma explicitly to 'auto' or 'scale' to avoid this warning.\n",
      "  \"avoid this warning.\", FutureWarning)\n",
      "/usr/local/anaconda3/envs/mlib_demo/lib/python3.7/site-packages/sklearn/svm/base.py:196: FutureWarning: The default value of gamma will change from 'auto' to 'scale' in version 0.22 to account better for unscaled features. Set gamma explicitly to 'auto' or 'scale' to avoid this warning.\n",
      "  \"avoid this warning.\", FutureWarning)\n",
      "/usr/local/anaconda3/envs/mlib_demo/lib/python3.7/site-packages/sklearn/svm/base.py:196: FutureWarning: The default value of gamma will change from 'auto' to 'scale' in version 0.22 to account better for unscaled features. Set gamma explicitly to 'auto' or 'scale' to avoid this warning.\n",
      "  \"avoid this warning.\", FutureWarning)\n",
      "/usr/local/anaconda3/envs/mlib_demo/lib/python3.7/site-packages/sklearn/svm/base.py:196: FutureWarning: The default value of gamma will change from 'auto' to 'scale' in version 0.22 to account better for unscaled features. Set gamma explicitly to 'auto' or 'scale' to avoid this warning.\n",
      "  \"avoid this warning.\", FutureWarning)\n",
      "/usr/local/anaconda3/envs/mlib_demo/lib/python3.7/site-packages/sklearn/svm/base.py:196: FutureWarning: The default value of gamma will change from 'auto' to 'scale' in version 0.22 to account better for unscaled features. Set gamma explicitly to 'auto' or 'scale' to avoid this warning.\n",
      "  \"avoid this warning.\", FutureWarning)\n",
      "/usr/local/anaconda3/envs/mlib_demo/lib/python3.7/site-packages/sklearn/svm/base.py:196: FutureWarning: The default value of gamma will change from 'auto' to 'scale' in version 0.22 to account better for unscaled features. Set gamma explicitly to 'auto' or 'scale' to avoid this warning.\n",
      "  \"avoid this warning.\", FutureWarning)\n",
      "/usr/local/anaconda3/envs/mlib_demo/lib/python3.7/site-packages/sklearn/svm/base.py:196: FutureWarning: The default value of gamma will change from 'auto' to 'scale' in version 0.22 to account better for unscaled features. Set gamma explicitly to 'auto' or 'scale' to avoid this warning.\n",
      "  \"avoid this warning.\", FutureWarning)\n",
      "/usr/local/anaconda3/envs/mlib_demo/lib/python3.7/site-packages/sklearn/svm/base.py:196: FutureWarning: The default value of gamma will change from 'auto' to 'scale' in version 0.22 to account better for unscaled features. Set gamma explicitly to 'auto' or 'scale' to avoid this warning.\n",
      "  \"avoid this warning.\", FutureWarning)\n",
      "/usr/local/anaconda3/envs/mlib_demo/lib/python3.7/site-packages/sklearn/svm/base.py:196: FutureWarning: The default value of gamma will change from 'auto' to 'scale' in version 0.22 to account better for unscaled features. Set gamma explicitly to 'auto' or 'scale' to avoid this warning.\n",
      "  \"avoid this warning.\", FutureWarning)\n",
      "/usr/local/anaconda3/envs/mlib_demo/lib/python3.7/site-packages/sklearn/svm/base.py:196: FutureWarning: The default value of gamma will change from 'auto' to 'scale' in version 0.22 to account better for unscaled features. Set gamma explicitly to 'auto' or 'scale' to avoid this warning.\n",
      "  \"avoid this warning.\", FutureWarning)\n",
      "/usr/local/anaconda3/envs/mlib_demo/lib/python3.7/site-packages/sklearn/svm/base.py:196: FutureWarning: The default value of gamma will change from 'auto' to 'scale' in version 0.22 to account better for unscaled features. Set gamma explicitly to 'auto' or 'scale' to avoid this warning.\n",
      "  \"avoid this warning.\", FutureWarning)\n",
      "/usr/local/anaconda3/envs/mlib_demo/lib/python3.7/site-packages/sklearn/svm/base.py:196: FutureWarning: The default value of gamma will change from 'auto' to 'scale' in version 0.22 to account better for unscaled features. Set gamma explicitly to 'auto' or 'scale' to avoid this warning.\n",
      "  \"avoid this warning.\", FutureWarning)\n"
     ]
    },
    {
     "name": "stderr",
     "output_type": "stream",
     "text": [
      "/usr/local/anaconda3/envs/mlib_demo/lib/python3.7/site-packages/sklearn/svm/base.py:196: FutureWarning: The default value of gamma will change from 'auto' to 'scale' in version 0.22 to account better for unscaled features. Set gamma explicitly to 'auto' or 'scale' to avoid this warning.\n",
      "  \"avoid this warning.\", FutureWarning)\n",
      "/usr/local/anaconda3/envs/mlib_demo/lib/python3.7/site-packages/sklearn/svm/base.py:196: FutureWarning: The default value of gamma will change from 'auto' to 'scale' in version 0.22 to account better for unscaled features. Set gamma explicitly to 'auto' or 'scale' to avoid this warning.\n",
      "  \"avoid this warning.\", FutureWarning)\n",
      "/usr/local/anaconda3/envs/mlib_demo/lib/python3.7/site-packages/sklearn/svm/base.py:196: FutureWarning: The default value of gamma will change from 'auto' to 'scale' in version 0.22 to account better for unscaled features. Set gamma explicitly to 'auto' or 'scale' to avoid this warning.\n",
      "  \"avoid this warning.\", FutureWarning)\n",
      "/usr/local/anaconda3/envs/mlib_demo/lib/python3.7/site-packages/sklearn/svm/base.py:196: FutureWarning: The default value of gamma will change from 'auto' to 'scale' in version 0.22 to account better for unscaled features. Set gamma explicitly to 'auto' or 'scale' to avoid this warning.\n",
      "  \"avoid this warning.\", FutureWarning)\n",
      "/usr/local/anaconda3/envs/mlib_demo/lib/python3.7/site-packages/sklearn/svm/base.py:196: FutureWarning: The default value of gamma will change from 'auto' to 'scale' in version 0.22 to account better for unscaled features. Set gamma explicitly to 'auto' or 'scale' to avoid this warning.\n",
      "  \"avoid this warning.\", FutureWarning)\n",
      "/usr/local/anaconda3/envs/mlib_demo/lib/python3.7/site-packages/sklearn/svm/base.py:196: FutureWarning: The default value of gamma will change from 'auto' to 'scale' in version 0.22 to account better for unscaled features. Set gamma explicitly to 'auto' or 'scale' to avoid this warning.\n",
      "  \"avoid this warning.\", FutureWarning)\n",
      "/usr/local/anaconda3/envs/mlib_demo/lib/python3.7/site-packages/sklearn/svm/base.py:196: FutureWarning: The default value of gamma will change from 'auto' to 'scale' in version 0.22 to account better for unscaled features. Set gamma explicitly to 'auto' or 'scale' to avoid this warning.\n",
      "  \"avoid this warning.\", FutureWarning)\n",
      "/usr/local/anaconda3/envs/mlib_demo/lib/python3.7/site-packages/sklearn/svm/base.py:196: FutureWarning: The default value of gamma will change from 'auto' to 'scale' in version 0.22 to account better for unscaled features. Set gamma explicitly to 'auto' or 'scale' to avoid this warning.\n",
      "  \"avoid this warning.\", FutureWarning)\n",
      "/usr/local/anaconda3/envs/mlib_demo/lib/python3.7/site-packages/sklearn/svm/base.py:196: FutureWarning: The default value of gamma will change from 'auto' to 'scale' in version 0.22 to account better for unscaled features. Set gamma explicitly to 'auto' or 'scale' to avoid this warning.\n",
      "  \"avoid this warning.\", FutureWarning)\n",
      "/usr/local/anaconda3/envs/mlib_demo/lib/python3.7/site-packages/sklearn/svm/base.py:196: FutureWarning: The default value of gamma will change from 'auto' to 'scale' in version 0.22 to account better for unscaled features. Set gamma explicitly to 'auto' or 'scale' to avoid this warning.\n",
      "  \"avoid this warning.\", FutureWarning)\n",
      "/usr/local/anaconda3/envs/mlib_demo/lib/python3.7/site-packages/sklearn/svm/base.py:196: FutureWarning: The default value of gamma will change from 'auto' to 'scale' in version 0.22 to account better for unscaled features. Set gamma explicitly to 'auto' or 'scale' to avoid this warning.\n",
      "  \"avoid this warning.\", FutureWarning)\n",
      "/usr/local/anaconda3/envs/mlib_demo/lib/python3.7/site-packages/sklearn/svm/base.py:196: FutureWarning: The default value of gamma will change from 'auto' to 'scale' in version 0.22 to account better for unscaled features. Set gamma explicitly to 'auto' or 'scale' to avoid this warning.\n",
      "  \"avoid this warning.\", FutureWarning)\n",
      "/usr/local/anaconda3/envs/mlib_demo/lib/python3.7/site-packages/sklearn/svm/base.py:196: FutureWarning: The default value of gamma will change from 'auto' to 'scale' in version 0.22 to account better for unscaled features. Set gamma explicitly to 'auto' or 'scale' to avoid this warning.\n",
      "  \"avoid this warning.\", FutureWarning)\n",
      "/usr/local/anaconda3/envs/mlib_demo/lib/python3.7/site-packages/sklearn/svm/base.py:196: FutureWarning: The default value of gamma will change from 'auto' to 'scale' in version 0.22 to account better for unscaled features. Set gamma explicitly to 'auto' or 'scale' to avoid this warning.\n",
      "  \"avoid this warning.\", FutureWarning)\n"
     ]
    },
    {
     "name": "stdout",
     "output_type": "stream",
     "text": [
      "{'C': 1, 'kernel': 'rbf'}\n",
      "best score: 0.647792\n"
     ]
    },
    {
     "name": "stderr",
     "output_type": "stream",
     "text": [
      "/usr/local/anaconda3/envs/mlib_demo/lib/python3.7/site-packages/sklearn/svm/base.py:196: FutureWarning: The default value of gamma will change from 'auto' to 'scale' in version 0.22 to account better for unscaled features. Set gamma explicitly to 'auto' or 'scale' to avoid this warning.\n",
      "  \"avoid this warning.\", FutureWarning)\n",
      "/usr/local/anaconda3/envs/mlib_demo/lib/python3.7/site-packages/sklearn/svm/base.py:196: FutureWarning: The default value of gamma will change from 'auto' to 'scale' in version 0.22 to account better for unscaled features. Set gamma explicitly to 'auto' or 'scale' to avoid this warning.\n",
      "  \"avoid this warning.\", FutureWarning)\n",
      "/usr/local/anaconda3/envs/mlib_demo/lib/python3.7/site-packages/sklearn/metrics/classification.py:1143: UndefinedMetricWarning: F-score is ill-defined and being set to 0.0 due to no predicted samples.\n",
      "  'precision', 'predicted', average, warn_for)\n",
      "/usr/local/anaconda3/envs/mlib_demo/lib/python3.7/site-packages/sklearn/svm/base.py:196: FutureWarning: The default value of gamma will change from 'auto' to 'scale' in version 0.22 to account better for unscaled features. Set gamma explicitly to 'auto' or 'scale' to avoid this warning.\n",
      "  \"avoid this warning.\", FutureWarning)\n",
      "/usr/local/anaconda3/envs/mlib_demo/lib/python3.7/site-packages/sklearn/metrics/classification.py:1143: UndefinedMetricWarning: F-score is ill-defined and being set to 0.0 due to no predicted samples.\n",
      "  'precision', 'predicted', average, warn_for)\n",
      "/usr/local/anaconda3/envs/mlib_demo/lib/python3.7/site-packages/sklearn/svm/base.py:196: FutureWarning: The default value of gamma will change from 'auto' to 'scale' in version 0.22 to account better for unscaled features. Set gamma explicitly to 'auto' or 'scale' to avoid this warning.\n",
      "  \"avoid this warning.\", FutureWarning)\n",
      "/usr/local/anaconda3/envs/mlib_demo/lib/python3.7/site-packages/sklearn/metrics/classification.py:1143: UndefinedMetricWarning: F-score is ill-defined and being set to 0.0 due to no predicted samples.\n",
      "  'precision', 'predicted', average, warn_for)\n",
      "/usr/local/anaconda3/envs/mlib_demo/lib/python3.7/site-packages/sklearn/svm/base.py:196: FutureWarning: The default value of gamma will change from 'auto' to 'scale' in version 0.22 to account better for unscaled features. Set gamma explicitly to 'auto' or 'scale' to avoid this warning.\n",
      "  \"avoid this warning.\", FutureWarning)\n",
      "/usr/local/anaconda3/envs/mlib_demo/lib/python3.7/site-packages/sklearn/svm/base.py:196: FutureWarning: The default value of gamma will change from 'auto' to 'scale' in version 0.22 to account better for unscaled features. Set gamma explicitly to 'auto' or 'scale' to avoid this warning.\n",
      "  \"avoid this warning.\", FutureWarning)\n",
      "/usr/local/anaconda3/envs/mlib_demo/lib/python3.7/site-packages/sklearn/svm/base.py:196: FutureWarning: The default value of gamma will change from 'auto' to 'scale' in version 0.22 to account better for unscaled features. Set gamma explicitly to 'auto' or 'scale' to avoid this warning.\n",
      "  \"avoid this warning.\", FutureWarning)\n",
      "/usr/local/anaconda3/envs/mlib_demo/lib/python3.7/site-packages/sklearn/svm/base.py:196: FutureWarning: The default value of gamma will change from 'auto' to 'scale' in version 0.22 to account better for unscaled features. Set gamma explicitly to 'auto' or 'scale' to avoid this warning.\n",
      "  \"avoid this warning.\", FutureWarning)\n",
      "/usr/local/anaconda3/envs/mlib_demo/lib/python3.7/site-packages/sklearn/svm/base.py:196: FutureWarning: The default value of gamma will change from 'auto' to 'scale' in version 0.22 to account better for unscaled features. Set gamma explicitly to 'auto' or 'scale' to avoid this warning.\n",
      "  \"avoid this warning.\", FutureWarning)\n",
      "/usr/local/anaconda3/envs/mlib_demo/lib/python3.7/site-packages/sklearn/svm/base.py:196: FutureWarning: The default value of gamma will change from 'auto' to 'scale' in version 0.22 to account better for unscaled features. Set gamma explicitly to 'auto' or 'scale' to avoid this warning.\n",
      "  \"avoid this warning.\", FutureWarning)\n",
      "/usr/local/anaconda3/envs/mlib_demo/lib/python3.7/site-packages/sklearn/svm/base.py:196: FutureWarning: The default value of gamma will change from 'auto' to 'scale' in version 0.22 to account better for unscaled features. Set gamma explicitly to 'auto' or 'scale' to avoid this warning.\n",
      "  \"avoid this warning.\", FutureWarning)\n",
      "/usr/local/anaconda3/envs/mlib_demo/lib/python3.7/site-packages/sklearn/svm/base.py:196: FutureWarning: The default value of gamma will change from 'auto' to 'scale' in version 0.22 to account better for unscaled features. Set gamma explicitly to 'auto' or 'scale' to avoid this warning.\n",
      "  \"avoid this warning.\", FutureWarning)\n",
      "/usr/local/anaconda3/envs/mlib_demo/lib/python3.7/site-packages/sklearn/svm/base.py:196: FutureWarning: The default value of gamma will change from 'auto' to 'scale' in version 0.22 to account better for unscaled features. Set gamma explicitly to 'auto' or 'scale' to avoid this warning.\n",
      "  \"avoid this warning.\", FutureWarning)\n",
      "/usr/local/anaconda3/envs/mlib_demo/lib/python3.7/site-packages/sklearn/svm/base.py:196: FutureWarning: The default value of gamma will change from 'auto' to 'scale' in version 0.22 to account better for unscaled features. Set gamma explicitly to 'auto' or 'scale' to avoid this warning.\n",
      "  \"avoid this warning.\", FutureWarning)\n",
      "/usr/local/anaconda3/envs/mlib_demo/lib/python3.7/site-packages/sklearn/svm/base.py:196: FutureWarning: The default value of gamma will change from 'auto' to 'scale' in version 0.22 to account better for unscaled features. Set gamma explicitly to 'auto' or 'scale' to avoid this warning.\n",
      "  \"avoid this warning.\", FutureWarning)\n",
      "/usr/local/anaconda3/envs/mlib_demo/lib/python3.7/site-packages/sklearn/svm/base.py:196: FutureWarning: The default value of gamma will change from 'auto' to 'scale' in version 0.22 to account better for unscaled features. Set gamma explicitly to 'auto' or 'scale' to avoid this warning.\n",
      "  \"avoid this warning.\", FutureWarning)\n",
      "/usr/local/anaconda3/envs/mlib_demo/lib/python3.7/site-packages/sklearn/svm/base.py:196: FutureWarning: The default value of gamma will change from 'auto' to 'scale' in version 0.22 to account better for unscaled features. Set gamma explicitly to 'auto' or 'scale' to avoid this warning.\n",
      "  \"avoid this warning.\", FutureWarning)\n",
      "/usr/local/anaconda3/envs/mlib_demo/lib/python3.7/site-packages/sklearn/svm/base.py:196: FutureWarning: The default value of gamma will change from 'auto' to 'scale' in version 0.22 to account better for unscaled features. Set gamma explicitly to 'auto' or 'scale' to avoid this warning.\n",
      "  \"avoid this warning.\", FutureWarning)\n",
      "/usr/local/anaconda3/envs/mlib_demo/lib/python3.7/site-packages/sklearn/svm/base.py:196: FutureWarning: The default value of gamma will change from 'auto' to 'scale' in version 0.22 to account better for unscaled features. Set gamma explicitly to 'auto' or 'scale' to avoid this warning.\n",
      "  \"avoid this warning.\", FutureWarning)\n",
      "/usr/local/anaconda3/envs/mlib_demo/lib/python3.7/site-packages/sklearn/svm/base.py:196: FutureWarning: The default value of gamma will change from 'auto' to 'scale' in version 0.22 to account better for unscaled features. Set gamma explicitly to 'auto' or 'scale' to avoid this warning.\n",
      "  \"avoid this warning.\", FutureWarning)\n",
      "/usr/local/anaconda3/envs/mlib_demo/lib/python3.7/site-packages/sklearn/svm/base.py:196: FutureWarning: The default value of gamma will change from 'auto' to 'scale' in version 0.22 to account better for unscaled features. Set gamma explicitly to 'auto' or 'scale' to avoid this warning.\n",
      "  \"avoid this warning.\", FutureWarning)\n",
      "/usr/local/anaconda3/envs/mlib_demo/lib/python3.7/site-packages/sklearn/svm/base.py:196: FutureWarning: The default value of gamma will change from 'auto' to 'scale' in version 0.22 to account better for unscaled features. Set gamma explicitly to 'auto' or 'scale' to avoid this warning.\n",
      "  \"avoid this warning.\", FutureWarning)\n",
      "/usr/local/anaconda3/envs/mlib_demo/lib/python3.7/site-packages/sklearn/svm/base.py:196: FutureWarning: The default value of gamma will change from 'auto' to 'scale' in version 0.22 to account better for unscaled features. Set gamma explicitly to 'auto' or 'scale' to avoid this warning.\n",
      "  \"avoid this warning.\", FutureWarning)\n"
     ]
    },
    {
     "name": "stderr",
     "output_type": "stream",
     "text": [
      "/usr/local/anaconda3/envs/mlib_demo/lib/python3.7/site-packages/sklearn/svm/base.py:196: FutureWarning: The default value of gamma will change from 'auto' to 'scale' in version 0.22 to account better for unscaled features. Set gamma explicitly to 'auto' or 'scale' to avoid this warning.\n",
      "  \"avoid this warning.\", FutureWarning)\n",
      "/usr/local/anaconda3/envs/mlib_demo/lib/python3.7/site-packages/sklearn/svm/base.py:196: FutureWarning: The default value of gamma will change from 'auto' to 'scale' in version 0.22 to account better for unscaled features. Set gamma explicitly to 'auto' or 'scale' to avoid this warning.\n",
      "  \"avoid this warning.\", FutureWarning)\n",
      "/usr/local/anaconda3/envs/mlib_demo/lib/python3.7/site-packages/sklearn/svm/base.py:196: FutureWarning: The default value of gamma will change from 'auto' to 'scale' in version 0.22 to account better for unscaled features. Set gamma explicitly to 'auto' or 'scale' to avoid this warning.\n",
      "  \"avoid this warning.\", FutureWarning)\n",
      "/usr/local/anaconda3/envs/mlib_demo/lib/python3.7/site-packages/sklearn/svm/base.py:196: FutureWarning: The default value of gamma will change from 'auto' to 'scale' in version 0.22 to account better for unscaled features. Set gamma explicitly to 'auto' or 'scale' to avoid this warning.\n",
      "  \"avoid this warning.\", FutureWarning)\n",
      "/usr/local/anaconda3/envs/mlib_demo/lib/python3.7/site-packages/sklearn/svm/base.py:196: FutureWarning: The default value of gamma will change from 'auto' to 'scale' in version 0.22 to account better for unscaled features. Set gamma explicitly to 'auto' or 'scale' to avoid this warning.\n",
      "  \"avoid this warning.\", FutureWarning)\n",
      "/usr/local/anaconda3/envs/mlib_demo/lib/python3.7/site-packages/sklearn/svm/base.py:196: FutureWarning: The default value of gamma will change from 'auto' to 'scale' in version 0.22 to account better for unscaled features. Set gamma explicitly to 'auto' or 'scale' to avoid this warning.\n",
      "  \"avoid this warning.\", FutureWarning)\n",
      "/usr/local/anaconda3/envs/mlib_demo/lib/python3.7/site-packages/sklearn/svm/base.py:196: FutureWarning: The default value of gamma will change from 'auto' to 'scale' in version 0.22 to account better for unscaled features. Set gamma explicitly to 'auto' or 'scale' to avoid this warning.\n",
      "  \"avoid this warning.\", FutureWarning)\n",
      "/usr/local/anaconda3/envs/mlib_demo/lib/python3.7/site-packages/sklearn/svm/base.py:196: FutureWarning: The default value of gamma will change from 'auto' to 'scale' in version 0.22 to account better for unscaled features. Set gamma explicitly to 'auto' or 'scale' to avoid this warning.\n",
      "  \"avoid this warning.\", FutureWarning)\n",
      "/usr/local/anaconda3/envs/mlib_demo/lib/python3.7/site-packages/sklearn/svm/base.py:196: FutureWarning: The default value of gamma will change from 'auto' to 'scale' in version 0.22 to account better for unscaled features. Set gamma explicitly to 'auto' or 'scale' to avoid this warning.\n",
      "  \"avoid this warning.\", FutureWarning)\n",
      "/usr/local/anaconda3/envs/mlib_demo/lib/python3.7/site-packages/sklearn/svm/base.py:196: FutureWarning: The default value of gamma will change from 'auto' to 'scale' in version 0.22 to account better for unscaled features. Set gamma explicitly to 'auto' or 'scale' to avoid this warning.\n",
      "  \"avoid this warning.\", FutureWarning)\n",
      "/usr/local/anaconda3/envs/mlib_demo/lib/python3.7/site-packages/sklearn/svm/base.py:196: FutureWarning: The default value of gamma will change from 'auto' to 'scale' in version 0.22 to account better for unscaled features. Set gamma explicitly to 'auto' or 'scale' to avoid this warning.\n",
      "  \"avoid this warning.\", FutureWarning)\n",
      "/usr/local/anaconda3/envs/mlib_demo/lib/python3.7/site-packages/sklearn/svm/base.py:196: FutureWarning: The default value of gamma will change from 'auto' to 'scale' in version 0.22 to account better for unscaled features. Set gamma explicitly to 'auto' or 'scale' to avoid this warning.\n",
      "  \"avoid this warning.\", FutureWarning)\n",
      "/usr/local/anaconda3/envs/mlib_demo/lib/python3.7/site-packages/sklearn/svm/base.py:196: FutureWarning: The default value of gamma will change from 'auto' to 'scale' in version 0.22 to account better for unscaled features. Set gamma explicitly to 'auto' or 'scale' to avoid this warning.\n",
      "  \"avoid this warning.\", FutureWarning)\n",
      "/usr/local/anaconda3/envs/mlib_demo/lib/python3.7/site-packages/sklearn/svm/base.py:196: FutureWarning: The default value of gamma will change from 'auto' to 'scale' in version 0.22 to account better for unscaled features. Set gamma explicitly to 'auto' or 'scale' to avoid this warning.\n",
      "  \"avoid this warning.\", FutureWarning)\n",
      "/usr/local/anaconda3/envs/mlib_demo/lib/python3.7/site-packages/sklearn/svm/base.py:196: FutureWarning: The default value of gamma will change from 'auto' to 'scale' in version 0.22 to account better for unscaled features. Set gamma explicitly to 'auto' or 'scale' to avoid this warning.\n",
      "  \"avoid this warning.\", FutureWarning)\n",
      "/usr/local/anaconda3/envs/mlib_demo/lib/python3.7/site-packages/sklearn/svm/base.py:196: FutureWarning: The default value of gamma will change from 'auto' to 'scale' in version 0.22 to account better for unscaled features. Set gamma explicitly to 'auto' or 'scale' to avoid this warning.\n",
      "  \"avoid this warning.\", FutureWarning)\n",
      "/usr/local/anaconda3/envs/mlib_demo/lib/python3.7/site-packages/sklearn/svm/base.py:196: FutureWarning: The default value of gamma will change from 'auto' to 'scale' in version 0.22 to account better for unscaled features. Set gamma explicitly to 'auto' or 'scale' to avoid this warning.\n",
      "  \"avoid this warning.\", FutureWarning)\n",
      "/usr/local/anaconda3/envs/mlib_demo/lib/python3.7/site-packages/sklearn/svm/base.py:196: FutureWarning: The default value of gamma will change from 'auto' to 'scale' in version 0.22 to account better for unscaled features. Set gamma explicitly to 'auto' or 'scale' to avoid this warning.\n",
      "  \"avoid this warning.\", FutureWarning)\n",
      "/usr/local/anaconda3/envs/mlib_demo/lib/python3.7/site-packages/sklearn/svm/base.py:196: FutureWarning: The default value of gamma will change from 'auto' to 'scale' in version 0.22 to account better for unscaled features. Set gamma explicitly to 'auto' or 'scale' to avoid this warning.\n",
      "  \"avoid this warning.\", FutureWarning)\n",
      "/usr/local/anaconda3/envs/mlib_demo/lib/python3.7/site-packages/sklearn/svm/base.py:196: FutureWarning: The default value of gamma will change from 'auto' to 'scale' in version 0.22 to account better for unscaled features. Set gamma explicitly to 'auto' or 'scale' to avoid this warning.\n",
      "  \"avoid this warning.\", FutureWarning)\n",
      "/usr/local/anaconda3/envs/mlib_demo/lib/python3.7/site-packages/sklearn/svm/base.py:196: FutureWarning: The default value of gamma will change from 'auto' to 'scale' in version 0.22 to account better for unscaled features. Set gamma explicitly to 'auto' or 'scale' to avoid this warning.\n",
      "  \"avoid this warning.\", FutureWarning)\n",
      "/usr/local/anaconda3/envs/mlib_demo/lib/python3.7/site-packages/sklearn/svm/base.py:196: FutureWarning: The default value of gamma will change from 'auto' to 'scale' in version 0.22 to account better for unscaled features. Set gamma explicitly to 'auto' or 'scale' to avoid this warning.\n",
      "  \"avoid this warning.\", FutureWarning)\n",
      "/usr/local/anaconda3/envs/mlib_demo/lib/python3.7/site-packages/sklearn/svm/base.py:196: FutureWarning: The default value of gamma will change from 'auto' to 'scale' in version 0.22 to account better for unscaled features. Set gamma explicitly to 'auto' or 'scale' to avoid this warning.\n",
      "  \"avoid this warning.\", FutureWarning)\n",
      "/usr/local/anaconda3/envs/mlib_demo/lib/python3.7/site-packages/sklearn/svm/base.py:196: FutureWarning: The default value of gamma will change from 'auto' to 'scale' in version 0.22 to account better for unscaled features. Set gamma explicitly to 'auto' or 'scale' to avoid this warning.\n",
      "  \"avoid this warning.\", FutureWarning)\n",
      "/usr/local/anaconda3/envs/mlib_demo/lib/python3.7/site-packages/sklearn/svm/base.py:196: FutureWarning: The default value of gamma will change from 'auto' to 'scale' in version 0.22 to account better for unscaled features. Set gamma explicitly to 'auto' or 'scale' to avoid this warning.\n",
      "  \"avoid this warning.\", FutureWarning)\n"
     ]
    },
    {
     "name": "stderr",
     "output_type": "stream",
     "text": [
      "/usr/local/anaconda3/envs/mlib_demo/lib/python3.7/site-packages/sklearn/svm/base.py:196: FutureWarning: The default value of gamma will change from 'auto' to 'scale' in version 0.22 to account better for unscaled features. Set gamma explicitly to 'auto' or 'scale' to avoid this warning.\n",
      "  \"avoid this warning.\", FutureWarning)\n",
      "/usr/local/anaconda3/envs/mlib_demo/lib/python3.7/site-packages/sklearn/svm/base.py:196: FutureWarning: The default value of gamma will change from 'auto' to 'scale' in version 0.22 to account better for unscaled features. Set gamma explicitly to 'auto' or 'scale' to avoid this warning.\n",
      "  \"avoid this warning.\", FutureWarning)\n",
      "/usr/local/anaconda3/envs/mlib_demo/lib/python3.7/site-packages/sklearn/svm/base.py:196: FutureWarning: The default value of gamma will change from 'auto' to 'scale' in version 0.22 to account better for unscaled features. Set gamma explicitly to 'auto' or 'scale' to avoid this warning.\n",
      "  \"avoid this warning.\", FutureWarning)\n",
      "/usr/local/anaconda3/envs/mlib_demo/lib/python3.7/site-packages/sklearn/svm/base.py:196: FutureWarning: The default value of gamma will change from 'auto' to 'scale' in version 0.22 to account better for unscaled features. Set gamma explicitly to 'auto' or 'scale' to avoid this warning.\n",
      "  \"avoid this warning.\", FutureWarning)\n",
      "/usr/local/anaconda3/envs/mlib_demo/lib/python3.7/site-packages/sklearn/svm/base.py:196: FutureWarning: The default value of gamma will change from 'auto' to 'scale' in version 0.22 to account better for unscaled features. Set gamma explicitly to 'auto' or 'scale' to avoid this warning.\n",
      "  \"avoid this warning.\", FutureWarning)\n",
      "/usr/local/anaconda3/envs/mlib_demo/lib/python3.7/site-packages/sklearn/svm/base.py:196: FutureWarning: The default value of gamma will change from 'auto' to 'scale' in version 0.22 to account better for unscaled features. Set gamma explicitly to 'auto' or 'scale' to avoid this warning.\n",
      "  \"avoid this warning.\", FutureWarning)\n",
      "/usr/local/anaconda3/envs/mlib_demo/lib/python3.7/site-packages/sklearn/svm/base.py:196: FutureWarning: The default value of gamma will change from 'auto' to 'scale' in version 0.22 to account better for unscaled features. Set gamma explicitly to 'auto' or 'scale' to avoid this warning.\n",
      "  \"avoid this warning.\", FutureWarning)\n",
      "/usr/local/anaconda3/envs/mlib_demo/lib/python3.7/site-packages/sklearn/svm/base.py:196: FutureWarning: The default value of gamma will change from 'auto' to 'scale' in version 0.22 to account better for unscaled features. Set gamma explicitly to 'auto' or 'scale' to avoid this warning.\n",
      "  \"avoid this warning.\", FutureWarning)\n",
      "/usr/local/anaconda3/envs/mlib_demo/lib/python3.7/site-packages/sklearn/svm/base.py:196: FutureWarning: The default value of gamma will change from 'auto' to 'scale' in version 0.22 to account better for unscaled features. Set gamma explicitly to 'auto' or 'scale' to avoid this warning.\n",
      "  \"avoid this warning.\", FutureWarning)\n",
      "/usr/local/anaconda3/envs/mlib_demo/lib/python3.7/site-packages/sklearn/svm/base.py:196: FutureWarning: The default value of gamma will change from 'auto' to 'scale' in version 0.22 to account better for unscaled features. Set gamma explicitly to 'auto' or 'scale' to avoid this warning.\n",
      "  \"avoid this warning.\", FutureWarning)\n",
      "/usr/local/anaconda3/envs/mlib_demo/lib/python3.7/site-packages/sklearn/svm/base.py:196: FutureWarning: The default value of gamma will change from 'auto' to 'scale' in version 0.22 to account better for unscaled features. Set gamma explicitly to 'auto' or 'scale' to avoid this warning.\n",
      "  \"avoid this warning.\", FutureWarning)\n",
      "/usr/local/anaconda3/envs/mlib_demo/lib/python3.7/site-packages/sklearn/svm/base.py:196: FutureWarning: The default value of gamma will change from 'auto' to 'scale' in version 0.22 to account better for unscaled features. Set gamma explicitly to 'auto' or 'scale' to avoid this warning.\n",
      "  \"avoid this warning.\", FutureWarning)\n",
      "/usr/local/anaconda3/envs/mlib_demo/lib/python3.7/site-packages/sklearn/svm/base.py:196: FutureWarning: The default value of gamma will change from 'auto' to 'scale' in version 0.22 to account better for unscaled features. Set gamma explicitly to 'auto' or 'scale' to avoid this warning.\n",
      "  \"avoid this warning.\", FutureWarning)\n"
     ]
    },
    {
     "name": "stdout",
     "output_type": "stream",
     "text": [
      "[0 0 1 1 1 0 0 0 0 1]\n",
      "[1 1 1 1 0 1 0 0 1 1]\n",
      "Precision score: 0.657406\n",
      "Recall score: 0.656489\n",
      "F1 score: 0.655987\n",
      "AUC score: 0.656489\n",
      "Confusion Metric : [[91 40]\n",
      " [50 81]]\n"
     ]
    },
    {
     "data": {
      "image/png": "[encoded data removed]",
      "text/plain": [
       "<Figure size 432x288 with 1 Axes>"
      ]
     },
     "metadata": {
      "needs_background": "light"
     },
     "output_type": "display_data"
    }
   ],
   "source": [
    "param_grid = {'C': [0.001, 0.01, 0.1, 1, 10], 'kernel' : ['linear', 'poly', 'rbf', 'sigmoid']}\n",
    "gs = GridSearchCV(SVC(), \n",
    "             param_grid=param_grid, scoring=\"f1\", cv=4)\n",
    "gs = gs.fit(X_resample, y_resample)\n",
    "print(gs.best_params_)\n",
    "print('best score: {:3f}'.format(gs.best_score_))\n",
    "plot_roc(gs, X_resample, y_resample)\n",
    "print_scores(gs, X_train, y_train, X_test, y_test)"
   ]
  },
  {
   "cell_type": "code",
   "execution_count": 31,
   "metadata": {},
   "outputs": [
    {
     "name": "stderr",
     "output_type": "stream",
     "text": [
      "/usr/local/anaconda3/envs/mlib_demo/lib/python3.7/site-packages/sklearn/svm/base.py:196: FutureWarning: The default value of gamma will change from 'auto' to 'scale' in version 0.22 to account better for unscaled features. Set gamma explicitly to 'auto' or 'scale' to avoid this warning.\n",
      "  \"avoid this warning.\", FutureWarning)\n",
      "/usr/local/anaconda3/envs/mlib_demo/lib/python3.7/site-packages/sklearn/svm/base.py:196: FutureWarning: The default value of gamma will change from 'auto' to 'scale' in version 0.22 to account better for unscaled features. Set gamma explicitly to 'auto' or 'scale' to avoid this warning.\n",
      "  \"avoid this warning.\", FutureWarning)\n"
     ]
    },
    {
     "name": "stdout",
     "output_type": "stream",
     "text": [
      "[0 0 1 0 1 0 0 0 0 0]\n",
      "[1 1 1 1 0 1 0 0 1 1]\n",
      "Precision score: 0.673128\n",
      "Recall score: 0.580153\n",
      "F1 score: 0.515043\n",
      "AUC score: 0.580153\n",
      "Confusion Metric : [[124   7]\n",
      " [103  28]]\n"
     ]
    },
    {
     "data": {
      "image/png": "[encoded data removed]",
      "text/plain": [
       "<Figure size 432x288 with 1 Axes>"
      ]
     },
     "metadata": {
      "needs_background": "light"
     },
     "output_type": "display_data"
    }
   ],
   "source": [
    "svc = SVC(kernel='poly').fit(X_train, y_train)\n",
    "print_scores(svc, X_train, y_train, X_test, y_test)\n",
    "plot_roc(svc, X_test, y_test)"
   ]
  },
  {
   "cell_type": "code",
   "execution_count": 32,
   "metadata": {
    "_cell_guid": "97fea240-af1b-4ff6-9c26-cba95893f716",
    "_uuid": "07101c67ede001934f74bd1d79d185d10227357f"
   },
   "outputs": [
    {
     "name": "stdout",
     "output_type": "stream",
     "text": [
      "{'activation': 'tanh', 'alpha': 0.001, 'learning_rate': 'adaptive', 'tol': 0.01}\n",
      "best score: 0.242084\n"
     ]
    },
    {
     "data": {
      "image/png": "[encoded data removed]",
      "text/plain": [
       "<Figure size 432x288 with 1 Axes>"
      ]
     },
     "metadata": {
      "needs_background": "light"
     },
     "output_type": "display_data"
    }
   ],
   "source": [
    "param_grid = {'activation': ['relu', 'logistic', 'tanh'],\n",
    "              'alpha': [0.0001, 0.001, 0.01],\n",
    "              'learning_rate': ['constant', 'invscaling', 'adaptive'], 'tol': [0.01]}\n",
    "gs = GridSearchCV(MLPClassifier(), \n",
    "             param_grid=param_grid, scoring=\"f1\", cv=4)\n",
    "gs = gs.fit(X_transform, y[:150000])\n",
    "print(gs.best_params_)\n",
    "print('best score: {:3f}'.format(gs.best_score_))\n",
    "plot_roc(gs, X_resample, y_resample)"
   ]
  },
  {
   "cell_type": "code",
   "execution_count": 33,
   "metadata": {},
   "outputs": [
    {
     "name": "stdout",
     "output_type": "stream",
     "text": [
      "[0 0 1 1 1 0 1 1 1 1]\n",
      "[1 1 1 1 0 1 0 0 1 1]\n",
      "Precision score: 0.629960\n",
      "Recall score: 0.629771\n",
      "F1 score: 0.629636\n",
      "AUC score: 0.629771\n",
      "Confusion Metric : [[85 46]\n",
      " [51 80]]\n"
     ]
    },
    {
     "data": {
      "image/png": "[encoded data removed]",
      "text/plain": [
       "<Figure size 432x288 with 1 Axes>"
      ]
     },
     "metadata": {
      "needs_background": "light"
     },
     "output_type": "display_data"
    }
   ],
   "source": [
    "mlp = MLPClassifier(activation='logistic', alpha=0.001, learning_rate= 'constant', tol= 0.01).fit(X_train, y_train)\n",
    "print_scores(mlp, X_train, y_train, X_test, y_test)\n",
    "plot_roc(mlp, X_test, y_test)"
   ]
  },
  {
   "cell_type": "markdown",
   "metadata": {
    "_cell_guid": "8694f75e-e61c-4531-9ba5-f03e71d2f6fc",
    "_uuid": "d334ba38a1b82341518a7e1e000849734762a23a"
   },
   "source": [
    "First lets try clustering using KMeans, to see if that improves the score."
   ]
  },
  {
   "cell_type": "code",
   "execution_count": 34,
   "metadata": {
    "_cell_guid": "29907a4d-89c4-48e9-99ef-0657c974f51f",
    "_uuid": "df4b041c5ad8531dbe822e91a4c76fbe5701bfe5"
   },
   "outputs": [],
   "source": [
    "from sklearn.cluster import KMeans"
   ]
  },
  {
   "cell_type": "code",
   "execution_count": 35,
   "metadata": {
    "_cell_guid": "faf51792-b002-4bfe-8e2d-f2b7a23708f2",
    "_uuid": "ebcfb1e3321d737e183dbc5abb10cd2f80fa7051"
   },
   "outputs": [],
   "source": [
    "X_transform_cluster = KMeans(n_clusters=10).fit_transform(X_transform, y[:150000])"
   ]
  },
  {
   "cell_type": "code",
   "execution_count": 36,
   "metadata": {
    "_cell_guid": "aa7581cf-87c6-490a-a4f9-88586e2b3f18",
    "_uuid": "ca19ab7fe62cc183d03cc55a5f1ecf47d58a4fa5"
   },
   "outputs": [],
   "source": [
    "rus = RandomUnderSampler(random_state=0)\n",
    "X_resample_cluster, y_resample_cluster = rus.fit_sample(X_transform_cluster, y[:X_transform_cluster.shape[0]])"
   ]
  },
  {
   "cell_type": "code",
   "execution_count": 37,
   "metadata": {
    "_cell_guid": "5073be21-53b0-4038-afbb-5f58a393884e",
    "_uuid": "a4e62268f0348f9a5726396a89e7ceacc6a44e25"
   },
   "outputs": [],
   "source": [
    "X_train_cluster, X_test_cluster, y_train_cluster, y_test_cluster = train_test_split(X_resample_cluster,\n",
    "                                                    y_resample_cluster, stratify=y_resample_cluster, random_state=0)"
   ]
  },
  {
   "cell_type": "code",
   "execution_count": 38,
   "metadata": {
    "_cell_guid": "865c7ade-b353-43ea-93d3-37998790eae9",
    "_uuid": "ce1ccd6d8b42c152f4277d26922d71fb750f4f5c"
   },
   "outputs": [
    {
     "name": "stdout",
     "output_type": "stream",
     "text": [
      "[0 0 1 1 1 0 1 1 0 1]\n",
      "[1 1 1 1 0 1 0 0 1 1]\n",
      "Precision score: 0.637605\n",
      "Recall score: 0.637405\n",
      "F1 score: 0.637272\n",
      "AUC score: 0.637405\n",
      "Confusion Metric : [[86 45]\n",
      " [50 81]]\n"
     ]
    },
    {
     "name": "stderr",
     "output_type": "stream",
     "text": [
      "/usr/local/anaconda3/envs/mlib_demo/lib/python3.7/site-packages/sklearn/linear_model/logistic.py:433: FutureWarning: Default solver will be changed to 'lbfgs' in 0.22. Specify a solver to silence this warning.\n",
      "  FutureWarning)\n"
     ]
    },
    {
     "data": {
      "image/png": "[encoded data removed]",
      "text/plain": [
       "<Figure size 432x288 with 1 Axes>"
      ]
     },
     "metadata": {
      "needs_background": "light"
     },
     "output_type": "display_data"
    }
   ],
   "source": [
    "lr = LogisticRegression()\n",
    "print_scores(lr, X_train_cluster, y_train_cluster, X_test_cluster, y_test_cluster)\n",
    "plot_roc(lr, X_test_cluster, y_test_cluster)"
   ]
  },
  {
   "cell_type": "code",
   "execution_count": 39,
   "metadata": {
    "_cell_guid": "12ef6313-337f-4ef5-903b-525a922d1bb6",
    "_uuid": "358ad871b0ccb4c3075de71c9af7e0576d31d9fd"
   },
   "outputs": [],
   "source": [
    "from sklearn.decomposition import PCA"
   ]
  },
  {
   "cell_type": "code",
   "execution_count": 40,
   "metadata": {
    "_cell_guid": "5a79e507-4f49-4fb5-af76-f83d8f43d882",
    "_uuid": "bebd637bab1e2b75eec289ffc971bad9757372d5"
   },
   "outputs": [],
   "source": [
    "X_transform_pca = PCA().fit_transform(X_transform, y[:150000])"
   ]
  },
  {
   "cell_type": "code",
   "execution_count": 41,
   "metadata": {
    "_cell_guid": "b918b018-2d87-4093-aedd-214105dcc4db",
    "_uuid": "4f03afe63158f50034e9457352fa9b848fab3e7f"
   },
   "outputs": [],
   "source": [
    "rus = RandomUnderSampler(random_state=0)\n",
    "X_resample_pca, y_resample_pca = rus.fit_sample(X_transform_pca, y[:X_transform_pca.shape[0]])"
   ]
  },
  {
   "cell_type": "code",
   "execution_count": 42,
   "metadata": {
    "_cell_guid": "23ced6a4-4914-4dbc-af72-2b745bca1733",
    "_uuid": "dd9caa8856dbd2dded60619f2301befd53dcab72"
   },
   "outputs": [],
   "source": [
    "X_train_cluster, X_test_cluster, y_train_cluster, y_test_cluster = train_test_split(X_resample_cluster,\n",
    "                                                    y_resample_cluster, stratify=y_resample_cluster, random_state=0)"
   ]
  },
  {
   "cell_type": "code",
   "execution_count": 43,
   "metadata": {
    "_cell_guid": "3ad714f5-df7a-462b-a0b2-23c1751a2e57",
    "_uuid": "dd03d740699d5c0bf79688c6cb9fe8fe09f4a7fb"
   },
   "outputs": [
    {
     "name": "stdout",
     "output_type": "stream",
     "text": [
      "[0 0 1 1 1 0 1 1 0 1]\n",
      "[1 1 1 1 0 1 0 0 1 1]\n",
      "Precision score: 0.637605\n",
      "Recall score: 0.637405\n",
      "F1 score: 0.637272\n",
      "AUC score: 0.637405\n",
      "Confusion Metric : [[86 45]\n",
      " [50 81]]\n"
     ]
    },
    {
     "name": "stderr",
     "output_type": "stream",
     "text": [
      "/usr/local/anaconda3/envs/mlib_demo/lib/python3.7/site-packages/sklearn/linear_model/logistic.py:433: FutureWarning: Default solver will be changed to 'lbfgs' in 0.22. Specify a solver to silence this warning.\n",
      "  FutureWarning)\n"
     ]
    },
    {
     "data": {
      "image/png": "[encoded data removed]",
      "text/plain": [
       "<Figure size 432x288 with 1 Axes>"
      ]
     },
     "metadata": {
      "needs_background": "light"
     },
     "output_type": "display_data"
    }
   ],
   "source": [
    "lr = LogisticRegression()\n",
    "print_scores(lr, X_train_cluster, y_train_cluster, X_test_cluster, y_test_cluster)\n",
    "plot_roc(lr, X_test_cluster, y_test_cluster)"
   ]
  },
  {
   "cell_type": "code",
   "execution_count": 44,
   "metadata": {
    "_cell_guid": "39290a66-2e41-4125-99a0-86d0c335672a",
    "_uuid": "0b09a2cf2091484bca976a91725720705f6f0f6f"
   },
   "outputs": [
    {
     "ename": "FileNotFoundError",
     "evalue": "File b'/Users/aggarwalpiush/github_repos/offensivetextevaluation/data/train_data/dev.tsv' does not exist",
     "output_type": "error",
     "traceback": [
      "\u001b[0;31m---------------------------------------------------------------------------\u001b[0m",
      "\u001b[0;31mFileNotFoundError\u001b[0m                         Traceback (most recent call last)",
      "\u001b[0;32m<ipython-input-44-6624fae04c8d>\u001b[0m in \u001b[0;36m<module>\u001b[0;34m\u001b[0m\n\u001b[1;32m      1\u001b[0m test_data = pd.read_csv('/Users/aggarwalpiush/github_repos/offensivetextevaluation/data/train_data/dev.tsv', sep='\\t',\n\u001b[1;32m      2\u001b[0m                         dtype={'tweet': object,  'id': np.int32,\n\u001b[0;32m----> 3\u001b[0;31m                               'subtask_a': 'category'})\n\u001b[0m",
      "\u001b[0;32m/usr/local/anaconda3/envs/mlib_demo/lib/python3.7/site-packages/pandas/io/parsers.py\u001b[0m in \u001b[0;36mparser_f\u001b[0;34m(filepath_or_buffer, sep, delimiter, header, names, index_col, usecols, squeeze, prefix, mangle_dupe_cols, dtype, engine, converters, true_values, false_values, skipinitialspace, skiprows, nrows, na_values, keep_default_na, na_filter, verbose, skip_blank_lines, parse_dates, infer_datetime_format, keep_date_col, date_parser, dayfirst, iterator, chunksize, compression, thousands, decimal, lineterminator, quotechar, quoting, escapechar, comment, encoding, dialect, tupleize_cols, error_bad_lines, warn_bad_lines, skipfooter, doublequote, delim_whitespace, low_memory, memory_map, float_precision)\u001b[0m\n\u001b[1;32m    676\u001b[0m                     skip_blank_lines=skip_blank_lines)\n\u001b[1;32m    677\u001b[0m \u001b[0;34m\u001b[0m\u001b[0m\n\u001b[0;32m--> 678\u001b[0;31m         \u001b[0;32mreturn\u001b[0m \u001b[0m_read\u001b[0m\u001b[0;34m(\u001b[0m\u001b[0mfilepath_or_buffer\u001b[0m\u001b[0;34m,\u001b[0m \u001b[0mkwds\u001b[0m\u001b[0;34m)\u001b[0m\u001b[0;34m\u001b[0m\u001b[0m\n\u001b[0m\u001b[1;32m    679\u001b[0m \u001b[0;34m\u001b[0m\u001b[0m\n\u001b[1;32m    680\u001b[0m     \u001b[0mparser_f\u001b[0m\u001b[0;34m.\u001b[0m\u001b[0m__name__\u001b[0m \u001b[0;34m=\u001b[0m \u001b[0mname\u001b[0m\u001b[0;34m\u001b[0m\u001b[0m\n",
      "\u001b[0;32m/usr/local/anaconda3/envs/mlib_demo/lib/python3.7/site-packages/pandas/io/parsers.py\u001b[0m in \u001b[0;36m_read\u001b[0;34m(filepath_or_buffer, kwds)\u001b[0m\n\u001b[1;32m    438\u001b[0m \u001b[0;34m\u001b[0m\u001b[0m\n\u001b[1;32m    439\u001b[0m     \u001b[0;31m# Create the parser.\u001b[0m\u001b[0;34m\u001b[0m\u001b[0;34m\u001b[0m\u001b[0m\n\u001b[0;32m--> 440\u001b[0;31m     \u001b[0mparser\u001b[0m \u001b[0;34m=\u001b[0m \u001b[0mTextFileReader\u001b[0m\u001b[0;34m(\u001b[0m\u001b[0mfilepath_or_buffer\u001b[0m\u001b[0;34m,\u001b[0m \u001b[0;34m**\u001b[0m\u001b[0mkwds\u001b[0m\u001b[0;34m)\u001b[0m\u001b[0;34m\u001b[0m\u001b[0m\n\u001b[0m\u001b[1;32m    441\u001b[0m \u001b[0;34m\u001b[0m\u001b[0m\n\u001b[1;32m    442\u001b[0m     \u001b[0;32mif\u001b[0m \u001b[0mchunksize\u001b[0m \u001b[0;32mor\u001b[0m \u001b[0miterator\u001b[0m\u001b[0;34m:\u001b[0m\u001b[0;34m\u001b[0m\u001b[0m\n",
      "\u001b[0;32m/usr/local/anaconda3/envs/mlib_demo/lib/python3.7/site-packages/pandas/io/parsers.py\u001b[0m in \u001b[0;36m__init__\u001b[0;34m(self, f, engine, **kwds)\u001b[0m\n\u001b[1;32m    785\u001b[0m             \u001b[0mself\u001b[0m\u001b[0;34m.\u001b[0m\u001b[0moptions\u001b[0m\u001b[0;34m[\u001b[0m\u001b[0;34m'has_index_names'\u001b[0m\u001b[0;34m]\u001b[0m \u001b[0;34m=\u001b[0m \u001b[0mkwds\u001b[0m\u001b[0;34m[\u001b[0m\u001b[0;34m'has_index_names'\u001b[0m\u001b[0;34m]\u001b[0m\u001b[0;34m\u001b[0m\u001b[0m\n\u001b[1;32m    786\u001b[0m \u001b[0;34m\u001b[0m\u001b[0m\n\u001b[0;32m--> 787\u001b[0;31m         \u001b[0mself\u001b[0m\u001b[0;34m.\u001b[0m\u001b[0m_make_engine\u001b[0m\u001b[0;34m(\u001b[0m\u001b[0mself\u001b[0m\u001b[0;34m.\u001b[0m\u001b[0mengine\u001b[0m\u001b[0;34m)\u001b[0m\u001b[0;34m\u001b[0m\u001b[0m\n\u001b[0m\u001b[1;32m    788\u001b[0m \u001b[0;34m\u001b[0m\u001b[0m\n\u001b[1;32m    789\u001b[0m     \u001b[0;32mdef\u001b[0m \u001b[0mclose\u001b[0m\u001b[0;34m(\u001b[0m\u001b[0mself\u001b[0m\u001b[0;34m)\u001b[0m\u001b[0;34m:\u001b[0m\u001b[0;34m\u001b[0m\u001b[0m\n",
      "\u001b[0;32m/usr/local/anaconda3/envs/mlib_demo/lib/python3.7/site-packages/pandas/io/parsers.py\u001b[0m in \u001b[0;36m_make_engine\u001b[0;34m(self, engine)\u001b[0m\n\u001b[1;32m   1012\u001b[0m     \u001b[0;32mdef\u001b[0m \u001b[0m_make_engine\u001b[0m\u001b[0;34m(\u001b[0m\u001b[0mself\u001b[0m\u001b[0;34m,\u001b[0m \u001b[0mengine\u001b[0m\u001b[0;34m=\u001b[0m\u001b[0;34m'c'\u001b[0m\u001b[0;34m)\u001b[0m\u001b[0;34m:\u001b[0m\u001b[0;34m\u001b[0m\u001b[0m\n\u001b[1;32m   1013\u001b[0m         \u001b[0;32mif\u001b[0m \u001b[0mengine\u001b[0m \u001b[0;34m==\u001b[0m \u001b[0;34m'c'\u001b[0m\u001b[0;34m:\u001b[0m\u001b[0;34m\u001b[0m\u001b[0m\n\u001b[0;32m-> 1014\u001b[0;31m             \u001b[0mself\u001b[0m\u001b[0;34m.\u001b[0m\u001b[0m_engine\u001b[0m \u001b[0;34m=\u001b[0m \u001b[0mCParserWrapper\u001b[0m\u001b[0;34m(\u001b[0m\u001b[0mself\u001b[0m\u001b[0;34m.\u001b[0m\u001b[0mf\u001b[0m\u001b[0;34m,\u001b[0m \u001b[0;34m**\u001b[0m\u001b[0mself\u001b[0m\u001b[0;34m.\u001b[0m\u001b[0moptions\u001b[0m\u001b[0;34m)\u001b[0m\u001b[0;34m\u001b[0m\u001b[0m\n\u001b[0m\u001b[1;32m   1015\u001b[0m         \u001b[0;32melse\u001b[0m\u001b[0;34m:\u001b[0m\u001b[0;34m\u001b[0m\u001b[0m\n\u001b[1;32m   1016\u001b[0m             \u001b[0;32mif\u001b[0m \u001b[0mengine\u001b[0m \u001b[0;34m==\u001b[0m \u001b[0;34m'python'\u001b[0m\u001b[0;34m:\u001b[0m\u001b[0;34m\u001b[0m\u001b[0m\n",
      "\u001b[0;32m/usr/local/anaconda3/envs/mlib_demo/lib/python3.7/site-packages/pandas/io/parsers.py\u001b[0m in \u001b[0;36m__init__\u001b[0;34m(self, src, **kwds)\u001b[0m\n\u001b[1;32m   1706\u001b[0m         \u001b[0mkwds\u001b[0m\u001b[0;34m[\u001b[0m\u001b[0;34m'usecols'\u001b[0m\u001b[0;34m]\u001b[0m \u001b[0;34m=\u001b[0m \u001b[0mself\u001b[0m\u001b[0;34m.\u001b[0m\u001b[0musecols\u001b[0m\u001b[0;34m\u001b[0m\u001b[0m\n\u001b[1;32m   1707\u001b[0m \u001b[0;34m\u001b[0m\u001b[0m\n\u001b[0;32m-> 1708\u001b[0;31m         \u001b[0mself\u001b[0m\u001b[0;34m.\u001b[0m\u001b[0m_reader\u001b[0m \u001b[0;34m=\u001b[0m \u001b[0mparsers\u001b[0m\u001b[0;34m.\u001b[0m\u001b[0mTextReader\u001b[0m\u001b[0;34m(\u001b[0m\u001b[0msrc\u001b[0m\u001b[0;34m,\u001b[0m \u001b[0;34m**\u001b[0m\u001b[0mkwds\u001b[0m\u001b[0;34m)\u001b[0m\u001b[0;34m\u001b[0m\u001b[0m\n\u001b[0m\u001b[1;32m   1709\u001b[0m \u001b[0;34m\u001b[0m\u001b[0m\n\u001b[1;32m   1710\u001b[0m         \u001b[0mpassed_names\u001b[0m \u001b[0;34m=\u001b[0m \u001b[0mself\u001b[0m\u001b[0;34m.\u001b[0m\u001b[0mnames\u001b[0m \u001b[0;32mis\u001b[0m \u001b[0;32mNone\u001b[0m\u001b[0;34m\u001b[0m\u001b[0m\n",
      "\u001b[0;32mpandas/_libs/parsers.pyx\u001b[0m in \u001b[0;36mpandas._libs.parsers.TextReader.__cinit__\u001b[0;34m()\u001b[0m\n",
      "\u001b[0;32mpandas/_libs/parsers.pyx\u001b[0m in \u001b[0;36mpandas._libs.parsers.TextReader._setup_parser_source\u001b[0;34m()\u001b[0m\n",
      "\u001b[0;31mFileNotFoundError\u001b[0m: File b'/Users/aggarwalpiush/github_repos/offensivetextevaluation/data/train_data/dev.tsv' does not exist"
     ]
    }
   ],
   "source": [
    "test_data = pd.read_csv('/Users/aggarwalpiush/github_repos/offensivetextevaluation/data/train_data/dev.tsv', sep='\\t',\n",
    "                        dtype={'tweet': object,  'id': np.int32,\n",
    "                              'subtask_a': 'category'})"
   ]
  },
  {
   "cell_type": "code",
   "execution_count": 100,
   "metadata": {
    "_cell_guid": "5cd5d4cb-5af3-4059-8d1a-906ba9b2d0a0",
    "_uuid": "9d3e6efb2ebd9e5dbea6effcc3bc92b361d5c73f"
   },
   "outputs": [
    {
     "data": {
      "text/html": [
       "<div>\n",
       "<style scoped>\n",
       "    .dataframe tbody tr th:only-of-type {\n",
       "        vertical-align: middle;\n",
       "    }\n",
       "\n",
       "    .dataframe tbody tr th {\n",
       "        vertical-align: top;\n",
       "    }\n",
       "\n",
       "    .dataframe thead th {\n",
       "        text-align: right;\n",
       "    }\n",
       "</style>\n",
       "<table border=\"1\" class=\"dataframe\">\n",
       "  <thead>\n",
       "    <tr style=\"text-align: right;\">\n",
       "      <th></th>\n",
       "      <th>qid</th>\n",
       "      <th>tweet</th>\n",
       "      <th>subtask_a</th>\n",
       "    </tr>\n",
       "  </thead>\n",
       "  <tbody>\n",
       "    <tr>\n",
       "      <th>0</th>\n",
       "      <td>78209</td>\n",
       "      <td>@USER Not smearing Canadian Conservatives. Rer...</td>\n",
       "      <td>NOT</td>\n",
       "    </tr>\n",
       "    <tr>\n",
       "      <th>1</th>\n",
       "      <td>78210</td>\n",
       "      <td>@USER @USER @USER @USER @USER @USER @USER @USE...</td>\n",
       "      <td>NOT</td>\n",
       "    </tr>\n",
       "    <tr>\n",
       "      <th>2</th>\n",
       "      <td>78216</td>\n",
       "      <td>@USER Eirc Holder: a friken idiot</td>\n",
       "      <td>OFF</td>\n",
       "    </tr>\n",
       "  </tbody>\n",
       "</table>\n",
       "</div>"
      ],
      "text/plain": [
       "     qid                                              tweet subtask_a\n",
       "0  78209  @USER Not smearing Canadian Conservatives. Rer...       NOT\n",
       "1  78210  @USER @USER @USER @USER @USER @USER @USER @USE...       NOT\n",
       "2  78216                  @USER Eirc Holder: a friken idiot       OFF"
      ]
     },
     "execution_count": 100,
     "metadata": {},
     "output_type": "execute_result"
    }
   ],
   "source": [
    "test_data.head(3)"
   ]
  },
  {
   "cell_type": "markdown",
   "metadata": {
    "_cell_guid": "86966636-bf79-4955-bf8a-ca4e4f6a3805",
    "_uuid": "4bea2603f700014a87bbbb8e33b9db90ccfa7f73"
   },
   "source": [
    "Now we'll load the test dataset and predict on that."
   ]
  },
  {
   "cell_type": "code",
   "execution_count": 101,
   "metadata": {
    "_cell_guid": "9d1b3310-e63e-49db-be3c-884925a57c64",
    "_uuid": "b41473cf21a344d2ec8e3e4c562474b838718c51"
   },
   "outputs": [
    {
     "name": "stderr",
     "output_type": "stream",
     "text": [
      "/usr/local/anaconda3/envs/mlib_demo/lib/python3.7/site-packages/ipykernel_launcher.py:1: FutureWarning: Method .as_matrix will be removed in a future version. Use .values instead.\n",
      "  \"\"\"Entry point for launching an IPython kernel.\n"
     ]
    }
   ],
   "source": [
    "X = test_data[['tweet', 'subtask_a']].as_matrix()"
   ]
  },
  {
   "cell_type": "code",
   "execution_count": 102,
   "metadata": {
    "_cell_guid": "f21ae5c9-834d-4f6e-88d2-39923b0ea93b",
    "_uuid": "50e8dda852743dbba377ee3cfdca07a9be9ae282"
   },
   "outputs": [],
   "source": [
    "X_transform = tokenize_and_transform(X, X.shape[0])"
   ]
  },
  {
   "cell_type": "code",
   "execution_count": 103,
   "metadata": {
    "_cell_guid": "97e5431f-980b-4bac-a8eb-e3a81516624c",
    "_uuid": "db84706d3a7dc4c89559fc7d8ca0596b21770c88"
   },
   "outputs": [
    {
     "name": "stdout",
     "output_type": "stream",
     "text": [
      "[[ 1.00951626  1.78763055 -0.71630443 ... -1.59714977  0.98219342\n",
      "  -1.10877258]\n",
      " [ 1.5333382  -0.7583613   0.09646049 ...  0.08484289 -1.58103886\n",
      "   1.8862416 ]\n",
      " [ 0.30053237 -0.01500009  0.35636745 ... -0.87674133  0.42940762\n",
      "  -0.2602455 ]\n",
      " ...\n",
      " [ 0.20232846 -0.06967081  0.23992441 ... -0.53912052  1.02528191\n",
      "   1.34595972]\n",
      " [ 1.42334859  3.08964732  0.56977596 ...  4.00646155 -3.9242778\n",
      "   1.70003336]\n",
      " [-1.44971484 -0.98374256 -0.96289736 ...  0.61337916  0.51588142\n",
      "   1.47209888]]\n"
     ]
    }
   ],
   "source": [
    "X_transform = scale(X_transform)\n",
    "le = LabelEncoder()\n",
    "y = le.fit_transform(y)\n",
    "print(X_transform[:10])"
   ]
  },
  {
   "cell_type": "code",
   "execution_count": 104,
   "metadata": {
    "_cell_guid": "aca3f3da-c309-483e-937a-9d8a26e91c6a",
    "_uuid": "32a17478cea2e3e18f7c1f108dfd36bdeac1f127"
   },
   "outputs": [
    {
     "ename": "IndexError",
     "evalue": "index 2 is out of bounds for axis 1 with size 2",
     "output_type": "error",
     "traceback": [
      "\u001b[0;31m---------------------------------------------------------------------------\u001b[0m",
      "\u001b[0;31mIndexError\u001b[0m                                Traceback (most recent call last)",
      "\u001b[0;32m<ipython-input-104-b8446ecf0b59>\u001b[0m in \u001b[0;36m<module>\u001b[0;34m\u001b[0m\n\u001b[0;32m----> 1\u001b[0;31m \u001b[0mX_transform\u001b[0m \u001b[0;34m=\u001b[0m \u001b[0mnp\u001b[0m\u001b[0;34m.\u001b[0m\u001b[0mappend\u001b[0m\u001b[0;34m(\u001b[0m\u001b[0mX_transform\u001b[0m \u001b[0;34m,\u001b[0m \u001b[0mnp\u001b[0m\u001b[0;34m.\u001b[0m\u001b[0mtranspose\u001b[0m\u001b[0;34m(\u001b[0m\u001b[0;34m[\u001b[0m\u001b[0mX\u001b[0m\u001b[0;34m[\u001b[0m\u001b[0;34m:\u001b[0m\u001b[0;34m,\u001b[0m \u001b[0;36m2\u001b[0m\u001b[0;34m]\u001b[0m\u001b[0;34m]\u001b[0m\u001b[0;34m)\u001b[0m\u001b[0;34m,\u001b[0m \u001b[0maxis\u001b[0m\u001b[0;34m=\u001b[0m\u001b[0;36m1\u001b[0m\u001b[0;34m)\u001b[0m\u001b[0;34m\u001b[0m\u001b[0m\n\u001b[0m",
      "\u001b[0;31mIndexError\u001b[0m: index 2 is out of bounds for axis 1 with size 2"
     ]
    }
   ],
   "source": [
    "X_transform = np.append(X_transform , np.transpose([X[:, 2]]), axis=1)"
   ]
  },
  {
   "cell_type": "markdown",
   "metadata": {
    "_cell_guid": "6f421831-5708-4940-9aa6-1672023b0f26",
    "_uuid": "1ec8aca42abfd779bc544b414129f84e4009ba3d"
   },
   "source": [
    "Now to predict the probabilities."
   ]
  },
  {
   "cell_type": "code",
   "execution_count": 114,
   "metadata": {
    "_cell_guid": "8c4d0e5d-7556-4b18-80d4-029f9222942f",
    "_uuid": "078aa2cefd77c98500d735fa582fd30001745f60"
   },
   "outputs": [],
   "source": [
    "y_pred = gs.predict_proba(X_transform)[:, 0]"
   ]
  },
  {
   "cell_type": "code",
   "execution_count": 122,
   "metadata": {
    "_cell_guid": "2d456c68-59b2-472d-b118-3dd2fc02c02e",
    "_uuid": "92fe8b0c00ed5935fc8203e260d1ae914dc8911d"
   },
   "outputs": [
    {
     "name": "stderr",
     "output_type": "stream",
     "text": [
      "/usr/local/anaconda3/envs/mlib_demo/lib/python3.7/site-packages/ipykernel_launcher.py:1: FutureWarning: Method .as_matrix will be removed in a future version. Use .values instead.\n",
      "  \"\"\"Entry point for launching an IPython kernel.\n"
     ]
    }
   ],
   "source": [
    "out_data = np.append(test_data[['tweet', 'subtask_a']].as_matrix(), np.transpose([y_pred]), axis=1)"
   ]
  },
  {
   "cell_type": "code",
   "execution_count": 123,
   "metadata": {
    "_cell_guid": "f00de242-508c-4d0e-a37f-77a1b25cebd2",
    "_uuid": "502c9d47810a9ca47c804ef7a3ded9bfcbffb0bd"
   },
   "outputs": [
    {
     "data": {
      "text/plain": [
       "(3241, 3)"
      ]
     },
     "execution_count": 123,
     "metadata": {},
     "output_type": "execute_result"
    }
   ],
   "source": [
    "out_data.shape"
   ]
  },
  {
   "cell_type": "code",
   "execution_count": 125,
   "metadata": {
    "_cell_guid": "6f288acf-f44a-4b3c-b893-3642ebb547c8",
    "_uuid": "8b8780fdbdf29ec2dd02f746664fb99ecef299fb"
   },
   "outputs": [],
   "source": [
    "np.savetxt('submission.csv', out_data, fmt='%s,%s, %f', delimiter=',')"
   ]
  }
 ],
 "metadata": {
  "kernelspec": {
   "display_name": "Python mlib_demo",
   "language": "python",
   "name": "mlib_demo"
  },
  "language_info": {
   "codemirror_mode": {
    "name": "ipython",
    "version": 3
   },
   "file_extension": ".py",
   "mimetype": "text/x-python",
   "name": "python",
   "nbconvert_exporter": "python",
   "pygments_lexer": "ipython3",
   "version": "3.7.0"
  }
 },
 "nbformat": 4,
 "nbformat_minor": 1
}
