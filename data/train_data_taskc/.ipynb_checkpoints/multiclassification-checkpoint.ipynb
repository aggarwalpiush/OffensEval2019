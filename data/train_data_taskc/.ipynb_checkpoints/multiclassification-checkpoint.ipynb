{
 "cells": [
  {
   "cell_type": "markdown",
   "metadata": {
    "_cell_guid": "2bb697bf-4e6e-4910-8492-210982fd3f6f",
    "_uuid": "c712bd0507f2024a05041440117bfc59d9ebe6fb"
   },
   "source": [
    "# MutiClass Text Classification"
   ]
  },
  {
   "cell_type": "code",
   "execution_count": 139,
   "metadata": {
    "_cell_guid": "c2bd46b7-9631-4dbb-8378-978f110b20f3",
    "_uuid": "3c9d1806ccb8422d85821be63f4efa04f8e2005b"
   },
   "outputs": [],
   "source": [
    "%matplotlib inline  \n",
    "import pandas as pd\n",
    "import numpy as np\n",
    "import matplotlib.pyplot as plt\n",
    "from nltk.tokenize import word_tokenize\n",
    "from imblearn.under_sampling import RandomUnderSampler\n",
    "from imblearn.over_sampling import RandomOverSampler\n",
    "from sklearn.model_selection import GridSearchCV\n",
    "from sklearn.preprocessing import scale\n",
    "from sklearn.preprocessing import StandardScaler\n",
    "from sklearn.metrics import f1_score\n",
    "from sklearn.metrics import confusion_matrix\n",
    "from sklearn.metrics import recall_score\n",
    "from sklearn.metrics import precision_score\n",
    "from sklearn.metrics import roc_curve\n",
    "from sklearn.base import TransformerMixin\n",
    "from sklearn.neural_network import MLPClassifier\n",
    "from sklearn.linear_model import LogisticRegression\n",
    "from sklearn.linear_model import LogisticRegressionCV\n",
    "from sklearn.pipeline import Pipeline\n",
    "from sklearn.neighbors import KNeighborsClassifier\n",
    "from sklearn.tree import DecisionTreeClassifier\n",
    "from sklearn.metrics import roc_auc_score\n",
    "from sklearn.preprocessing import LabelEncoder\n",
    "from sklearn.model_selection import train_test_split\n",
    "from sklearn.feature_extraction.text import CountVectorizer\n",
    "from sklearn.feature_extraction.text import TfidfTransformer\n",
    "from sklearn.ensemble import RandomForestClassifier\n",
    "from sklearn.metrics import confusion_matrix\n",
    "from sklearn.naive_bayes import MultinomialNB\n",
    "from imblearn.over_sampling import RandomOverSampler\n",
    "from sklearn.svm import SVC\n",
    "from sklearn.svm import LinearSVC\n",
    "from preprocessor_arc import Arc_preprocessor\n",
    "from sklearn.metrics import classification_report\n",
    "from sklearn.metrics import accuracy_score\n",
    "from collections import Counter"
   ]
  },
  {
   "cell_type": "markdown",
   "metadata": {
    "_cell_guid": "1e25cdef-470e-4143-a81c-b1fd35f1ba3e",
    "_uuid": "5ece816e35d11b41b7563953904f60c14ab49dd4"
   },
   "source": [
    "Now some setup, defining the transformer that transforms the essay data into word embeddings. This will be done word by word, and then the word vectors will be averaged to find the document mean vector."
   ]
  },
  {
   "cell_type": "code",
   "execution_count": 58,
   "metadata": {
    "_cell_guid": "108b17d1-bfb2-4973-839f-bd3228470b2c",
    "_uuid": "8586d91d9dc0932537d7d8de6e94ffae93e02e11"
   },
   "outputs": [],
   "source": [
    "class MeanEmbeddingTransformer(TransformerMixin):\n",
    "    \n",
    "    def __init__(self):\n",
    "        self._vocab, self._E = self._load_words()\n",
    "        \n",
    "    \n",
    "    def _load_words(self):\n",
    "        E = {}\n",
    "        vocab = []\n",
    "\n",
    "        with open('/Users/aggarwalpiush/embeddings/offeneval_subtask_a.vec', 'r', encoding=\"utf8\") as file:\n",
    "            for i, line in enumerate(file):\n",
    "                l = line.split(' ')\n",
    "                if l[0].isalpha():\n",
    "                    v = [float(i) for i in l[1:]]\n",
    "                    E[l[0]] = np.array(v)\n",
    "                    vocab.append(l[0])\n",
    "        return np.array(vocab), E            \n",
    "\n",
    "    \n",
    "    def _get_word(self, v):\n",
    "        for i, emb in enumerate(self._E):\n",
    "            if np.array_equal(emb, v):\n",
    "                return self._vocab[i]\n",
    "        return None\n",
    "    \n",
    "    def _doc_mean(self, doc):\n",
    "        word_array = []\n",
    "        for w in doc:\n",
    "            if  w.lower().strip() in self._E:\n",
    "                word_array.append(self._E[w.lower().strip()])\n",
    "            else:\n",
    "                word_array.append(np.zeros([len(v) for v in self._E.values()][0]))\n",
    "\n",
    "        return np.mean(np.array(word_array), axis=0)\n",
    "                \n",
    "        #return np.mean(np.array([self._E[w.lower().strip()] for w in doc if w.lower().strip() in self._E else np.zeros([len(v) for v in self._E.values()][0])]), axis=0)\n",
    "    \n",
    "    def fit(self, X, y=None):\n",
    "        return self\n",
    "    \n",
    "    def transform(self, X):\n",
    "        return np.array([self._doc_mean(doc) for doc in X])\n",
    "    \n",
    "    def fit_transform(self, X, y=None):\n",
    "        return self.fit(X).transform(X)"
   ]
  },
  {
   "cell_type": "code",
   "execution_count": 130,
   "metadata": {
    "_cell_guid": "04ef6a9b-b4cd-4715-a737-f994639763a4",
    "_uuid": "387c55b880bb8905228728f3f1a5c363c48a5355"
   },
   "outputs": [],
   "source": [
    "def plot_roc(clf, X_test, y_test):\n",
    "    y_pred = clf.predict(X_test)\n",
    "    fpr, tpr, _ = roc_curve(y_test, y_pred)\n",
    "    plt.plot(fpr, tpr)\n",
    "    plt.xlabel('FPR')\n",
    "    plt.ylabel('TPR')\n",
    "    \n",
    "def print_scores(clf, X_train, y_train, X_test, y_test):\n",
    "    clf.fit(X_train, y_train)\n",
    "    y_pred = clf.predict(X_test)\n",
    "    print(y_pred[:10])\n",
    "    print(y_test[:10])\n",
    "    print('Precision score: {:3f}'.format(precision_score(y_test, y_pred, average='macro') ))\n",
    "    print('Recall score: {:3f}'.format(recall_score(y_test, y_pred, average='macro') ))\n",
    "    print('F1 score: {:3f}'.format(f1_score(y_test, y_pred, average='macro')))\n",
    "   #print('AUC score: {:3f}'.format(roc_auc_score(y_test, y_pred)))\n",
    "    print(classification_report(y_test, y_pred))\n",
    "    print('Confusion Metric : %s' %(confusion_matrix(y_test, y_pred)))\n",
    "    print('Prediction Accuracy: {:3f}'.format(accuracy_score(y_test, y_pred)))"
   ]
  },
  {
   "cell_type": "markdown",
   "metadata": {
    "_cell_guid": "13cf4983-2b2c-49a5-ad09-6bf2379dc90a",
    "_uuid": "c27e9c7bd705db767afaa18249482622b6f99be9"
   },
   "source": [
    "Loading the dataset using pandas"
   ]
  },
  {
   "cell_type": "code",
   "execution_count": 87,
   "metadata": {
    "_cell_guid": "eba54d41-cbfb-4607-8577-934bdeffb727",
    "_uuid": "6de0d4b0fee106f1ae951466b918bf89d9d13f99"
   },
   "outputs": [
    {
     "data": {
      "text/plain": [
       "Index(['id', 'tweet', 'subtask_c'], dtype='object')"
      ]
     },
     "execution_count": 87,
     "metadata": {},
     "output_type": "execute_result"
    }
   ],
   "source": [
    "train_data = pd.read_csv('/Users/aggarwalpiush/github_repos/offensivetextevaluation/data/train_data_taskc/subtaskc_offenseval.tsv', sep='\\t',\n",
    "                        dtype={'tweet': object,  'id': np.int32,\n",
    "                              'subtask_c': 'category'})\n",
    "train_data.columns"
   ]
  },
  {
   "cell_type": "code",
   "execution_count": 88,
   "metadata": {
    "_cell_guid": "cb58d5bb-4bd9-4326-91af-05b32854c773",
    "_uuid": "3b505fb7d58a239490d296bb56d99ce351c4d7ad"
   },
   "outputs": [
    {
     "data": {
      "text/html": [
       "<div>\n",
       "<style scoped>\n",
       "    .dataframe tbody tr th:only-of-type {\n",
       "        vertical-align: middle;\n",
       "    }\n",
       "\n",
       "    .dataframe tbody tr th {\n",
       "        vertical-align: top;\n",
       "    }\n",
       "\n",
       "    .dataframe thead th {\n",
       "        text-align: right;\n",
       "    }\n",
       "</style>\n",
       "<table border=\"1\" class=\"dataframe\">\n",
       "  <thead>\n",
       "    <tr style=\"text-align: right;\">\n",
       "      <th></th>\n",
       "      <th>id</th>\n",
       "      <th>tweet</th>\n",
       "      <th>subtask_c</th>\n",
       "    </tr>\n",
       "  </thead>\n",
       "  <tbody>\n",
       "    <tr>\n",
       "      <th>0</th>\n",
       "      <td>90194</td>\n",
       "      <td>@USER @USER Go home you’re drunk!!! @USER #MAG...</td>\n",
       "      <td>IND</td>\n",
       "    </tr>\n",
       "    <tr>\n",
       "      <th>1</th>\n",
       "      <td>97670</td>\n",
       "      <td>@USER Liberals are all Kookoo !!!</td>\n",
       "      <td>OTH</td>\n",
       "    </tr>\n",
       "    <tr>\n",
       "      <th>2</th>\n",
       "      <td>52415</td>\n",
       "      <td>@USER was literally just talking about this lo...</td>\n",
       "      <td>GRP</td>\n",
       "    </tr>\n",
       "  </tbody>\n",
       "</table>\n",
       "</div>"
      ],
      "text/plain": [
       "      id                                              tweet subtask_c\n",
       "0  90194  @USER @USER Go home you’re drunk!!! @USER #MAG...       IND\n",
       "1  97670                  @USER Liberals are all Kookoo !!!       OTH\n",
       "2  52415  @USER was literally just talking about this lo...       GRP"
      ]
     },
     "execution_count": 88,
     "metadata": {},
     "output_type": "execute_result"
    }
   ],
   "source": [
    "train_data.head(3)\n"
   ]
  },
  {
   "cell_type": "markdown",
   "metadata": {
    "_cell_guid": "7c0aa651-e467-4e6f-b1dd-57a9ec4c2395",
    "_uuid": "0ce0abb69f76cbf029d24bd4cd74ef5f14e50f5e"
   },
   "source": [
    "We can see how much memory the dataset uses, it looks like it uses a bit, but small enough, so we'll save the transformed data to a file so it can be loaded faster."
   ]
  },
  {
   "cell_type": "code",
   "execution_count": 89,
   "metadata": {
    "_cell_guid": "85fba399-d3e6-4fe5-a864-1b6f394bc85c",
    "_uuid": "48761c381554e4573a6f7b4a6da73be2377b4c9d"
   },
   "outputs": [
    {
     "data": {
      "text/plain": [
       "1011497"
      ]
     },
     "execution_count": 89,
     "metadata": {},
     "output_type": "execute_result"
    }
   ],
   "source": [
    "train_data.memory_usage(deep=True).sum()"
   ]
  },
  {
   "cell_type": "markdown",
   "metadata": {
    "_cell_guid": "84197c5e-3508-4f78-832c-3277fdea90f7",
    "_uuid": "b0389ea0fd6006b4e3b5589f78a3ee7254689b14"
   },
   "source": [
    "To determine if the dataset is unbalanced we can count the positive and negative cases. The number of positive cases is over five times the number of negative cases, which is very unbalanced, the AUC for the ROC curve or the F1 score would work fine for this dataset, but not regular accuracy."
   ]
  },
  {
   "cell_type": "code",
   "execution_count": 90,
   "metadata": {
    "_cell_guid": "379b87bc-ca96-4d6d-9245-0049487ef70b",
    "_uuid": "95c87410cb66ceb35e5d6f1d560c317ca3339215"
   },
   "outputs": [
    {
     "data": {
      "text/plain": [
       "IND    2407\n",
       "GRP    1074\n",
       "OTH     395\n",
       "Name: subtask_c, dtype: int64"
      ]
     },
     "execution_count": 90,
     "metadata": {},
     "output_type": "execute_result"
    }
   ],
   "source": [
    "train_data['subtask_c'].value_counts()"
   ]
  },
  {
   "cell_type": "code",
   "execution_count": 91,
   "metadata": {
    "_cell_guid": "6992aa51-4af1-4b3c-b4ce-9f7d0a68341e",
    "_uuid": "bf9c620eea846a84f8f54349c526be55f72f9e8e"
   },
   "outputs": [],
   "source": [
    "X = train_data[['tweet']].values\n"
   ]
  },
  {
   "cell_type": "code",
   "execution_count": 92,
   "metadata": {},
   "outputs": [],
   "source": [
    "y = train_data['subtask_c'].values"
   ]
  },
  {
   "cell_type": "markdown",
   "metadata": {
    "_cell_guid": "77492e84-b092-4c65-b338-a59f5005b052",
    "_uuid": "665be719a5480c796a6c3a730d7873b9cb21b06a"
   },
   "source": [
    "The essays must be tokenized first and then they can be transformed."
   ]
  },
  {
   "cell_type": "code",
   "execution_count": 93,
   "metadata": {
    "_cell_guid": "cdf639c6-7120-4b43-93b2-54892abc7b3e",
    "_uuid": "214fa5c9c4bc831980abe0e03f1aa7a49df6d402"
   },
   "outputs": [],
   "source": [
    "def tokenize_and_transform(X, sample_size):\n",
    "    tweets = X[:,0]\n",
    "    arc_obj = Arc_preprocessor()\n",
    "    tok_tweet = [arc_obj.tokenizeRawTweetText(doc) for doc in tweets[:sample_size]]\n",
    "    #tok_tweet = [word_tokenize(doc) for doc in tweets[:sample_size]]\n",
    "    met = MeanEmbeddingTransformer()\n",
    "    X_transform = met.fit_transform(tok_tweet)\n",
    "    return X_transform"
   ]
  },
  {
   "cell_type": "code",
   "execution_count": 94,
   "metadata": {
    "_cell_guid": "86263348-456a-413d-ba39-380290acc1ee",
    "_uuid": "cd784077fe3177009fe64eca1bd2a2aae38657ea"
   },
   "outputs": [],
   "source": [
    "X_transform = tokenize_and_transform(X, 160000)"
   ]
  },
  {
   "cell_type": "markdown",
   "metadata": {
    "_uuid": "2d71254ece1b3be8244f173fc763c1b102124c8d"
   },
   "source": [
    "Time to save the vector representation of the essays."
   ]
  },
  {
   "cell_type": "markdown",
   "metadata": {
    "_uuid": "05b284b8d939fb52bf663a8f0b84cb8ba53f43ac"
   },
   "source": [
    "We can later on load them using loadtxt."
   ]
  },
  {
   "cell_type": "code",
   "execution_count": 95,
   "metadata": {
    "_cell_guid": "cd2885c0-b116-4516-9dc7-35a6c23214ac",
    "_uuid": "358d41e2fdc1807511dc8fa29cfb09a2ac856cfe"
   },
   "outputs": [],
   "source": [
    "scaler = StandardScaler()\n",
    "X_transform = scaler.fit_transform(X_transform)\n",
    "#X_transform = scale(X_transform)\n"
   ]
  },
  {
   "cell_type": "code",
   "execution_count": 96,
   "metadata": {},
   "outputs": [
    {
     "name": "stdout",
     "output_type": "stream",
     "text": [
      "[IND, OTH, GRP, IND, IND, ..., OTH, IND, IND, IND, IND]\n",
      "Length: 20\n",
      "Categories (3, object): [GRP, IND, OTH]\n",
      "[1 2 0 1 1 2 1 0 0 1 0 1 0 0 1 2 1 1 1 1]\n"
     ]
    }
   ],
   "source": [
    "print(y[:20])\n",
    "le = LabelEncoder()\n",
    "y = le.fit_transform(y)\n",
    "print(y[:20])"
   ]
  },
  {
   "cell_type": "code",
   "execution_count": 97,
   "metadata": {},
   "outputs": [
    {
     "name": "stdout",
     "output_type": "stream",
     "text": [
      "[1 2 0 1 1 2 1 0 0 1]\n"
     ]
    }
   ],
   "source": [
    "print(y[:10])"
   ]
  },
  {
   "cell_type": "markdown",
   "metadata": {
    "_cell_guid": "8369ccde-a981-4f0f-ab87-62af2e7ce8ee",
    "_uuid": "11a0be29b527277f7f4e92f409a029454d3c3532"
   },
   "source": [
    "To prevent the positive class from dominating the negative, undersampling will be used to equalize the two classes."
   ]
  },
  {
   "cell_type": "code",
   "execution_count": 25,
   "metadata": {
    "_cell_guid": "83932499-f908-4c0d-81a3-a45cb2a67236",
    "_uuid": "3d969d0818a64b32cea87158395ee876da4a8d46"
   },
   "outputs": [],
   "source": [
    "#rus = RandomOverSampler(random_state=0)\n",
    "#X_resample, y_resample = rus.fit_sample(X_transform, y[:X_transform.shape[0]])"
   ]
  },
  {
   "cell_type": "code",
   "execution_count": 124,
   "metadata": {},
   "outputs": [],
   "source": [
    "X_resample, y_resample = X_transform, y"
   ]
  },
  {
   "cell_type": "code",
   "execution_count": 125,
   "metadata": {
    "_cell_guid": "2b9ae401-42f9-4871-92e3-32441a5e3a84",
    "_uuid": "7060b5953ee5bc6861420824b068533223438d72"
   },
   "outputs": [],
   "source": [
    "X_train1, X_test, y_train1, y_test = train_test_split(X_resample,\n",
    "                                                    y_resample, stratify=y_resample, test_size=0.2, random_state=42)"
   ]
  },
  {
   "cell_type": "code",
   "execution_count": 121,
   "metadata": {},
   "outputs": [],
   "source": [
    "rus = RandomUnderSampler(random_state=0)\n",
    "X_resample, y_resample = rus.fit_sample(X_train1, y_train1)"
   ]
  },
  {
   "cell_type": "code",
   "execution_count": 122,
   "metadata": {},
   "outputs": [],
   "source": [
    "X_train, y_train = X_resample, y_resample"
   ]
  },
  {
   "cell_type": "code",
   "execution_count": 126,
   "metadata": {},
   "outputs": [],
   "source": [
    "X_train, y_train = X_train1, y_train1"
   ]
  },
  {
   "cell_type": "code",
   "execution_count": 134,
   "metadata": {},
   "outputs": [
    {
     "name": "stdout",
     "output_type": "stream",
     "text": [
      "3100 776\n"
     ]
    }
   ],
   "source": [
    "print(len(y_train), len(y_test))"
   ]
  },
  {
   "cell_type": "code",
   "execution_count": 142,
   "metadata": {},
   "outputs": [],
   "source": [
    "cnt = Counter(y_test)"
   ]
  },
  {
   "cell_type": "code",
   "execution_count": 143,
   "metadata": {},
   "outputs": [
    {
     "data": {
      "text/plain": [
       "0.6211340206185567"
      ]
     },
     "execution_count": 143,
     "metadata": {},
     "output_type": "execute_result"
    }
   ],
   "source": [
    "cnt[1]/len(y_test)"
   ]
  },
  {
   "cell_type": "markdown",
   "metadata": {
    "_cell_guid": "8c4eb34b-36d8-4f2f-a13b-16002026b732",
    "_uuid": "e6a897da39abfe62952374953f7a13132374c777"
   },
   "source": [
    "Let's test the dataset using default parameters and no preprocessing."
   ]
  },
  {
   "cell_type": "code",
   "execution_count": 133,
   "metadata": {
    "_cell_guid": "29fbd3ab-99b5-4c88-8313-947d8e215a75",
    "_uuid": "c549104dd471f7c65644a29a296709549d4f2c7b"
   },
   "outputs": [
    {
     "name": "stderr",
     "output_type": "stream",
     "text": [
      "/usr/local/anaconda3/envs/mlib_demo/lib/python3.7/site-packages/sklearn/linear_model/logistic.py:433: FutureWarning: Default solver will be changed to 'lbfgs' in 0.22. Specify a solver to silence this warning.\n",
      "  FutureWarning)\n",
      "/usr/local/anaconda3/envs/mlib_demo/lib/python3.7/site-packages/sklearn/linear_model/logistic.py:460: FutureWarning: Default multi_class will be changed to 'auto' in 0.22. Specify the multi_class option to silence this warning.\n",
      "  \"this warning.\", FutureWarning)\n"
     ]
    },
    {
     "name": "stdout",
     "output_type": "stream",
     "text": [
      "[1 1 1 1 0 0 0 1 0 1]\n",
      "[1 1 0 1 0 1 0 1 0 2]\n",
      "Precision score: 0.503954\n",
      "Recall score: 0.490350\n",
      "F1 score: 0.487697\n",
      "              precision    recall  f1-score   support\n",
      "\n",
      "           0       0.58      0.55      0.56       215\n",
      "           1       0.76      0.86      0.81       482\n",
      "           2       0.17      0.06      0.09        79\n",
      "\n",
      "   micro avg       0.69      0.69      0.69       776\n",
      "   macro avg       0.50      0.49      0.49       776\n",
      "weighted avg       0.65      0.69      0.67       776\n",
      "\n",
      "Confusion Metric : [[118  81  16]\n",
      " [ 60 414   8]\n",
      " [ 27  47   5]]\n",
      "Prediction Accuracy: 0.692010\n"
     ]
    }
   ],
   "source": [
    "lr = LogisticRegression()\n",
    "print_scores(lr, X_train, y_train, X_test, y_test)\n",
    "#plot_roc(lr, X_test, y_test)"
   ]
  },
  {
   "cell_type": "code",
   "execution_count": 135,
   "metadata": {
    "_cell_guid": "d18570b4-b3bf-4cc7-a9d9-a0218447d9e8",
    "_uuid": "adad12241f6b3af8936caee06541194f2f9dd428"
   },
   "outputs": [
    {
     "name": "stdout",
     "output_type": "stream",
     "text": [
      "[1 1 0 1 0 0 0 1 0 1]\n",
      "[1 1 0 1 0 1 0 1 0 2]\n",
      "Precision score: 0.417921\n",
      "Recall score: 0.465058\n",
      "F1 score: 0.440132\n",
      "              precision    recall  f1-score   support\n",
      "\n",
      "           0       0.51      0.59      0.54       215\n",
      "           1       0.75      0.81      0.78       482\n",
      "           2       0.00      0.00      0.00        79\n",
      "\n",
      "   micro avg       0.66      0.66      0.66       776\n",
      "   macro avg       0.42      0.47      0.44       776\n",
      "weighted avg       0.60      0.66      0.63       776\n",
      "\n",
      "Confusion Metric : [[126  87   2]\n",
      " [ 89 390   3]\n",
      " [ 33  46   0]]\n",
      "Prediction Accuracy: 0.664948\n"
     ]
    }
   ],
   "source": [
    "knn = KNeighborsClassifier()\n",
    "print_scores(knn, X_train, y_train, X_test, y_test)\n"
   ]
  },
  {
   "cell_type": "code",
   "execution_count": 136,
   "metadata": {
    "_cell_guid": "44de2926-d8b1-47d0-9cea-3d3c0d35815c",
    "_uuid": "a8479c85c0516593114ea758303289f413edddf9"
   },
   "outputs": [
    {
     "name": "stderr",
     "output_type": "stream",
     "text": [
      "/usr/local/anaconda3/envs/mlib_demo/lib/python3.7/site-packages/sklearn/ensemble/forest.py:246: FutureWarning: The default value of n_estimators will change from 10 in version 0.20 to 100 in 0.22.\n",
      "  \"10 in version 0.20 to 100 in 0.22.\", FutureWarning)\n"
     ]
    },
    {
     "name": "stdout",
     "output_type": "stream",
     "text": [
      "[1 1 0 1 1 1 0 1 0 1]\n",
      "[1 1 0 1 0 1 0 1 0 2]\n",
      "Precision score: 0.481447\n",
      "Recall score: 0.452955\n",
      "F1 score: 0.445200\n",
      "              precision    recall  f1-score   support\n",
      "\n",
      "           0       0.50      0.47      0.49       215\n",
      "           1       0.73      0.85      0.79       482\n",
      "           2       0.21      0.04      0.06        79\n",
      "\n",
      "   micro avg       0.66      0.66      0.66       776\n",
      "   macro avg       0.48      0.45      0.45       776\n",
      "weighted avg       0.61      0.66      0.63       776\n",
      "\n",
      "Confusion Metric : [[102 106   7]\n",
      " [ 70 408   4]\n",
      " [ 33  43   3]]\n",
      "Prediction Accuracy: 0.661082\n"
     ]
    }
   ],
   "source": [
    "rf = RandomForestClassifier().fit(X_train, y_train)\n",
    "print_scores(rf, X_train, y_train, X_test, y_test)"
   ]
  },
  {
   "cell_type": "code",
   "execution_count": 137,
   "metadata": {
    "_cell_guid": "0a673517-d615-41f8-ad05-6e5dd88eca2f",
    "_uuid": "a030636cd37502bb698d602d2a5341b766fec1c4"
   },
   "outputs": [
    {
     "name": "stderr",
     "output_type": "stream",
     "text": [
      "/usr/local/anaconda3/envs/mlib_demo/lib/python3.7/site-packages/sklearn/svm/base.py:196: FutureWarning: The default value of gamma will change from 'auto' to 'scale' in version 0.22 to account better for unscaled features. Set gamma explicitly to 'auto' or 'scale' to avoid this warning.\n",
      "  \"avoid this warning.\", FutureWarning)\n",
      "/usr/local/anaconda3/envs/mlib_demo/lib/python3.7/site-packages/sklearn/svm/base.py:196: FutureWarning: The default value of gamma will change from 'auto' to 'scale' in version 0.22 to account better for unscaled features. Set gamma explicitly to 'auto' or 'scale' to avoid this warning.\n",
      "  \"avoid this warning.\", FutureWarning)\n"
     ]
    },
    {
     "name": "stdout",
     "output_type": "stream",
     "text": [
      "[1 1 1 1 0 1 0 1 0 1]\n",
      "[1 1 0 1 0 1 0 1 0 2]\n",
      "Precision score: 0.454950\n",
      "Recall score: 0.493245\n",
      "F1 score: 0.472131\n",
      "              precision    recall  f1-score   support\n",
      "\n",
      "           0       0.60      0.58      0.59       215\n",
      "           1       0.76      0.90      0.82       482\n",
      "           2       0.00      0.00      0.00        79\n",
      "\n",
      "   micro avg       0.72      0.72      0.72       776\n",
      "   macro avg       0.45      0.49      0.47       776\n",
      "weighted avg       0.64      0.72      0.68       776\n",
      "\n",
      "Confusion Metric : [[125  90   0]\n",
      " [ 49 433   0]\n",
      " [ 33  46   0]]\n",
      "Prediction Accuracy: 0.719072\n"
     ]
    },
    {
     "name": "stderr",
     "output_type": "stream",
     "text": [
      "/usr/local/anaconda3/envs/mlib_demo/lib/python3.7/site-packages/sklearn/metrics/classification.py:1143: UndefinedMetricWarning: Precision is ill-defined and being set to 0.0 in labels with no predicted samples.\n",
      "  'precision', 'predicted', average, warn_for)\n",
      "/usr/local/anaconda3/envs/mlib_demo/lib/python3.7/site-packages/sklearn/metrics/classification.py:1143: UndefinedMetricWarning: F-score is ill-defined and being set to 0.0 in labels with no predicted samples.\n",
      "  'precision', 'predicted', average, warn_for)\n",
      "/usr/local/anaconda3/envs/mlib_demo/lib/python3.7/site-packages/sklearn/metrics/classification.py:1143: UndefinedMetricWarning: Precision and F-score are ill-defined and being set to 0.0 in labels with no predicted samples.\n",
      "  'precision', 'predicted', average, warn_for)\n"
     ]
    }
   ],
   "source": [
    "svc = SVC().fit(X_train, y_train)\n",
    "print_scores(svc, X_train, y_train, X_test, y_test)"
   ]
  },
  {
   "cell_type": "code",
   "execution_count": 144,
   "metadata": {
    "_cell_guid": "f5b8b4a0-7f84-43a7-b5e8-13a832680cfe",
    "_uuid": "7ff1f59ceedf45a375f322043d0c3ebdf909a496"
   },
   "outputs": [
    {
     "name": "stderr",
     "output_type": "stream",
     "text": [
      "/usr/local/anaconda3/envs/mlib_demo/lib/python3.7/site-packages/sklearn/svm/base.py:922: ConvergenceWarning: Liblinear failed to converge, increase the number of iterations.\n",
      "  \"the number of iterations.\", ConvergenceWarning)\n"
     ]
    },
    {
     "name": "stdout",
     "output_type": "stream",
     "text": [
      "[1 1 1 1 0 0 0 1 0 1]\n",
      "[1 1 0 1 0 1 0 1 0 2]\n",
      "Precision score: 0.499842\n",
      "Recall score: 0.480453\n",
      "F1 score: 0.476269\n",
      "              precision    recall  f1-score   support\n",
      "\n",
      "           0       0.56      0.53      0.54       215\n",
      "           1       0.75      0.87      0.81       482\n",
      "           2       0.18      0.05      0.08        79\n",
      "\n",
      "   micro avg       0.69      0.69      0.69       776\n",
      "   macro avg       0.50      0.48      0.48       776\n",
      "weighted avg       0.64      0.69      0.66       776\n",
      "\n",
      "Confusion Metric : [[113  89  13]\n",
      " [ 60 417   5]\n",
      " [ 27  48   4]]\n",
      "Prediction Accuracy: 0.688144\n"
     ]
    },
    {
     "name": "stderr",
     "output_type": "stream",
     "text": [
      "/usr/local/anaconda3/envs/mlib_demo/lib/python3.7/site-packages/sklearn/svm/base.py:922: ConvergenceWarning: Liblinear failed to converge, increase the number of iterations.\n",
      "  \"the number of iterations.\", ConvergenceWarning)\n"
     ]
    }
   ],
   "source": [
    "svc = LinearSVC().fit(X_train, y_train)\n",
    "print_scores(svc, X_train, y_train, X_test, y_test)"
   ]
  },
  {
   "cell_type": "code",
   "execution_count": 145,
   "metadata": {
    "_cell_guid": "8c339a6d-4892-4db4-b9b8-175b2757bf18",
    "_uuid": "f286bdaa2b1729a569c730713f7e31e208b806fe"
   },
   "outputs": [
    {
     "name": "stdout",
     "output_type": "stream",
     "text": [
      "[1 2 1 1 1 2 0 1 1 1]\n",
      "[1 1 0 1 0 1 0 1 0 2]\n",
      "Precision score: 0.433479\n",
      "Recall score: 0.437248\n",
      "F1 score: 0.434862\n",
      "              precision    recall  f1-score   support\n",
      "\n",
      "           0       0.43      0.46      0.44       215\n",
      "           1       0.72      0.69      0.71       482\n",
      "           2       0.15      0.16      0.16        79\n",
      "\n",
      "   micro avg       0.57      0.57      0.57       776\n",
      "   macro avg       0.43      0.44      0.43       776\n",
      "weighted avg       0.58      0.57      0.58       776\n",
      "\n",
      "Confusion Metric : [[ 99  91  25]\n",
      " [102 331  49]\n",
      " [ 31  35  13]]\n",
      "Prediction Accuracy: 0.570876\n"
     ]
    }
   ],
   "source": [
    "dtc = DecisionTreeClassifier().fit(X_train, y_train)\n",
    "print_scores(dtc, X_train, y_train, X_test, y_test)"
   ]
  },
  {
   "cell_type": "code",
   "execution_count": 147,
   "metadata": {
    "_cell_guid": "601752ee-1922-4d34-af02-dbb8c44a1eca",
    "_uuid": "987f140dfb6c5ae35c2072dce4a00bfc75550b9c"
   },
   "outputs": [
    {
     "name": "stdout",
     "output_type": "stream",
     "text": [
      "[1 1 1 1 0 0 0 1 0 1]\n",
      "[1 1 0 1 0 1 0 1 0 2]\n",
      "Precision score: 0.630025\n",
      "Recall score: 0.522856\n",
      "F1 score: 0.523083\n",
      "              precision    recall  f1-score   support\n",
      "\n",
      "           0       0.62      0.60      0.61       215\n",
      "           1       0.77      0.89      0.83       482\n",
      "           2       0.50      0.08      0.13        79\n",
      "\n",
      "   micro avg       0.73      0.73      0.73       776\n",
      "   macro avg       0.63      0.52      0.52       776\n",
      "weighted avg       0.70      0.73      0.70       776\n",
      "\n",
      "Confusion Metric : [[130  81   4]\n",
      " [ 52 428   2]\n",
      " [ 29  44   6]]\n",
      "Prediction Accuracy: 0.726804\n"
     ]
    }
   ],
   "source": [
    "mlp = MLPClassifier(activation='logistic', alpha= 0.001, learning_rate= 'adaptive', tol= 0.1).fit(X_train, y_train)\n",
    "print_scores(mlp, X_train, y_train, X_test, y_test)\n"
   ]
  },
  {
   "cell_type": "markdown",
   "metadata": {
    "_cell_guid": "3a8bca6a-050e-4481-91b8-4d07840a262c",
    "_uuid": "7672935cffa1630cd784f26b8eab85db32d51de5"
   },
   "source": [
    "Let's now use grid search and 4-fold cross validation to find the best parameters on the efficient models."
   ]
  },
  {
   "cell_type": "code",
   "execution_count": 153,
   "metadata": {
    "_cell_guid": "46875d53-1d4c-4524-ae19-b203bf7d65e0",
    "_uuid": "b0da9ff39c1a1abd48f4154bb2fed93a3212eb72"
   },
   "outputs": [
    {
     "name": "stdout",
     "output_type": "stream",
     "text": [
      "{'activation': 'logistic', 'alpha': 0.001, 'learning_rate': 'adaptive', 'tol': 0.1}\n",
      "best score: 0.494802\n",
      "f1_value = 0.5136077017593605\n",
      "Confusion Metric : [[128  83   4]\n",
      " [ 52 428   2]\n",
      " [ 27  47   5]]\n",
      "Prediction Accuracy: 0.722938\n"
     ]
    }
   ],
   "source": [
    "gs = GridSearchCV(MLPClassifier(), \n",
    "             param_grid={'activation': ['logistic'], 'alpha': [0.001], 'learning_rate': ['adaptive'], 'tol': [0.1]}, scoring=\"f1_macro\", cv=5)\n",
    "gs = gs.fit(X_train, y_train)\n",
    "print(gs.best_params_)\n",
    "print('best score: {:3f}'.format(gs.best_score_))\n",
    "#print_scores(gs, X_train, y_train, X_test, y_test)\n",
    "\n",
    "print('f1_value = %s'%(f1_score(y_test, gs.predict(X_test), average='macro')))\n",
    "print('Confusion Metric : %s' %(confusion_matrix(y_test, gs.predict(X_test))))\n",
    "print('Prediction Accuracy: {:3f}'.format(accuracy_score(y_test, gs.predict(X_test))))"
   ]
  },
  {
   "cell_type": "code",
   "execution_count": 68,
   "metadata": {},
   "outputs": [
    {
     "name": "stderr",
     "output_type": "stream",
     "text": [
      "/usr/local/anaconda3/envs/mlib_demo/lib/python3.7/site-packages/sklearn/linear_model/logistic.py:433: FutureWarning: Default solver will be changed to 'lbfgs' in 0.22. Specify a solver to silence this warning.\n",
      "  FutureWarning)\n",
      "/usr/local/anaconda3/envs/mlib_demo/lib/python3.7/site-packages/sklearn/linear_model/logistic.py:460: FutureWarning: Default multi_class will be changed to 'auto' in 0.22. Specify the multi_class option to silence this warning.\n",
      "  \"this warning.\", FutureWarning)\n"
     ]
    },
    {
     "name": "stdout",
     "output_type": "stream",
     "text": [
      "[1 1 1 1 0 0 1 0 1 1]\n",
      "[1 2 1 1 0 2 1 0 1 1]\n",
      "Precision score: 0.600960\n",
      "Recall score: 0.544208\n",
      "F1 score: 0.528408\n",
      "              precision    recall  f1-score   support\n",
      "\n",
      "           0       0.58      0.73      0.65       355\n",
      "           1       0.82      0.84      0.83       795\n",
      "           2       0.40      0.06      0.11       130\n",
      "\n",
      "   micro avg       0.73      0.73      0.73      1280\n",
      "   macro avg       0.60      0.54      0.53      1280\n",
      "weighted avg       0.71      0.73      0.71      1280\n",
      "\n",
      "Confusion Metric : [[259  88   8]\n",
      " [122 669   4]\n",
      " [ 64  58   8]]\n"
     ]
    }
   ],
   "source": [
    "lrc = LogisticRegression(C=0.001)\n",
    "print_scores(lrc, X_train, y_train, X_test, y_test)"
   ]
  },
  {
   "cell_type": "markdown",
   "metadata": {
    "_cell_guid": "10df0403-5986-46c9-ad74-eb2f5645c003",
    "_uuid": "c202083426db4d3f791663d4447b34ba85b5653a"
   },
   "source": [
    "Comparing the RBF kernel SVC to the linear SVC there's not much of a performance difference."
   ]
  },
  {
   "cell_type": "code",
   "execution_count": 70,
   "metadata": {
    "_cell_guid": "028ca96c-6af8-48fe-94df-8199b530ab7e",
    "_uuid": "8a9a42858c4b6b8b236d4f0c7d2e85a7932176e7"
   },
   "outputs": [
    {
     "name": "stderr",
     "output_type": "stream",
     "text": [
      "/usr/local/anaconda3/envs/mlib_demo/lib/python3.7/site-packages/sklearn/svm/base.py:922: ConvergenceWarning: Liblinear failed to converge, increase the number of iterations.\n",
      "  \"the number of iterations.\", ConvergenceWarning)\n",
      "/usr/local/anaconda3/envs/mlib_demo/lib/python3.7/site-packages/sklearn/svm/base.py:922: ConvergenceWarning: Liblinear failed to converge, increase the number of iterations.\n",
      "  \"the number of iterations.\", ConvergenceWarning)\n",
      "/usr/local/anaconda3/envs/mlib_demo/lib/python3.7/site-packages/sklearn/svm/base.py:922: ConvergenceWarning: Liblinear failed to converge, increase the number of iterations.\n",
      "  \"the number of iterations.\", ConvergenceWarning)\n",
      "/usr/local/anaconda3/envs/mlib_demo/lib/python3.7/site-packages/sklearn/svm/base.py:922: ConvergenceWarning: Liblinear failed to converge, increase the number of iterations.\n",
      "  \"the number of iterations.\", ConvergenceWarning)\n",
      "/usr/local/anaconda3/envs/mlib_demo/lib/python3.7/site-packages/sklearn/svm/base.py:922: ConvergenceWarning: Liblinear failed to converge, increase the number of iterations.\n",
      "  \"the number of iterations.\", ConvergenceWarning)\n",
      "/usr/local/anaconda3/envs/mlib_demo/lib/python3.7/site-packages/sklearn/svm/base.py:922: ConvergenceWarning: Liblinear failed to converge, increase the number of iterations.\n",
      "  \"the number of iterations.\", ConvergenceWarning)\n",
      "/usr/local/anaconda3/envs/mlib_demo/lib/python3.7/site-packages/sklearn/svm/base.py:922: ConvergenceWarning: Liblinear failed to converge, increase the number of iterations.\n",
      "  \"the number of iterations.\", ConvergenceWarning)\n",
      "/usr/local/anaconda3/envs/mlib_demo/lib/python3.7/site-packages/sklearn/svm/base.py:922: ConvergenceWarning: Liblinear failed to converge, increase the number of iterations.\n",
      "  \"the number of iterations.\", ConvergenceWarning)\n",
      "/usr/local/anaconda3/envs/mlib_demo/lib/python3.7/site-packages/sklearn/svm/base.py:922: ConvergenceWarning: Liblinear failed to converge, increase the number of iterations.\n",
      "  \"the number of iterations.\", ConvergenceWarning)\n",
      "/usr/local/anaconda3/envs/mlib_demo/lib/python3.7/site-packages/sklearn/svm/base.py:922: ConvergenceWarning: Liblinear failed to converge, increase the number of iterations.\n",
      "  \"the number of iterations.\", ConvergenceWarning)\n",
      "/usr/local/anaconda3/envs/mlib_demo/lib/python3.7/site-packages/sklearn/svm/base.py:922: ConvergenceWarning: Liblinear failed to converge, increase the number of iterations.\n",
      "  \"the number of iterations.\", ConvergenceWarning)\n",
      "/usr/local/anaconda3/envs/mlib_demo/lib/python3.7/site-packages/sklearn/svm/base.py:922: ConvergenceWarning: Liblinear failed to converge, increase the number of iterations.\n",
      "  \"the number of iterations.\", ConvergenceWarning)\n"
     ]
    },
    {
     "name": "stdout",
     "output_type": "stream",
     "text": [
      "{'C': 1}\n",
      "best score: 0.491450\n"
     ]
    },
    {
     "name": "stderr",
     "output_type": "stream",
     "text": [
      "/usr/local/anaconda3/envs/mlib_demo/lib/python3.7/site-packages/sklearn/svm/base.py:922: ConvergenceWarning: Liblinear failed to converge, increase the number of iterations.\n",
      "  \"the number of iterations.\", ConvergenceWarning)\n"
     ]
    }
   ],
   "source": [
    "param_grid = {'C': [0.001, 0.01, 0.1, 1, 10]}\n",
    "gs = GridSearchCV(LinearSVC(), \n",
    "             param_grid=param_grid, scoring=\"f1_macro\", cv=4)\n",
    "gs = gs.fit(X_resample, y_resample)\n",
    "print(gs.best_params_)\n",
    "print('best score: {:3f}'.format(gs.best_score_))"
   ]
  },
  {
   "cell_type": "code",
   "execution_count": 71,
   "metadata": {},
   "outputs": [
    {
     "name": "stderr",
     "output_type": "stream",
     "text": [
      "/usr/local/anaconda3/envs/mlib_demo/lib/python3.7/site-packages/sklearn/svm/base.py:922: ConvergenceWarning: Liblinear failed to converge, increase the number of iterations.\n",
      "  \"the number of iterations.\", ConvergenceWarning)\n"
     ]
    },
    {
     "name": "stdout",
     "output_type": "stream",
     "text": [
      "[1 1 1 1 0 0 1 0 1 1]\n",
      "[1 2 1 1 0 2 1 0 1 1]\n",
      "Precision score: 0.487944\n",
      "Recall score: 0.477899\n",
      "F1 score: 0.469978\n",
      "              precision    recall  f1-score   support\n",
      "\n",
      "           0       0.56      0.54      0.55       355\n",
      "           1       0.75      0.85      0.80       795\n",
      "           2       0.16      0.04      0.06       130\n",
      "\n",
      "   micro avg       0.68      0.68      0.68      1280\n",
      "   macro avg       0.49      0.48      0.47      1280\n",
      "weighted avg       0.64      0.68      0.65      1280\n",
      "\n",
      "Confusion Metric : [[193 146  16]\n",
      " [107 677  11]\n",
      " [ 47  78   5]]\n"
     ]
    },
    {
     "name": "stderr",
     "output_type": "stream",
     "text": [
      "/usr/local/anaconda3/envs/mlib_demo/lib/python3.7/site-packages/sklearn/svm/base.py:922: ConvergenceWarning: Liblinear failed to converge, increase the number of iterations.\n",
      "  \"the number of iterations.\", ConvergenceWarning)\n"
     ]
    }
   ],
   "source": [
    "svc = LinearSVC(C=1).fit(X_train, y_train)\n",
    "print_scores(svc, X_train, y_train, X_test, y_test)"
   ]
  },
  {
   "cell_type": "code",
   "execution_count": 72,
   "metadata": {},
   "outputs": [
    {
     "name": "stderr",
     "output_type": "stream",
     "text": [
      "/usr/local/anaconda3/envs/mlib_demo/lib/python3.7/site-packages/sklearn/svm/base.py:196: FutureWarning: The default value of gamma will change from 'auto' to 'scale' in version 0.22 to account better for unscaled features. Set gamma explicitly to 'auto' or 'scale' to avoid this warning.\n",
      "  \"avoid this warning.\", FutureWarning)\n",
      "/usr/local/anaconda3/envs/mlib_demo/lib/python3.7/site-packages/sklearn/metrics/classification.py:1143: UndefinedMetricWarning: F-score is ill-defined and being set to 0.0 in labels with no predicted samples.\n",
      "  'precision', 'predicted', average, warn_for)\n",
      "/usr/local/anaconda3/envs/mlib_demo/lib/python3.7/site-packages/sklearn/metrics/classification.py:1143: UndefinedMetricWarning: F-score is ill-defined and being set to 0.0 in labels with no predicted samples.\n",
      "  'precision', 'predicted', average, warn_for)\n",
      "/usr/local/anaconda3/envs/mlib_demo/lib/python3.7/site-packages/sklearn/svm/base.py:196: FutureWarning: The default value of gamma will change from 'auto' to 'scale' in version 0.22 to account better for unscaled features. Set gamma explicitly to 'auto' or 'scale' to avoid this warning.\n",
      "  \"avoid this warning.\", FutureWarning)\n",
      "/usr/local/anaconda3/envs/mlib_demo/lib/python3.7/site-packages/sklearn/metrics/classification.py:1143: UndefinedMetricWarning: F-score is ill-defined and being set to 0.0 in labels with no predicted samples.\n",
      "  'precision', 'predicted', average, warn_for)\n",
      "/usr/local/anaconda3/envs/mlib_demo/lib/python3.7/site-packages/sklearn/metrics/classification.py:1143: UndefinedMetricWarning: F-score is ill-defined and being set to 0.0 in labels with no predicted samples.\n",
      "  'precision', 'predicted', average, warn_for)\n",
      "/usr/local/anaconda3/envs/mlib_demo/lib/python3.7/site-packages/sklearn/svm/base.py:196: FutureWarning: The default value of gamma will change from 'auto' to 'scale' in version 0.22 to account better for unscaled features. Set gamma explicitly to 'auto' or 'scale' to avoid this warning.\n",
      "  \"avoid this warning.\", FutureWarning)\n",
      "/usr/local/anaconda3/envs/mlib_demo/lib/python3.7/site-packages/sklearn/metrics/classification.py:1143: UndefinedMetricWarning: F-score is ill-defined and being set to 0.0 in labels with no predicted samples.\n",
      "  'precision', 'predicted', average, warn_for)\n",
      "/usr/local/anaconda3/envs/mlib_demo/lib/python3.7/site-packages/sklearn/metrics/classification.py:1143: UndefinedMetricWarning: F-score is ill-defined and being set to 0.0 in labels with no predicted samples.\n",
      "  'precision', 'predicted', average, warn_for)\n",
      "/usr/local/anaconda3/envs/mlib_demo/lib/python3.7/site-packages/sklearn/svm/base.py:196: FutureWarning: The default value of gamma will change from 'auto' to 'scale' in version 0.22 to account better for unscaled features. Set gamma explicitly to 'auto' or 'scale' to avoid this warning.\n",
      "  \"avoid this warning.\", FutureWarning)\n",
      "/usr/local/anaconda3/envs/mlib_demo/lib/python3.7/site-packages/sklearn/metrics/classification.py:1143: UndefinedMetricWarning: F-score is ill-defined and being set to 0.0 in labels with no predicted samples.\n",
      "  'precision', 'predicted', average, warn_for)\n",
      "/usr/local/anaconda3/envs/mlib_demo/lib/python3.7/site-packages/sklearn/metrics/classification.py:1143: UndefinedMetricWarning: F-score is ill-defined and being set to 0.0 in labels with no predicted samples.\n",
      "  'precision', 'predicted', average, warn_for)\n",
      "/usr/local/anaconda3/envs/mlib_demo/lib/python3.7/site-packages/sklearn/svm/base.py:196: FutureWarning: The default value of gamma will change from 'auto' to 'scale' in version 0.22 to account better for unscaled features. Set gamma explicitly to 'auto' or 'scale' to avoid this warning.\n",
      "  \"avoid this warning.\", FutureWarning)\n",
      "/usr/local/anaconda3/envs/mlib_demo/lib/python3.7/site-packages/sklearn/metrics/classification.py:1143: UndefinedMetricWarning: F-score is ill-defined and being set to 0.0 in labels with no predicted samples.\n",
      "  'precision', 'predicted', average, warn_for)\n",
      "/usr/local/anaconda3/envs/mlib_demo/lib/python3.7/site-packages/sklearn/metrics/classification.py:1143: UndefinedMetricWarning: F-score is ill-defined and being set to 0.0 in labels with no predicted samples.\n",
      "  'precision', 'predicted', average, warn_for)\n",
      "/usr/local/anaconda3/envs/mlib_demo/lib/python3.7/site-packages/sklearn/svm/base.py:196: FutureWarning: The default value of gamma will change from 'auto' to 'scale' in version 0.22 to account better for unscaled features. Set gamma explicitly to 'auto' or 'scale' to avoid this warning.\n",
      "  \"avoid this warning.\", FutureWarning)\n",
      "/usr/local/anaconda3/envs/mlib_demo/lib/python3.7/site-packages/sklearn/metrics/classification.py:1143: UndefinedMetricWarning: F-score is ill-defined and being set to 0.0 in labels with no predicted samples.\n",
      "  'precision', 'predicted', average, warn_for)\n",
      "/usr/local/anaconda3/envs/mlib_demo/lib/python3.7/site-packages/sklearn/metrics/classification.py:1143: UndefinedMetricWarning: F-score is ill-defined and being set to 0.0 in labels with no predicted samples.\n",
      "  'precision', 'predicted', average, warn_for)\n",
      "/usr/local/anaconda3/envs/mlib_demo/lib/python3.7/site-packages/sklearn/svm/base.py:196: FutureWarning: The default value of gamma will change from 'auto' to 'scale' in version 0.22 to account better for unscaled features. Set gamma explicitly to 'auto' or 'scale' to avoid this warning.\n",
      "  \"avoid this warning.\", FutureWarning)\n",
      "/usr/local/anaconda3/envs/mlib_demo/lib/python3.7/site-packages/sklearn/metrics/classification.py:1143: UndefinedMetricWarning: F-score is ill-defined and being set to 0.0 in labels with no predicted samples.\n",
      "  'precision', 'predicted', average, warn_for)\n",
      "/usr/local/anaconda3/envs/mlib_demo/lib/python3.7/site-packages/sklearn/metrics/classification.py:1143: UndefinedMetricWarning: F-score is ill-defined and being set to 0.0 in labels with no predicted samples.\n",
      "  'precision', 'predicted', average, warn_for)\n",
      "/usr/local/anaconda3/envs/mlib_demo/lib/python3.7/site-packages/sklearn/svm/base.py:196: FutureWarning: The default value of gamma will change from 'auto' to 'scale' in version 0.22 to account better for unscaled features. Set gamma explicitly to 'auto' or 'scale' to avoid this warning.\n",
      "  \"avoid this warning.\", FutureWarning)\n",
      "/usr/local/anaconda3/envs/mlib_demo/lib/python3.7/site-packages/sklearn/metrics/classification.py:1143: UndefinedMetricWarning: F-score is ill-defined and being set to 0.0 in labels with no predicted samples.\n",
      "  'precision', 'predicted', average, warn_for)\n",
      "/usr/local/anaconda3/envs/mlib_demo/lib/python3.7/site-packages/sklearn/metrics/classification.py:1143: UndefinedMetricWarning: F-score is ill-defined and being set to 0.0 in labels with no predicted samples.\n",
      "  'precision', 'predicted', average, warn_for)\n",
      "/usr/local/anaconda3/envs/mlib_demo/lib/python3.7/site-packages/sklearn/svm/base.py:196: FutureWarning: The default value of gamma will change from 'auto' to 'scale' in version 0.22 to account better for unscaled features. Set gamma explicitly to 'auto' or 'scale' to avoid this warning.\n",
      "  \"avoid this warning.\", FutureWarning)\n",
      "/usr/local/anaconda3/envs/mlib_demo/lib/python3.7/site-packages/sklearn/metrics/classification.py:1143: UndefinedMetricWarning: F-score is ill-defined and being set to 0.0 in labels with no predicted samples.\n",
      "  'precision', 'predicted', average, warn_for)\n",
      "/usr/local/anaconda3/envs/mlib_demo/lib/python3.7/site-packages/sklearn/metrics/classification.py:1143: UndefinedMetricWarning: F-score is ill-defined and being set to 0.0 in labels with no predicted samples.\n",
      "  'precision', 'predicted', average, warn_for)\n",
      "/usr/local/anaconda3/envs/mlib_demo/lib/python3.7/site-packages/sklearn/svm/base.py:196: FutureWarning: The default value of gamma will change from 'auto' to 'scale' in version 0.22 to account better for unscaled features. Set gamma explicitly to 'auto' or 'scale' to avoid this warning.\n",
      "  \"avoid this warning.\", FutureWarning)\n",
      "/usr/local/anaconda3/envs/mlib_demo/lib/python3.7/site-packages/sklearn/metrics/classification.py:1143: UndefinedMetricWarning: F-score is ill-defined and being set to 0.0 in labels with no predicted samples.\n",
      "  'precision', 'predicted', average, warn_for)\n",
      "/usr/local/anaconda3/envs/mlib_demo/lib/python3.7/site-packages/sklearn/metrics/classification.py:1143: UndefinedMetricWarning: F-score is ill-defined and being set to 0.0 in labels with no predicted samples.\n",
      "  'precision', 'predicted', average, warn_for)\n",
      "/usr/local/anaconda3/envs/mlib_demo/lib/python3.7/site-packages/sklearn/svm/base.py:196: FutureWarning: The default value of gamma will change from 'auto' to 'scale' in version 0.22 to account better for unscaled features. Set gamma explicitly to 'auto' or 'scale' to avoid this warning.\n",
      "  \"avoid this warning.\", FutureWarning)\n"
     ]
    },
    {
     "name": "stderr",
     "output_type": "stream",
     "text": [
      "/usr/local/anaconda3/envs/mlib_demo/lib/python3.7/site-packages/sklearn/metrics/classification.py:1143: UndefinedMetricWarning: F-score is ill-defined and being set to 0.0 in labels with no predicted samples.\n",
      "  'precision', 'predicted', average, warn_for)\n",
      "/usr/local/anaconda3/envs/mlib_demo/lib/python3.7/site-packages/sklearn/metrics/classification.py:1143: UndefinedMetricWarning: F-score is ill-defined and being set to 0.0 in labels with no predicted samples.\n",
      "  'precision', 'predicted', average, warn_for)\n",
      "/usr/local/anaconda3/envs/mlib_demo/lib/python3.7/site-packages/sklearn/svm/base.py:196: FutureWarning: The default value of gamma will change from 'auto' to 'scale' in version 0.22 to account better for unscaled features. Set gamma explicitly to 'auto' or 'scale' to avoid this warning.\n",
      "  \"avoid this warning.\", FutureWarning)\n",
      "/usr/local/anaconda3/envs/mlib_demo/lib/python3.7/site-packages/sklearn/metrics/classification.py:1143: UndefinedMetricWarning: F-score is ill-defined and being set to 0.0 in labels with no predicted samples.\n",
      "  'precision', 'predicted', average, warn_for)\n",
      "/usr/local/anaconda3/envs/mlib_demo/lib/python3.7/site-packages/sklearn/metrics/classification.py:1143: UndefinedMetricWarning: F-score is ill-defined and being set to 0.0 in labels with no predicted samples.\n",
      "  'precision', 'predicted', average, warn_for)\n",
      "/usr/local/anaconda3/envs/mlib_demo/lib/python3.7/site-packages/sklearn/svm/base.py:196: FutureWarning: The default value of gamma will change from 'auto' to 'scale' in version 0.22 to account better for unscaled features. Set gamma explicitly to 'auto' or 'scale' to avoid this warning.\n",
      "  \"avoid this warning.\", FutureWarning)\n",
      "/usr/local/anaconda3/envs/mlib_demo/lib/python3.7/site-packages/sklearn/metrics/classification.py:1143: UndefinedMetricWarning: F-score is ill-defined and being set to 0.0 in labels with no predicted samples.\n",
      "  'precision', 'predicted', average, warn_for)\n",
      "/usr/local/anaconda3/envs/mlib_demo/lib/python3.7/site-packages/sklearn/metrics/classification.py:1143: UndefinedMetricWarning: F-score is ill-defined and being set to 0.0 in labels with no predicted samples.\n",
      "  'precision', 'predicted', average, warn_for)\n",
      "/usr/local/anaconda3/envs/mlib_demo/lib/python3.7/site-packages/sklearn/svm/base.py:196: FutureWarning: The default value of gamma will change from 'auto' to 'scale' in version 0.22 to account better for unscaled features. Set gamma explicitly to 'auto' or 'scale' to avoid this warning.\n",
      "  \"avoid this warning.\", FutureWarning)\n",
      "/usr/local/anaconda3/envs/mlib_demo/lib/python3.7/site-packages/sklearn/metrics/classification.py:1143: UndefinedMetricWarning: F-score is ill-defined and being set to 0.0 in labels with no predicted samples.\n",
      "  'precision', 'predicted', average, warn_for)\n",
      "/usr/local/anaconda3/envs/mlib_demo/lib/python3.7/site-packages/sklearn/metrics/classification.py:1143: UndefinedMetricWarning: F-score is ill-defined and being set to 0.0 in labels with no predicted samples.\n",
      "  'precision', 'predicted', average, warn_for)\n",
      "/usr/local/anaconda3/envs/mlib_demo/lib/python3.7/site-packages/sklearn/svm/base.py:196: FutureWarning: The default value of gamma will change from 'auto' to 'scale' in version 0.22 to account better for unscaled features. Set gamma explicitly to 'auto' or 'scale' to avoid this warning.\n",
      "  \"avoid this warning.\", FutureWarning)\n",
      "/usr/local/anaconda3/envs/mlib_demo/lib/python3.7/site-packages/sklearn/metrics/classification.py:1143: UndefinedMetricWarning: F-score is ill-defined and being set to 0.0 in labels with no predicted samples.\n",
      "  'precision', 'predicted', average, warn_for)\n",
      "/usr/local/anaconda3/envs/mlib_demo/lib/python3.7/site-packages/sklearn/metrics/classification.py:1143: UndefinedMetricWarning: F-score is ill-defined and being set to 0.0 in labels with no predicted samples.\n",
      "  'precision', 'predicted', average, warn_for)\n",
      "/usr/local/anaconda3/envs/mlib_demo/lib/python3.7/site-packages/sklearn/svm/base.py:196: FutureWarning: The default value of gamma will change from 'auto' to 'scale' in version 0.22 to account better for unscaled features. Set gamma explicitly to 'auto' or 'scale' to avoid this warning.\n",
      "  \"avoid this warning.\", FutureWarning)\n",
      "/usr/local/anaconda3/envs/mlib_demo/lib/python3.7/site-packages/sklearn/metrics/classification.py:1143: UndefinedMetricWarning: F-score is ill-defined and being set to 0.0 in labels with no predicted samples.\n",
      "  'precision', 'predicted', average, warn_for)\n",
      "/usr/local/anaconda3/envs/mlib_demo/lib/python3.7/site-packages/sklearn/metrics/classification.py:1143: UndefinedMetricWarning: F-score is ill-defined and being set to 0.0 in labels with no predicted samples.\n",
      "  'precision', 'predicted', average, warn_for)\n",
      "/usr/local/anaconda3/envs/mlib_demo/lib/python3.7/site-packages/sklearn/svm/base.py:196: FutureWarning: The default value of gamma will change from 'auto' to 'scale' in version 0.22 to account better for unscaled features. Set gamma explicitly to 'auto' or 'scale' to avoid this warning.\n",
      "  \"avoid this warning.\", FutureWarning)\n",
      "/usr/local/anaconda3/envs/mlib_demo/lib/python3.7/site-packages/sklearn/metrics/classification.py:1143: UndefinedMetricWarning: F-score is ill-defined and being set to 0.0 in labels with no predicted samples.\n",
      "  'precision', 'predicted', average, warn_for)\n",
      "/usr/local/anaconda3/envs/mlib_demo/lib/python3.7/site-packages/sklearn/metrics/classification.py:1143: UndefinedMetricWarning: F-score is ill-defined and being set to 0.0 in labels with no predicted samples.\n",
      "  'precision', 'predicted', average, warn_for)\n",
      "/usr/local/anaconda3/envs/mlib_demo/lib/python3.7/site-packages/sklearn/svm/base.py:196: FutureWarning: The default value of gamma will change from 'auto' to 'scale' in version 0.22 to account better for unscaled features. Set gamma explicitly to 'auto' or 'scale' to avoid this warning.\n",
      "  \"avoid this warning.\", FutureWarning)\n",
      "/usr/local/anaconda3/envs/mlib_demo/lib/python3.7/site-packages/sklearn/metrics/classification.py:1143: UndefinedMetricWarning: F-score is ill-defined and being set to 0.0 in labels with no predicted samples.\n",
      "  'precision', 'predicted', average, warn_for)\n",
      "/usr/local/anaconda3/envs/mlib_demo/lib/python3.7/site-packages/sklearn/metrics/classification.py:1143: UndefinedMetricWarning: F-score is ill-defined and being set to 0.0 in labels with no predicted samples.\n",
      "  'precision', 'predicted', average, warn_for)\n",
      "/usr/local/anaconda3/envs/mlib_demo/lib/python3.7/site-packages/sklearn/svm/base.py:196: FutureWarning: The default value of gamma will change from 'auto' to 'scale' in version 0.22 to account better for unscaled features. Set gamma explicitly to 'auto' or 'scale' to avoid this warning.\n",
      "  \"avoid this warning.\", FutureWarning)\n",
      "/usr/local/anaconda3/envs/mlib_demo/lib/python3.7/site-packages/sklearn/metrics/classification.py:1143: UndefinedMetricWarning: F-score is ill-defined and being set to 0.0 in labels with no predicted samples.\n",
      "  'precision', 'predicted', average, warn_for)\n",
      "/usr/local/anaconda3/envs/mlib_demo/lib/python3.7/site-packages/sklearn/svm/base.py:196: FutureWarning: The default value of gamma will change from 'auto' to 'scale' in version 0.22 to account better for unscaled features. Set gamma explicitly to 'auto' or 'scale' to avoid this warning.\n",
      "  \"avoid this warning.\", FutureWarning)\n",
      "/usr/local/anaconda3/envs/mlib_demo/lib/python3.7/site-packages/sklearn/svm/base.py:196: FutureWarning: The default value of gamma will change from 'auto' to 'scale' in version 0.22 to account better for unscaled features. Set gamma explicitly to 'auto' or 'scale' to avoid this warning.\n",
      "  \"avoid this warning.\", FutureWarning)\n",
      "/usr/local/anaconda3/envs/mlib_demo/lib/python3.7/site-packages/sklearn/svm/base.py:196: FutureWarning: The default value of gamma will change from 'auto' to 'scale' in version 0.22 to account better for unscaled features. Set gamma explicitly to 'auto' or 'scale' to avoid this warning.\n",
      "  \"avoid this warning.\", FutureWarning)\n",
      "/usr/local/anaconda3/envs/mlib_demo/lib/python3.7/site-packages/sklearn/metrics/classification.py:1143: UndefinedMetricWarning: F-score is ill-defined and being set to 0.0 in labels with no predicted samples.\n",
      "  'precision', 'predicted', average, warn_for)\n"
     ]
    },
    {
     "name": "stderr",
     "output_type": "stream",
     "text": [
      "/usr/local/anaconda3/envs/mlib_demo/lib/python3.7/site-packages/sklearn/svm/base.py:196: FutureWarning: The default value of gamma will change from 'auto' to 'scale' in version 0.22 to account better for unscaled features. Set gamma explicitly to 'auto' or 'scale' to avoid this warning.\n",
      "  \"avoid this warning.\", FutureWarning)\n",
      "/usr/local/anaconda3/envs/mlib_demo/lib/python3.7/site-packages/sklearn/metrics/classification.py:1143: UndefinedMetricWarning: F-score is ill-defined and being set to 0.0 in labels with no predicted samples.\n",
      "  'precision', 'predicted', average, warn_for)\n",
      "/usr/local/anaconda3/envs/mlib_demo/lib/python3.7/site-packages/sklearn/svm/base.py:196: FutureWarning: The default value of gamma will change from 'auto' to 'scale' in version 0.22 to account better for unscaled features. Set gamma explicitly to 'auto' or 'scale' to avoid this warning.\n",
      "  \"avoid this warning.\", FutureWarning)\n",
      "/usr/local/anaconda3/envs/mlib_demo/lib/python3.7/site-packages/sklearn/metrics/classification.py:1143: UndefinedMetricWarning: F-score is ill-defined and being set to 0.0 in labels with no predicted samples.\n",
      "  'precision', 'predicted', average, warn_for)\n",
      "/usr/local/anaconda3/envs/mlib_demo/lib/python3.7/site-packages/sklearn/svm/base.py:196: FutureWarning: The default value of gamma will change from 'auto' to 'scale' in version 0.22 to account better for unscaled features. Set gamma explicitly to 'auto' or 'scale' to avoid this warning.\n",
      "  \"avoid this warning.\", FutureWarning)\n",
      "/usr/local/anaconda3/envs/mlib_demo/lib/python3.7/site-packages/sklearn/svm/base.py:196: FutureWarning: The default value of gamma will change from 'auto' to 'scale' in version 0.22 to account better for unscaled features. Set gamma explicitly to 'auto' or 'scale' to avoid this warning.\n",
      "  \"avoid this warning.\", FutureWarning)\n",
      "/usr/local/anaconda3/envs/mlib_demo/lib/python3.7/site-packages/sklearn/svm/base.py:196: FutureWarning: The default value of gamma will change from 'auto' to 'scale' in version 0.22 to account better for unscaled features. Set gamma explicitly to 'auto' or 'scale' to avoid this warning.\n",
      "  \"avoid this warning.\", FutureWarning)\n",
      "/usr/local/anaconda3/envs/mlib_demo/lib/python3.7/site-packages/sklearn/svm/base.py:196: FutureWarning: The default value of gamma will change from 'auto' to 'scale' in version 0.22 to account better for unscaled features. Set gamma explicitly to 'auto' or 'scale' to avoid this warning.\n",
      "  \"avoid this warning.\", FutureWarning)\n",
      "/usr/local/anaconda3/envs/mlib_demo/lib/python3.7/site-packages/sklearn/svm/base.py:196: FutureWarning: The default value of gamma will change from 'auto' to 'scale' in version 0.22 to account better for unscaled features. Set gamma explicitly to 'auto' or 'scale' to avoid this warning.\n",
      "  \"avoid this warning.\", FutureWarning)\n",
      "/usr/local/anaconda3/envs/mlib_demo/lib/python3.7/site-packages/sklearn/svm/base.py:196: FutureWarning: The default value of gamma will change from 'auto' to 'scale' in version 0.22 to account better for unscaled features. Set gamma explicitly to 'auto' or 'scale' to avoid this warning.\n",
      "  \"avoid this warning.\", FutureWarning)\n"
     ]
    },
    {
     "name": "stdout",
     "output_type": "stream",
     "text": [
      "{'C': 10}\n",
      "best score: 0.483968\n"
     ]
    }
   ],
   "source": [
    "param_grid = {'C': [0.001, 0.01, 0.1, 1, 10]}\n",
    "gs = GridSearchCV(SVC(), \n",
    "             param_grid=param_grid, scoring=\"f1_macro\", cv=6)\n",
    "gs = gs.fit(X_resample, y_resample)\n",
    "print(gs.best_params_)\n",
    "print('best score: {:3f}'.format(gs.best_score_))"
   ]
  },
  {
   "cell_type": "code",
   "execution_count": 59,
   "metadata": {},
   "outputs": [
    {
     "name": "stderr",
     "output_type": "stream",
     "text": [
      "/usr/local/anaconda3/envs/mlib_demo/lib/python3.7/site-packages/sklearn/svm/base.py:196: FutureWarning: The default value of gamma will change from 'auto' to 'scale' in version 0.22 to account better for unscaled features. Set gamma explicitly to 'auto' or 'scale' to avoid this warning.\n",
      "  \"avoid this warning.\", FutureWarning)\n",
      "/usr/local/anaconda3/envs/mlib_demo/lib/python3.7/site-packages/sklearn/svm/base.py:196: FutureWarning: The default value of gamma will change from 'auto' to 'scale' in version 0.22 to account better for unscaled features. Set gamma explicitly to 'auto' or 'scale' to avoid this warning.\n",
      "  \"avoid this warning.\", FutureWarning)\n",
      "/usr/local/anaconda3/envs/mlib_demo/lib/python3.7/site-packages/sklearn/svm/base.py:196: FutureWarning: The default value of gamma will change from 'auto' to 'scale' in version 0.22 to account better for unscaled features. Set gamma explicitly to 'auto' or 'scale' to avoid this warning.\n",
      "  \"avoid this warning.\", FutureWarning)\n",
      "/usr/local/anaconda3/envs/mlib_demo/lib/python3.7/site-packages/sklearn/svm/base.py:196: FutureWarning: The default value of gamma will change from 'auto' to 'scale' in version 0.22 to account better for unscaled features. Set gamma explicitly to 'auto' or 'scale' to avoid this warning.\n",
      "  \"avoid this warning.\", FutureWarning)\n",
      "/usr/local/anaconda3/envs/mlib_demo/lib/python3.7/site-packages/sklearn/svm/base.py:196: FutureWarning: The default value of gamma will change from 'auto' to 'scale' in version 0.22 to account better for unscaled features. Set gamma explicitly to 'auto' or 'scale' to avoid this warning.\n",
      "  \"avoid this warning.\", FutureWarning)\n",
      "/usr/local/anaconda3/envs/mlib_demo/lib/python3.7/site-packages/sklearn/svm/base.py:196: FutureWarning: The default value of gamma will change from 'auto' to 'scale' in version 0.22 to account better for unscaled features. Set gamma explicitly to 'auto' or 'scale' to avoid this warning.\n",
      "  \"avoid this warning.\", FutureWarning)\n",
      "/usr/local/anaconda3/envs/mlib_demo/lib/python3.7/site-packages/sklearn/svm/base.py:196: FutureWarning: The default value of gamma will change from 'auto' to 'scale' in version 0.22 to account better for unscaled features. Set gamma explicitly to 'auto' or 'scale' to avoid this warning.\n",
      "  \"avoid this warning.\", FutureWarning)\n",
      "/usr/local/anaconda3/envs/mlib_demo/lib/python3.7/site-packages/sklearn/svm/base.py:196: FutureWarning: The default value of gamma will change from 'auto' to 'scale' in version 0.22 to account better for unscaled features. Set gamma explicitly to 'auto' or 'scale' to avoid this warning.\n",
      "  \"avoid this warning.\", FutureWarning)\n",
      "/usr/local/anaconda3/envs/mlib_demo/lib/python3.7/site-packages/sklearn/svm/base.py:196: FutureWarning: The default value of gamma will change from 'auto' to 'scale' in version 0.22 to account better for unscaled features. Set gamma explicitly to 'auto' or 'scale' to avoid this warning.\n",
      "  \"avoid this warning.\", FutureWarning)\n",
      "/usr/local/anaconda3/envs/mlib_demo/lib/python3.7/site-packages/sklearn/svm/base.py:196: FutureWarning: The default value of gamma will change from 'auto' to 'scale' in version 0.22 to account better for unscaled features. Set gamma explicitly to 'auto' or 'scale' to avoid this warning.\n",
      "  \"avoid this warning.\", FutureWarning)\n",
      "/usr/local/anaconda3/envs/mlib_demo/lib/python3.7/site-packages/sklearn/svm/base.py:196: FutureWarning: The default value of gamma will change from 'auto' to 'scale' in version 0.22 to account better for unscaled features. Set gamma explicitly to 'auto' or 'scale' to avoid this warning.\n",
      "  \"avoid this warning.\", FutureWarning)\n",
      "/usr/local/anaconda3/envs/mlib_demo/lib/python3.7/site-packages/sklearn/svm/base.py:196: FutureWarning: The default value of gamma will change from 'auto' to 'scale' in version 0.22 to account better for unscaled features. Set gamma explicitly to 'auto' or 'scale' to avoid this warning.\n",
      "  \"avoid this warning.\", FutureWarning)\n",
      "/usr/local/anaconda3/envs/mlib_demo/lib/python3.7/site-packages/sklearn/svm/base.py:196: FutureWarning: The default value of gamma will change from 'auto' to 'scale' in version 0.22 to account better for unscaled features. Set gamma explicitly to 'auto' or 'scale' to avoid this warning.\n",
      "  \"avoid this warning.\", FutureWarning)\n",
      "/usr/local/anaconda3/envs/mlib_demo/lib/python3.7/site-packages/sklearn/svm/base.py:196: FutureWarning: The default value of gamma will change from 'auto' to 'scale' in version 0.22 to account better for unscaled features. Set gamma explicitly to 'auto' or 'scale' to avoid this warning.\n",
      "  \"avoid this warning.\", FutureWarning)\n",
      "/usr/local/anaconda3/envs/mlib_demo/lib/python3.7/site-packages/sklearn/svm/base.py:196: FutureWarning: The default value of gamma will change from 'auto' to 'scale' in version 0.22 to account better for unscaled features. Set gamma explicitly to 'auto' or 'scale' to avoid this warning.\n",
      "  \"avoid this warning.\", FutureWarning)\n",
      "/usr/local/anaconda3/envs/mlib_demo/lib/python3.7/site-packages/sklearn/svm/base.py:196: FutureWarning: The default value of gamma will change from 'auto' to 'scale' in version 0.22 to account better for unscaled features. Set gamma explicitly to 'auto' or 'scale' to avoid this warning.\n",
      "  \"avoid this warning.\", FutureWarning)\n",
      "/usr/local/anaconda3/envs/mlib_demo/lib/python3.7/site-packages/sklearn/svm/base.py:196: FutureWarning: The default value of gamma will change from 'auto' to 'scale' in version 0.22 to account better for unscaled features. Set gamma explicitly to 'auto' or 'scale' to avoid this warning.\n",
      "  \"avoid this warning.\", FutureWarning)\n",
      "/usr/local/anaconda3/envs/mlib_demo/lib/python3.7/site-packages/sklearn/svm/base.py:196: FutureWarning: The default value of gamma will change from 'auto' to 'scale' in version 0.22 to account better for unscaled features. Set gamma explicitly to 'auto' or 'scale' to avoid this warning.\n",
      "  \"avoid this warning.\", FutureWarning)\n",
      "/usr/local/anaconda3/envs/mlib_demo/lib/python3.7/site-packages/sklearn/svm/base.py:196: FutureWarning: The default value of gamma will change from 'auto' to 'scale' in version 0.22 to account better for unscaled features. Set gamma explicitly to 'auto' or 'scale' to avoid this warning.\n",
      "  \"avoid this warning.\", FutureWarning)\n",
      "/usr/local/anaconda3/envs/mlib_demo/lib/python3.7/site-packages/sklearn/svm/base.py:196: FutureWarning: The default value of gamma will change from 'auto' to 'scale' in version 0.22 to account better for unscaled features. Set gamma explicitly to 'auto' or 'scale' to avoid this warning.\n",
      "  \"avoid this warning.\", FutureWarning)\n",
      "/usr/local/anaconda3/envs/mlib_demo/lib/python3.7/site-packages/sklearn/svm/base.py:196: FutureWarning: The default value of gamma will change from 'auto' to 'scale' in version 0.22 to account better for unscaled features. Set gamma explicitly to 'auto' or 'scale' to avoid this warning.\n",
      "  \"avoid this warning.\", FutureWarning)\n",
      "/usr/local/anaconda3/envs/mlib_demo/lib/python3.7/site-packages/sklearn/svm/base.py:196: FutureWarning: The default value of gamma will change from 'auto' to 'scale' in version 0.22 to account better for unscaled features. Set gamma explicitly to 'auto' or 'scale' to avoid this warning.\n",
      "  \"avoid this warning.\", FutureWarning)\n",
      "/usr/local/anaconda3/envs/mlib_demo/lib/python3.7/site-packages/sklearn/svm/base.py:196: FutureWarning: The default value of gamma will change from 'auto' to 'scale' in version 0.22 to account better for unscaled features. Set gamma explicitly to 'auto' or 'scale' to avoid this warning.\n",
      "  \"avoid this warning.\", FutureWarning)\n",
      "/usr/local/anaconda3/envs/mlib_demo/lib/python3.7/site-packages/sklearn/svm/base.py:196: FutureWarning: The default value of gamma will change from 'auto' to 'scale' in version 0.22 to account better for unscaled features. Set gamma explicitly to 'auto' or 'scale' to avoid this warning.\n",
      "  \"avoid this warning.\", FutureWarning)\n",
      "/usr/local/anaconda3/envs/mlib_demo/lib/python3.7/site-packages/sklearn/svm/base.py:196: FutureWarning: The default value of gamma will change from 'auto' to 'scale' in version 0.22 to account better for unscaled features. Set gamma explicitly to 'auto' or 'scale' to avoid this warning.\n",
      "  \"avoid this warning.\", FutureWarning)\n"
     ]
    },
    {
     "name": "stderr",
     "output_type": "stream",
     "text": [
      "/usr/local/anaconda3/envs/mlib_demo/lib/python3.7/site-packages/sklearn/svm/base.py:196: FutureWarning: The default value of gamma will change from 'auto' to 'scale' in version 0.22 to account better for unscaled features. Set gamma explicitly to 'auto' or 'scale' to avoid this warning.\n",
      "  \"avoid this warning.\", FutureWarning)\n",
      "/usr/local/anaconda3/envs/mlib_demo/lib/python3.7/site-packages/sklearn/svm/base.py:196: FutureWarning: The default value of gamma will change from 'auto' to 'scale' in version 0.22 to account better for unscaled features. Set gamma explicitly to 'auto' or 'scale' to avoid this warning.\n",
      "  \"avoid this warning.\", FutureWarning)\n",
      "/usr/local/anaconda3/envs/mlib_demo/lib/python3.7/site-packages/sklearn/svm/base.py:196: FutureWarning: The default value of gamma will change from 'auto' to 'scale' in version 0.22 to account better for unscaled features. Set gamma explicitly to 'auto' or 'scale' to avoid this warning.\n",
      "  \"avoid this warning.\", FutureWarning)\n",
      "/usr/local/anaconda3/envs/mlib_demo/lib/python3.7/site-packages/sklearn/svm/base.py:196: FutureWarning: The default value of gamma will change from 'auto' to 'scale' in version 0.22 to account better for unscaled features. Set gamma explicitly to 'auto' or 'scale' to avoid this warning.\n",
      "  \"avoid this warning.\", FutureWarning)\n",
      "/usr/local/anaconda3/envs/mlib_demo/lib/python3.7/site-packages/sklearn/svm/base.py:196: FutureWarning: The default value of gamma will change from 'auto' to 'scale' in version 0.22 to account better for unscaled features. Set gamma explicitly to 'auto' or 'scale' to avoid this warning.\n",
      "  \"avoid this warning.\", FutureWarning)\n",
      "/usr/local/anaconda3/envs/mlib_demo/lib/python3.7/site-packages/sklearn/svm/base.py:196: FutureWarning: The default value of gamma will change from 'auto' to 'scale' in version 0.22 to account better for unscaled features. Set gamma explicitly to 'auto' or 'scale' to avoid this warning.\n",
      "  \"avoid this warning.\", FutureWarning)\n",
      "/usr/local/anaconda3/envs/mlib_demo/lib/python3.7/site-packages/sklearn/svm/base.py:196: FutureWarning: The default value of gamma will change from 'auto' to 'scale' in version 0.22 to account better for unscaled features. Set gamma explicitly to 'auto' or 'scale' to avoid this warning.\n",
      "  \"avoid this warning.\", FutureWarning)\n",
      "/usr/local/anaconda3/envs/mlib_demo/lib/python3.7/site-packages/sklearn/svm/base.py:196: FutureWarning: The default value of gamma will change from 'auto' to 'scale' in version 0.22 to account better for unscaled features. Set gamma explicitly to 'auto' or 'scale' to avoid this warning.\n",
      "  \"avoid this warning.\", FutureWarning)\n",
      "/usr/local/anaconda3/envs/mlib_demo/lib/python3.7/site-packages/sklearn/svm/base.py:196: FutureWarning: The default value of gamma will change from 'auto' to 'scale' in version 0.22 to account better for unscaled features. Set gamma explicitly to 'auto' or 'scale' to avoid this warning.\n",
      "  \"avoid this warning.\", FutureWarning)\n",
      "/usr/local/anaconda3/envs/mlib_demo/lib/python3.7/site-packages/sklearn/svm/base.py:196: FutureWarning: The default value of gamma will change from 'auto' to 'scale' in version 0.22 to account better for unscaled features. Set gamma explicitly to 'auto' or 'scale' to avoid this warning.\n",
      "  \"avoid this warning.\", FutureWarning)\n",
      "/usr/local/anaconda3/envs/mlib_demo/lib/python3.7/site-packages/sklearn/svm/base.py:196: FutureWarning: The default value of gamma will change from 'auto' to 'scale' in version 0.22 to account better for unscaled features. Set gamma explicitly to 'auto' or 'scale' to avoid this warning.\n",
      "  \"avoid this warning.\", FutureWarning)\n",
      "/usr/local/anaconda3/envs/mlib_demo/lib/python3.7/site-packages/sklearn/svm/base.py:196: FutureWarning: The default value of gamma will change from 'auto' to 'scale' in version 0.22 to account better for unscaled features. Set gamma explicitly to 'auto' or 'scale' to avoid this warning.\n",
      "  \"avoid this warning.\", FutureWarning)\n",
      "/usr/local/anaconda3/envs/mlib_demo/lib/python3.7/site-packages/sklearn/svm/base.py:196: FutureWarning: The default value of gamma will change from 'auto' to 'scale' in version 0.22 to account better for unscaled features. Set gamma explicitly to 'auto' or 'scale' to avoid this warning.\n",
      "  \"avoid this warning.\", FutureWarning)\n",
      "/usr/local/anaconda3/envs/mlib_demo/lib/python3.7/site-packages/sklearn/svm/base.py:196: FutureWarning: The default value of gamma will change from 'auto' to 'scale' in version 0.22 to account better for unscaled features. Set gamma explicitly to 'auto' or 'scale' to avoid this warning.\n",
      "  \"avoid this warning.\", FutureWarning)\n",
      "/usr/local/anaconda3/envs/mlib_demo/lib/python3.7/site-packages/sklearn/svm/base.py:196: FutureWarning: The default value of gamma will change from 'auto' to 'scale' in version 0.22 to account better for unscaled features. Set gamma explicitly to 'auto' or 'scale' to avoid this warning.\n",
      "  \"avoid this warning.\", FutureWarning)\n",
      "/usr/local/anaconda3/envs/mlib_demo/lib/python3.7/site-packages/sklearn/svm/base.py:196: FutureWarning: The default value of gamma will change from 'auto' to 'scale' in version 0.22 to account better for unscaled features. Set gamma explicitly to 'auto' or 'scale' to avoid this warning.\n",
      "  \"avoid this warning.\", FutureWarning)\n",
      "/usr/local/anaconda3/envs/mlib_demo/lib/python3.7/site-packages/sklearn/svm/base.py:196: FutureWarning: The default value of gamma will change from 'auto' to 'scale' in version 0.22 to account better for unscaled features. Set gamma explicitly to 'auto' or 'scale' to avoid this warning.\n",
      "  \"avoid this warning.\", FutureWarning)\n",
      "/usr/local/anaconda3/envs/mlib_demo/lib/python3.7/site-packages/sklearn/svm/base.py:196: FutureWarning: The default value of gamma will change from 'auto' to 'scale' in version 0.22 to account better for unscaled features. Set gamma explicitly to 'auto' or 'scale' to avoid this warning.\n",
      "  \"avoid this warning.\", FutureWarning)\n",
      "/usr/local/anaconda3/envs/mlib_demo/lib/python3.7/site-packages/sklearn/svm/base.py:196: FutureWarning: The default value of gamma will change from 'auto' to 'scale' in version 0.22 to account better for unscaled features. Set gamma explicitly to 'auto' or 'scale' to avoid this warning.\n",
      "  \"avoid this warning.\", FutureWarning)\n",
      "/usr/local/anaconda3/envs/mlib_demo/lib/python3.7/site-packages/sklearn/svm/base.py:196: FutureWarning: The default value of gamma will change from 'auto' to 'scale' in version 0.22 to account better for unscaled features. Set gamma explicitly to 'auto' or 'scale' to avoid this warning.\n",
      "  \"avoid this warning.\", FutureWarning)\n",
      "/usr/local/anaconda3/envs/mlib_demo/lib/python3.7/site-packages/sklearn/svm/base.py:196: FutureWarning: The default value of gamma will change from 'auto' to 'scale' in version 0.22 to account better for unscaled features. Set gamma explicitly to 'auto' or 'scale' to avoid this warning.\n",
      "  \"avoid this warning.\", FutureWarning)\n",
      "/usr/local/anaconda3/envs/mlib_demo/lib/python3.7/site-packages/sklearn/svm/base.py:196: FutureWarning: The default value of gamma will change from 'auto' to 'scale' in version 0.22 to account better for unscaled features. Set gamma explicitly to 'auto' or 'scale' to avoid this warning.\n",
      "  \"avoid this warning.\", FutureWarning)\n",
      "/usr/local/anaconda3/envs/mlib_demo/lib/python3.7/site-packages/sklearn/svm/base.py:196: FutureWarning: The default value of gamma will change from 'auto' to 'scale' in version 0.22 to account better for unscaled features. Set gamma explicitly to 'auto' or 'scale' to avoid this warning.\n",
      "  \"avoid this warning.\", FutureWarning)\n",
      "/usr/local/anaconda3/envs/mlib_demo/lib/python3.7/site-packages/sklearn/svm/base.py:196: FutureWarning: The default value of gamma will change from 'auto' to 'scale' in version 0.22 to account better for unscaled features. Set gamma explicitly to 'auto' or 'scale' to avoid this warning.\n",
      "  \"avoid this warning.\", FutureWarning)\n",
      "/usr/local/anaconda3/envs/mlib_demo/lib/python3.7/site-packages/sklearn/svm/base.py:196: FutureWarning: The default value of gamma will change from 'auto' to 'scale' in version 0.22 to account better for unscaled features. Set gamma explicitly to 'auto' or 'scale' to avoid this warning.\n",
      "  \"avoid this warning.\", FutureWarning)\n"
     ]
    },
    {
     "name": "stderr",
     "output_type": "stream",
     "text": [
      "/usr/local/anaconda3/envs/mlib_demo/lib/python3.7/site-packages/sklearn/svm/base.py:196: FutureWarning: The default value of gamma will change from 'auto' to 'scale' in version 0.22 to account better for unscaled features. Set gamma explicitly to 'auto' or 'scale' to avoid this warning.\n",
      "  \"avoid this warning.\", FutureWarning)\n",
      "/usr/local/anaconda3/envs/mlib_demo/lib/python3.7/site-packages/sklearn/svm/base.py:196: FutureWarning: The default value of gamma will change from 'auto' to 'scale' in version 0.22 to account better for unscaled features. Set gamma explicitly to 'auto' or 'scale' to avoid this warning.\n",
      "  \"avoid this warning.\", FutureWarning)\n",
      "/usr/local/anaconda3/envs/mlib_demo/lib/python3.7/site-packages/sklearn/svm/base.py:196: FutureWarning: The default value of gamma will change from 'auto' to 'scale' in version 0.22 to account better for unscaled features. Set gamma explicitly to 'auto' or 'scale' to avoid this warning.\n",
      "  \"avoid this warning.\", FutureWarning)\n",
      "/usr/local/anaconda3/envs/mlib_demo/lib/python3.7/site-packages/sklearn/svm/base.py:196: FutureWarning: The default value of gamma will change from 'auto' to 'scale' in version 0.22 to account better for unscaled features. Set gamma explicitly to 'auto' or 'scale' to avoid this warning.\n",
      "  \"avoid this warning.\", FutureWarning)\n",
      "/usr/local/anaconda3/envs/mlib_demo/lib/python3.7/site-packages/sklearn/svm/base.py:196: FutureWarning: The default value of gamma will change from 'auto' to 'scale' in version 0.22 to account better for unscaled features. Set gamma explicitly to 'auto' or 'scale' to avoid this warning.\n",
      "  \"avoid this warning.\", FutureWarning)\n",
      "/usr/local/anaconda3/envs/mlib_demo/lib/python3.7/site-packages/sklearn/svm/base.py:196: FutureWarning: The default value of gamma will change from 'auto' to 'scale' in version 0.22 to account better for unscaled features. Set gamma explicitly to 'auto' or 'scale' to avoid this warning.\n",
      "  \"avoid this warning.\", FutureWarning)\n",
      "/usr/local/anaconda3/envs/mlib_demo/lib/python3.7/site-packages/sklearn/svm/base.py:196: FutureWarning: The default value of gamma will change from 'auto' to 'scale' in version 0.22 to account better for unscaled features. Set gamma explicitly to 'auto' or 'scale' to avoid this warning.\n",
      "  \"avoid this warning.\", FutureWarning)\n",
      "/usr/local/anaconda3/envs/mlib_demo/lib/python3.7/site-packages/sklearn/svm/base.py:196: FutureWarning: The default value of gamma will change from 'auto' to 'scale' in version 0.22 to account better for unscaled features. Set gamma explicitly to 'auto' or 'scale' to avoid this warning.\n",
      "  \"avoid this warning.\", FutureWarning)\n",
      "/usr/local/anaconda3/envs/mlib_demo/lib/python3.7/site-packages/sklearn/svm/base.py:196: FutureWarning: The default value of gamma will change from 'auto' to 'scale' in version 0.22 to account better for unscaled features. Set gamma explicitly to 'auto' or 'scale' to avoid this warning.\n",
      "  \"avoid this warning.\", FutureWarning)\n",
      "/usr/local/anaconda3/envs/mlib_demo/lib/python3.7/site-packages/sklearn/svm/base.py:196: FutureWarning: The default value of gamma will change from 'auto' to 'scale' in version 0.22 to account better for unscaled features. Set gamma explicitly to 'auto' or 'scale' to avoid this warning.\n",
      "  \"avoid this warning.\", FutureWarning)\n",
      "/usr/local/anaconda3/envs/mlib_demo/lib/python3.7/site-packages/sklearn/svm/base.py:196: FutureWarning: The default value of gamma will change from 'auto' to 'scale' in version 0.22 to account better for unscaled features. Set gamma explicitly to 'auto' or 'scale' to avoid this warning.\n",
      "  \"avoid this warning.\", FutureWarning)\n"
     ]
    },
    {
     "name": "stdout",
     "output_type": "stream",
     "text": [
      "{'C': 1, 'kernel': 'poly'}\n",
      "best score: 0.742397\n"
     ]
    },
    {
     "data": {
      "image/png": "[encoded data removed]",
      "text/plain": [
       "<Figure size 432x288 with 1 Axes>"
      ]
     },
     "metadata": {
      "needs_background": "light"
     },
     "output_type": "display_data"
    }
   ],
   "source": [
    "param_grid = {'C': [0.001, 0.01, 0.1, 1, 10], 'kernel' : ['linear', 'poly', 'rbf', 'sigmoid']}\n",
    "gs = GridSearchCV(SVC(), \n",
    "             param_grid=param_grid, scoring=\"f1_macro\", cv=4)\n",
    "gs = gs.fit(X_resample, y_resample)\n",
    "print(gs.best_params_)\n",
    "print('best score: {:3f}'.format(gs.best_score_))"
   ]
  },
  {
   "cell_type": "code",
   "execution_count": 84,
   "metadata": {
    "_cell_guid": "97fea240-af1b-4ff6-9c26-cba95893f716",
    "_uuid": "07101c67ede001934f74bd1d79d185d10227357f"
   },
   "outputs": [
    {
     "name": "stdout",
     "output_type": "stream",
     "text": [
      "{'activation': 'relu', 'alpha': 0.01, 'learning_rate': 'adaptive', 'tol': 0.01}\n",
      "best score: 0.759551\n"
     ]
    }
   ],
   "source": [
    "param_grid = {'activation': ['relu', 'logistic', 'tanh'],\n",
    "              'alpha': [0.0001, 0.001, 0.01],\n",
    "              'learning_rate': ['constant', 'invscaling', 'adaptive'], 'tol': [0.01]}\n",
    "gs = GridSearchCV(MLPClassifier(), \n",
    "             param_grid=param_grid, scoring=\"f1_macro\", cv=4)\n",
    "gs = gs.fit(X_resample, y_resample)\n",
    "print(gs.best_params_)\n",
    "print('best score: {:3f}'.format(gs.best_score_))"
   ]
  },
  {
   "cell_type": "code",
   "execution_count": 86,
   "metadata": {},
   "outputs": [
    {
     "name": "stdout",
     "output_type": "stream",
     "text": [
      "[0 2 0 1 2 1 1 0 0 0]\n",
      "[0 2 0 1 2 1 1 2 0 1]\n",
      "Precision score: 0.755548\n",
      "Recall score: 0.754169\n",
      "F1 score: 0.752369\n",
      "              precision    recall  f1-score   support\n",
      "\n",
      "           0       0.70      0.74      0.72       238\n",
      "           1       0.78      0.66      0.72       239\n",
      "           2       0.78      0.86      0.82       239\n",
      "\n",
      "   micro avg       0.75      0.75      0.75       716\n",
      "   macro avg       0.76      0.75      0.75       716\n",
      "weighted avg       0.76      0.75      0.75       716\n",
      "\n",
      "Confusion Metric : [[176  32  30]\n",
      " [ 54 158  27]\n",
      " [ 21  12 206]]\n"
     ]
    }
   ],
   "source": [
    "mlp = MLPClassifier(activation='relu', alpha=0.01, learning_rate= 'adaptive', tol= 0.01).fit(X_train, y_train)\n",
    "print_scores(mlp, X_train, y_train, X_test, y_test)"
   ]
  },
  {
   "cell_type": "markdown",
   "metadata": {
    "_cell_guid": "8694f75e-e61c-4531-9ba5-f03e71d2f6fc",
    "_uuid": "d334ba38a1b82341518a7e1e000849734762a23a"
   },
   "source": [
    "First lets try clustering using KMeans, to see if that improves the score."
   ]
  },
  {
   "cell_type": "code",
   "execution_count": 88,
   "metadata": {
    "_cell_guid": "29907a4d-89c4-48e9-99ef-0657c974f51f",
    "_uuid": "df4b041c5ad8531dbe822e91a4c76fbe5701bfe5"
   },
   "outputs": [],
   "source": [
    "from sklearn.cluster import KMeans"
   ]
  },
  {
   "cell_type": "code",
   "execution_count": 89,
   "metadata": {
    "_cell_guid": "faf51792-b002-4bfe-8e2d-f2b7a23708f2",
    "_uuid": "ebcfb1e3321d737e183dbc5abb10cd2f80fa7051"
   },
   "outputs": [],
   "source": [
    "X_transform_cluster = KMeans(n_clusters=10).fit_transform(X_transform, y[:150000])"
   ]
  },
  {
   "cell_type": "code",
   "execution_count": 90,
   "metadata": {
    "_cell_guid": "aa7581cf-87c6-490a-a4f9-88586e2b3f18",
    "_uuid": "ca19ab7fe62cc183d03cc55a5f1ecf47d58a4fa5"
   },
   "outputs": [],
   "source": [
    "rus = RandomUnderSampler(random_state=0)\n",
    "X_resample_cluster, y_resample_cluster = rus.fit_sample(X_transform_cluster, y[:X_transform_cluster.shape[0]])"
   ]
  },
  {
   "cell_type": "code",
   "execution_count": 91,
   "metadata": {
    "_cell_guid": "5073be21-53b0-4038-afbb-5f58a393884e",
    "_uuid": "a4e62268f0348f9a5726396a89e7ceacc6a44e25"
   },
   "outputs": [],
   "source": [
    "X_train_cluster, X_test_cluster, y_train_cluster, y_test_cluster = train_test_split(X_resample_cluster,\n",
    "                                                    y_resample_cluster, stratify=y_resample_cluster, random_state=0)"
   ]
  },
  {
   "cell_type": "code",
   "execution_count": 92,
   "metadata": {
    "_cell_guid": "865c7ade-b353-43ea-93d3-37998790eae9",
    "_uuid": "ce1ccd6d8b42c152f4277d26922d71fb750f4f5c"
   },
   "outputs": [
    {
     "name": "stdout",
     "output_type": "stream",
     "text": [
      "F1 score: 0.680699\n",
      "AUC score: 0.675909\n"
     ]
    },
    {
     "name": "stderr",
     "output_type": "stream",
     "text": [
      "/usr/local/anaconda3/envs/mlib_demo/lib/python3.7/site-packages/sklearn/linear_model/logistic.py:433: FutureWarning: Default solver will be changed to 'lbfgs' in 0.22. Specify a solver to silence this warning.\n",
      "  FutureWarning)\n"
     ]
    },
    {
     "data": {
      "image/png": "[encoded data removed]",
      "text/plain": [
       "<Figure size 432x288 with 1 Axes>"
      ]
     },
     "metadata": {
      "needs_background": "light"
     },
     "output_type": "display_data"
    }
   ],
   "source": [
    "lr = LogisticRegression()\n",
    "print_scores(lr, X_train_cluster, y_train_cluster, X_test_cluster, y_test_cluster)\n",
    "plot_roc(lr, X_test_cluster, y_test_cluster)"
   ]
  },
  {
   "cell_type": "code",
   "execution_count": 93,
   "metadata": {
    "_cell_guid": "12ef6313-337f-4ef5-903b-525a922d1bb6",
    "_uuid": "358ad871b0ccb4c3075de71c9af7e0576d31d9fd"
   },
   "outputs": [],
   "source": [
    "from sklearn.decomposition import PCA"
   ]
  },
  {
   "cell_type": "code",
   "execution_count": 94,
   "metadata": {
    "_cell_guid": "5a79e507-4f49-4fb5-af76-f83d8f43d882",
    "_uuid": "bebd637bab1e2b75eec289ffc971bad9757372d5"
   },
   "outputs": [],
   "source": [
    "X_transform_pca = PCA().fit_transform(X_transform, y[:150000])"
   ]
  },
  {
   "cell_type": "code",
   "execution_count": 96,
   "metadata": {
    "_cell_guid": "b918b018-2d87-4093-aedd-214105dcc4db",
    "_uuid": "4f03afe63158f50034e9457352fa9b848fab3e7f"
   },
   "outputs": [],
   "source": [
    "rus = RandomUnderSampler(random_state=0)\n",
    "X_resample_pca, y_resample_pca = rus.fit_sample(X_transform_pca, y[:X_transform_pca.shape[0]])"
   ]
  },
  {
   "cell_type": "code",
   "execution_count": 97,
   "metadata": {
    "_cell_guid": "23ced6a4-4914-4dbc-af72-2b745bca1733",
    "_uuid": "dd9caa8856dbd2dded60619f2301befd53dcab72"
   },
   "outputs": [],
   "source": [
    "X_train_cluster, X_test_cluster, y_train_cluster, y_test_cluster = train_test_split(X_resample_cluster,\n",
    "                                                    y_resample_cluster, stratify=y_resample_cluster, random_state=0)"
   ]
  },
  {
   "cell_type": "code",
   "execution_count": 98,
   "metadata": {
    "_cell_guid": "3ad714f5-df7a-462b-a0b2-23c1751a2e57",
    "_uuid": "dd03d740699d5c0bf79688c6cb9fe8fe09f4a7fb"
   },
   "outputs": [
    {
     "name": "stdout",
     "output_type": "stream",
     "text": [
      "F1 score: 0.680699\n",
      "AUC score: 0.675909\n"
     ]
    },
    {
     "name": "stderr",
     "output_type": "stream",
     "text": [
      "/usr/local/anaconda3/envs/mlib_demo/lib/python3.7/site-packages/sklearn/linear_model/logistic.py:433: FutureWarning: Default solver will be changed to 'lbfgs' in 0.22. Specify a solver to silence this warning.\n",
      "  FutureWarning)\n"
     ]
    },
    {
     "data": {
      "image/png": "[encoded data removed]",
      "text/plain": [
       "<Figure size 432x288 with 1 Axes>"
      ]
     },
     "metadata": {
      "needs_background": "light"
     },
     "output_type": "display_data"
    }
   ],
   "source": [
    "lr = LogisticRegression()\n",
    "print_scores(lr, X_train_cluster, y_train_cluster, X_test_cluster, y_test_cluster)\n",
    "plot_roc(lr, X_test_cluster, y_test_cluster)"
   ]
  },
  {
   "cell_type": "code",
   "execution_count": 99,
   "metadata": {
    "_cell_guid": "39290a66-2e41-4125-99a0-86d0c335672a",
    "_uuid": "0b09a2cf2091484bca976a91725720705f6f0f6f"
   },
   "outputs": [],
   "source": [
    "test_data = pd.read_csv('~/Downloads/Test\\ C\\ Release/test_set_taskc.tsv', sep='\\t',\n",
    "                        dtype={'text': object,  'id': np.int32}"
   ]
  },
  {
   "cell_type": "code",
   "execution_count": 100,
   "metadata": {
    "_cell_guid": "5cd5d4cb-5af3-4059-8d1a-906ba9b2d0a0",
    "_uuid": "9d3e6efb2ebd9e5dbea6effcc3bc92b361d5c73f"
   },
   "outputs": [
    {
     "data": {
      "text/html": [
       "<div>\n",
       "<style scoped>\n",
       "    .dataframe tbody tr th:only-of-type {\n",
       "        vertical-align: middle;\n",
       "    }\n",
       "\n",
       "    .dataframe tbody tr th {\n",
       "        vertical-align: top;\n",
       "    }\n",
       "\n",
       "    .dataframe thead th {\n",
       "        text-align: right;\n",
       "    }\n",
       "</style>\n",
       "<table border=\"1\" class=\"dataframe\">\n",
       "  <thead>\n",
       "    <tr style=\"text-align: right;\">\n",
       "      <th></th>\n",
       "      <th>qid</th>\n",
       "      <th>tweet</th>\n",
       "      <th>subtask_a</th>\n",
       "    </tr>\n",
       "  </thead>\n",
       "  <tbody>\n",
       "    <tr>\n",
       "      <th>0</th>\n",
       "      <td>78209</td>\n",
       "      <td>@USER Not smearing Canadian Conservatives. Rer...</td>\n",
       "      <td>NOT</td>\n",
       "    </tr>\n",
       "    <tr>\n",
       "      <th>1</th>\n",
       "      <td>78210</td>\n",
       "      <td>@USER @USER @USER @USER @USER @USER @USER @USE...</td>\n",
       "      <td>NOT</td>\n",
       "    </tr>\n",
       "    <tr>\n",
       "      <th>2</th>\n",
       "      <td>78216</td>\n",
       "      <td>@USER Eirc Holder: a friken idiot</td>\n",
       "      <td>OFF</td>\n",
       "    </tr>\n",
       "  </tbody>\n",
       "</table>\n",
       "</div>"
      ],
      "text/plain": [
       "     qid                                              tweet subtask_a\n",
       "0  78209  @USER Not smearing Canadian Conservatives. Rer...       NOT\n",
       "1  78210  @USER @USER @USER @USER @USER @USER @USER @USE...       NOT\n",
       "2  78216                  @USER Eirc Holder: a friken idiot       OFF"
      ]
     },
     "execution_count": 100,
     "metadata": {},
     "output_type": "execute_result"
    }
   ],
   "source": [
    "test_data.head(3)"
   ]
  },
  {
   "cell_type": "markdown",
   "metadata": {
    "_cell_guid": "86966636-bf79-4955-bf8a-ca4e4f6a3805",
    "_uuid": "4bea2603f700014a87bbbb8e33b9db90ccfa7f73"
   },
   "source": [
    "Now we'll load the test dataset and predict on that."
   ]
  },
  {
   "cell_type": "code",
   "execution_count": 101,
   "metadata": {
    "_cell_guid": "9d1b3310-e63e-49db-be3c-884925a57c64",
    "_uuid": "b41473cf21a344d2ec8e3e4c562474b838718c51"
   },
   "outputs": [
    {
     "name": "stderr",
     "output_type": "stream",
     "text": [
      "/usr/local/anaconda3/envs/mlib_demo/lib/python3.7/site-packages/ipykernel_launcher.py:1: FutureWarning: Method .as_matrix will be removed in a future version. Use .values instead.\n",
      "  \"\"\"Entry point for launching an IPython kernel.\n"
     ]
    }
   ],
   "source": [
    "X = test_data[['tweet', 'subtask_a']].as_matrix()"
   ]
  },
  {
   "cell_type": "code",
   "execution_count": 102,
   "metadata": {
    "_cell_guid": "f21ae5c9-834d-4f6e-88d2-39923b0ea93b",
    "_uuid": "50e8dda852743dbba377ee3cfdca07a9be9ae282"
   },
   "outputs": [],
   "source": [
    "X_transform = tokenize_and_transform(X, X.shape[0])"
   ]
  },
  {
   "cell_type": "code",
   "execution_count": 103,
   "metadata": {
    "_cell_guid": "97e5431f-980b-4bac-a8eb-e3a81516624c",
    "_uuid": "db84706d3a7dc4c89559fc7d8ca0596b21770c88"
   },
   "outputs": [
    {
     "name": "stdout",
     "output_type": "stream",
     "text": [
      "[[ 1.00951626  1.78763055 -0.71630443 ... -1.59714977  0.98219342\n",
      "  -1.10877258]\n",
      " [ 1.5333382  -0.7583613   0.09646049 ...  0.08484289 -1.58103886\n",
      "   1.8862416 ]\n",
      " [ 0.30053237 -0.01500009  0.35636745 ... -0.87674133  0.42940762\n",
      "  -0.2602455 ]\n",
      " ...\n",
      " [ 0.20232846 -0.06967081  0.23992441 ... -0.53912052  1.02528191\n",
      "   1.34595972]\n",
      " [ 1.42334859  3.08964732  0.56977596 ...  4.00646155 -3.9242778\n",
      "   1.70003336]\n",
      " [-1.44971484 -0.98374256 -0.96289736 ...  0.61337916  0.51588142\n",
      "   1.47209888]]\n"
     ]
    }
   ],
   "source": [
    "X_transform = scale(X_transform)\n",
    "le = LabelEncoder()\n",
    "y = le.fit_transform(y)\n",
    "print(X_transform[:10])"
   ]
  },
  {
   "cell_type": "code",
   "execution_count": 104,
   "metadata": {
    "_cell_guid": "aca3f3da-c309-483e-937a-9d8a26e91c6a",
    "_uuid": "32a17478cea2e3e18f7c1f108dfd36bdeac1f127"
   },
   "outputs": [
    {
     "ename": "IndexError",
     "evalue": "index 2 is out of bounds for axis 1 with size 2",
     "output_type": "error",
     "traceback": [
      "\u001b[0;31m---------------------------------------------------------------------------\u001b[0m",
      "\u001b[0;31mIndexError\u001b[0m                                Traceback (most recent call last)",
      "\u001b[0;32m<ipython-input-104-b8446ecf0b59>\u001b[0m in \u001b[0;36m<module>\u001b[0;34m\u001b[0m\n\u001b[0;32m----> 1\u001b[0;31m \u001b[0mX_transform\u001b[0m \u001b[0;34m=\u001b[0m \u001b[0mnp\u001b[0m\u001b[0;34m.\u001b[0m\u001b[0mappend\u001b[0m\u001b[0;34m(\u001b[0m\u001b[0mX_transform\u001b[0m \u001b[0;34m,\u001b[0m \u001b[0mnp\u001b[0m\u001b[0;34m.\u001b[0m\u001b[0mtranspose\u001b[0m\u001b[0;34m(\u001b[0m\u001b[0;34m[\u001b[0m\u001b[0mX\u001b[0m\u001b[0;34m[\u001b[0m\u001b[0;34m:\u001b[0m\u001b[0;34m,\u001b[0m \u001b[0;36m2\u001b[0m\u001b[0;34m]\u001b[0m\u001b[0;34m]\u001b[0m\u001b[0;34m)\u001b[0m\u001b[0;34m,\u001b[0m \u001b[0maxis\u001b[0m\u001b[0;34m=\u001b[0m\u001b[0;36m1\u001b[0m\u001b[0;34m)\u001b[0m\u001b[0;34m\u001b[0m\u001b[0m\n\u001b[0m",
      "\u001b[0;31mIndexError\u001b[0m: index 2 is out of bounds for axis 1 with size 2"
     ]
    }
   ],
   "source": [
    "X_transform = np.append(X_transform , np.transpose([X[:, 2]]), axis=1)"
   ]
  },
  {
   "cell_type": "markdown",
   "metadata": {
    "_cell_guid": "6f421831-5708-4940-9aa6-1672023b0f26",
    "_uuid": "1ec8aca42abfd779bc544b414129f84e4009ba3d"
   },
   "source": [
    "Now to predict the probabilities."
   ]
  },
  {
   "cell_type": "code",
   "execution_count": 114,
   "metadata": {
    "_cell_guid": "8c4d0e5d-7556-4b18-80d4-029f9222942f",
    "_uuid": "078aa2cefd77c98500d735fa582fd30001745f60"
   },
   "outputs": [],
   "source": [
    "y_pred = gs.predict_proba(X_transform)[:, 0]"
   ]
  },
  {
   "cell_type": "code",
   "execution_count": 122,
   "metadata": {
    "_cell_guid": "2d456c68-59b2-472d-b118-3dd2fc02c02e",
    "_uuid": "92fe8b0c00ed5935fc8203e260d1ae914dc8911d"
   },
   "outputs": [
    {
     "name": "stderr",
     "output_type": "stream",
     "text": [
      "/usr/local/anaconda3/envs/mlib_demo/lib/python3.7/site-packages/ipykernel_launcher.py:1: FutureWarning: Method .as_matrix will be removed in a future version. Use .values instead.\n",
      "  \"\"\"Entry point for launching an IPython kernel.\n"
     ]
    }
   ],
   "source": [
    "out_data = np.append(test_data[['tweet', 'subtask_a']].as_matrix(), np.transpose([y_pred]), axis=1)"
   ]
  },
  {
   "cell_type": "code",
   "execution_count": 123,
   "metadata": {
    "_cell_guid": "f00de242-508c-4d0e-a37f-77a1b25cebd2",
    "_uuid": "502c9d47810a9ca47c804ef7a3ded9bfcbffb0bd"
   },
   "outputs": [
    {
     "data": {
      "text/plain": [
       "(3241, 3)"
      ]
     },
     "execution_count": 123,
     "metadata": {},
     "output_type": "execute_result"
    }
   ],
   "source": [
    "out_data.shape"
   ]
  },
  {
   "cell_type": "code",
   "execution_count": 125,
   "metadata": {
    "_cell_guid": "6f288acf-f44a-4b3c-b893-3642ebb547c8",
    "_uuid": "8b8780fdbdf29ec2dd02f746664fb99ecef299fb"
   },
   "outputs": [],
   "source": [
    "np.savetxt('submission.csv', out_data, fmt='%s,%s, %f', delimiter=',')"
   ]
  }
 ],
 "metadata": {
  "kernelspec": {
   "display_name": "Python mlib_demo",
   "language": "python",
   "name": "mlib_demo"
  },
  "language_info": {
   "codemirror_mode": {
    "name": "ipython",
    "version": 3
   },
   "file_extension": ".py",
   "mimetype": "text/x-python",
   "name": "python",
   "nbconvert_exporter": "python",
   "pygments_lexer": "ipython3",
   "version": "3.7.0"
  }
 },
 "nbformat": 4,
 "nbformat_minor": 1
}
